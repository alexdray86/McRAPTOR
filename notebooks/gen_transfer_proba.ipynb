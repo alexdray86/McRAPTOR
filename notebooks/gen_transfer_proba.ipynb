{
 "cells": [
  {
   "cell_type": "markdown",
   "metadata": {},
   "source": [
    "## Compute probability of transfer success from delay distributions\n",
    "\n",
    "To be able to compute the probability of success of a given transfert, we use the arrival delay distribution compared with the next trip departure. To be able to do that, we need delay distributions for each trip arrival to a given station. Whenever we have a clear match, we can use an __cumulative distribution function__ to compute $P(X \\leq x)$ :\n",
    "\n",
    "$${\\displaystyle F_{X}(x)=\\operatorname {P} (T\\leq t)=\\sum _{t_{i}\\leq t}\\operatorname {P} (T=t_{i})=\\sum _{t_{i}\\leq t}p(t_{i}).}$$\n",
    "\n",
    "The strategy was to rely entirely on past data we have to compute $p(t_i)$, without the need of building a model which imply making additionnal assumptions. If we have enough data for a given transfer with known trip_id x stop_id, we use the the abovementionned formula to compute each $p(t_i)$ by simply using :\n",
    "\n",
    "$$p(t_i) = \\frac{x_i}{\\sum x_i}$$\n",
    "\n",
    "with $x_i$ being the number of delays at time $t_i$ from SBB historical data from 2018/2019.\n",
    "\n",
    "### Recover missing data \n",
    "\n",
    "As we are using SBB data to compute delays from timetable trip_id, we may encounter problems with the translation between the two datasets (certain trip_id/stop_id have no correspondance datasets!). We may also encounter To recover missing or faulty data, the strategy is the following :\n",
    "\n",
    "1. If we have more than 100 data points in `real` group, we rely exclusively on its delay distribution to compute probabilities for a given transfer on a `trip_id x stop_id`.\n",
    "\n",
    "_Note : `real` group corresponds to arrival time with status `geschaetz` or `real`, meaning it comes from actual measurments._\n",
    "\n",
    "2. If we do not find enough data within `real` group, we use delay distributions in `all` group (contains all delays including `prognose` status), if there is more than 100 data points for a given `trip_id x stop_id`.\n",
    "\n",
    "3. If `all` group still does not have more than 100 data points, we rely on `recovery tables` to estimate delay distributions. The strategy is the following :\n",
    "    - We make every combinations of 4 parameters we have, `trip_id`, `stop_id`, the `time` and the `transport_type`, to aggregate delays of similar transfer from historical data. We estimate a hierarchy of recovery tables, to be used in specific order to best recover missing data.\n",
    "    - We establish a hierarchy for each combination by comparing the probability of success derived from these aggregate against probability made from historical data with defined `trip_id`x`stop_id`. \n",
    "    - We use a cascade o\n",
    "\n",
    "Following this approach, we can find cumulative distribution probabilities for every combination of `trip_id x stop_id` as defined in `stop_times_df`. We will make a table with the same row order so that McRaptor can easily find their indexes. "
   ]
  },
  {
   "cell_type": "code",
   "execution_count": 160,
   "metadata": {},
   "outputs": [],
   "source": [
    "import pickle \n",
    "import gzip\n",
    "from itertools import islice\n",
    "import matplotlib as mlt \n",
    "import matplotlib.pyplot as plt\n",
    "import numpy as np \n",
    "import pandas as pd \n",
    "import math"
   ]
  },
  {
   "cell_type": "code",
   "execution_count": 161,
   "metadata": {},
   "outputs": [],
   "source": [
    "# Functon to take a slice from a dictionnary - head equivalent\n",
    "def take(n, iterable):\n",
    "    \"Return first n items of the iterable as a list\"\n",
    "    return list(islice(iterable, n))"
   ]
  },
  {
   "cell_type": "markdown",
   "metadata": {},
   "source": [
    "Load dictionnaries of distributions made in `hdfs_get_distributions.ipynb`"
   ]
  },
  {
   "cell_type": "code",
   "execution_count": 162,
   "metadata": {},
   "outputs": [
    {
     "name": "stdout",
     "output_type": "stream",
     "text": [
      "len dict_real :  16760\n",
      "[('1.TA.26-20-j19-1.1.R__8503000', array([ 0, 25, 78, 18,  5,  2,  0,  0,  0,  0,  0,  0,  0,  0,  0,  0,  0,\n",
      "        0,  0,  0,  0,  0,  0,  0,  0,  0,  0,  0,  0,  0,  0,  0])), ('1.TA.26-20-j19-1.1.R__8503003', array([ 0, 83, 31,  9,  4,  1,  0,  0,  0,  0,  0,  0,  0,  0,  0,  0,  0,\n",
      "        0,  0,  0,  0,  0,  0,  0,  0,  0,  0,  0,  0,  0,  0,  0])), ('1.TA.26-20-j19-1.1.R__8503101', array([ 3, 89, 22,  6,  5,  1,  0,  1,  1,  0,  0,  0,  0,  0,  0,  0,  0,\n",
      "        0,  0,  0,  0,  0,  0,  0,  0,  0,  0,  0,  0,  0,  0,  0])), ('1.TA.26-20-j19-1.1.R__8503104', array([ 0, 83, 21, 13,  4,  3,  2,  0,  1,  0,  1,  0,  0,  0,  0,  0,  0,\n",
      "        0,  0,  0,  0,  0,  0,  0,  0,  0,  0,  0,  0,  0,  0,  0])), ('1.TA.80-173-Y-j19-1.1.H__8502276', array([  0, 315,  61,  17,   2,   1,   0,   0,   0,   0,   0,   0,   0,\n",
      "         0,   0,   0,   0,   0,   0,   0,   0,   1,   0,   0,   0,   0,\n",
      "         0,   0,   0,   0,   0,   0]))]\n",
      "len dict_all :  240567\n",
      "[('1.TA.26-161-j19-1.1.H__8587347', array([  0, 214, 191,  71,  23,   5,   0,   1,   0,   0,   1,   1,   0,\n",
      "         0,   0,   0,   0,   0,   0,   0,   0,   0,   0,   0,   0,   0,\n",
      "         0,   0,   0,   0,   0,   0])), ('1.TA.26-161-j19-1.1.H__8590671', array([  0,  82, 155, 135,  86,  28,  12,   5,   1,   0,   2,   1,   0,\n",
      "         0,   0,   0,   0,   0,   0,   0,   0,   0,   0,   0,   0,   0,\n",
      "         0,   0,   0,   0,   0,   0])), ('1.TA.26-161-j19-1.1.H__8590677', array([  0, 118, 197, 113,  57,  16,   3,   1,   0,   0,   1,   1,   0,\n",
      "         0,   0,   0,   0,   0,   0,   0,   0,   0,   0,   0,   0,   0,\n",
      "         0,   0,   0,   0,   0,   0])), ('1.TA.26-161-j19-1.1.H__8590678', array([  0,  71, 140, 150,  88,  36,  12,   6,   1,   0,   2,   1,   0,\n",
      "         0,   0,   0,   0,   0,   0,   0,   0,   0,   0,   0,   0,   0,\n",
      "         0,   0,   0,   0,   0,   0])), ('1.TA.26-161-j19-1.1.H__8590680', array([  1, 216, 163,  74,  37,   9,   4,   0,   1,   0,   1,   1,   0,\n",
      "         0,   0,   0,   0,   0,   0,   0,   0,   0,   0,   0,   0,   0,\n",
      "         0,   0,   0,   0,   0,   0]))]\n"
     ]
    }
   ],
   "source": [
    "with gzip.open(\"../data/d_real.pkl.gz\", \"rb\") as input_file:\n",
    "    d_real = pickle.load(input_file)\n",
    "\n",
    "with gzip.open(\"../data/d_all.pkl.gz\", \"rb\") as input_file:\n",
    "    d_all = pickle.load(input_file)\n",
    "\n",
    "# display a slice of it\n",
    "print('len dict_real : ', len(d_real))\n",
    "print(take(5, d_real.items()))\n",
    "\n",
    "# display a slice of it\n",
    "print('len dict_all : ', len(d_all))\n",
    "print(take(5, d_all.items()))"
   ]
  },
  {
   "cell_type": "markdown",
   "metadata": {},
   "source": [
    "### Recover transfer with low amount of historical data\n",
    "\n",
    "When we have __enough data__ and __no ambiguity__ about `trip_id` and `stop_id` for a given transfer, then we can compute the probability $P(T \\leq t)$ for every $t$ (delay in minute). \n",
    "\n",
    "Let's take a __threshold of 100__ sample points (=number of time we could measure a delay in historical data) as a minimum number of points to use this approach. \n",
    "\n",
    "_How many keys in our distionnary of distribution have at least this number of samples ?_"
   ]
  },
  {
   "cell_type": "code",
   "execution_count": 63,
   "metadata": {},
   "outputs": [],
   "source": [
    "def plot_data_points_hist(dico, binwidth = 100):\n",
    "    list_tot_points = []\n",
    "    for key in dico:\n",
    "        distrib = dico[key]\n",
    "        list_tot_points.append(np.sum(distrib))\n",
    "\n",
    "    tot_per_key = np.array(list_tot_points)\n",
    "    n_keys_less_than_binwidth = np.sum(np.array(tot_per_key < binwidth))\n",
    "    perc_key_to_recover = round(100 * ( n_keys_less_than_binwidth / len(tot_per_key) ), 2)\n",
    "    plt.figure(figsize = (10,5))\n",
    "    plt.hist(tot_per_key, bins = range(min(tot_per_key), max(tot_per_key) + binwidth, binwidth))\n",
    "    plt.title(\"Total number of data points per trip_id / stop_id key. N keys with less than {0} points: {1} ({2}%)\"\\\n",
    "             .format(binwidth, n_keys_less_than_binwidth, perc_key_to_recover))\n",
    "    plt.xlabel('n data points')\n",
    "    plt.ylabel('n keys')\n",
    "    return plt.show()"
   ]
  },
  {
   "cell_type": "code",
   "execution_count": 64,
   "metadata": {},
   "outputs": [
    {
     "data": {
      "image/png": "[encoded data removed]",
      "text/plain": [
       "<Figure size 720x360 with 1 Axes>"
      ]
     },
     "metadata": {
      "needs_background": "light"
     },
     "output_type": "display_data"
    }
   ],
   "source": [
    "plot_data_points_hist(d_all, binwidth=50)"
   ]
  },
  {
   "cell_type": "markdown",
   "metadata": {},
   "source": [
    "We see that cases with less than 100 data points in historical data is a rare event."
   ]
  },
  {
   "cell_type": "markdown",
   "metadata": {},
   "source": [
    "### Reformat stop_times table\n",
    "\n",
    "First we need to reformat `stoptimes` table for next steps. Indeed, we need to get time rounded to the hour, correct stop_id format and type, generate `key` column using `trip_id` and `stop_id`, and droping unnecessary columns."
   ]
  },
  {
   "cell_type": "code",
   "execution_count": 66,
   "metadata": {},
   "outputs": [
    {
     "name": "stdout",
     "output_type": "stream",
     "text": [
      "0.0%, 3.84%, 7.68%, 11.52%, 15.36%, 19.2%, 23.04%, 26.88%, 30.72%, 34.55%, 38.39%, 42.23%, 46.07%, 49.91%, 53.75%, 57.59%, 61.43%, 65.27%, 69.11%, 72.95%, 76.79%, 80.63%, 84.47%, 88.31%, 92.15%, 95.98%, 99.82%, "
     ]
    }
   ],
   "source": [
    "with open(\"../data/stop_times_df_cyril.pkl\", \"rb\") as input_file:\n",
    "    stoptimes = pickle.load(input_file)\n",
    "\n",
    "# Use stop_id_general as stop_id  \n",
    "stoptimes['stop_id'] = stoptimes['stop_id_general'].apply(str)\n",
    "\n",
    "# Set same stoptimes key as distribution dictionnaries d_real/d_all\n",
    "stoptimes['key'] = stoptimes['trip_id'] + '__' + stoptimes['stop_id']\n",
    "stoptimes = stoptimes.set_index('key')\n",
    "\n",
    "# Subset stoptimes \n",
    "stoptimes = stoptimes[['trip_id','stop_id', 'route_desc', 'arrival_time', 'departure_time']]\n",
    "\n",
    "# Iterate over stoptimes to generate rounded hours\n",
    "list_hours = []\n",
    "size_stop_times = stoptimes.shape[0]\n",
    "\n",
    "for x in range(size_stop_times):\n",
    "    arr_time_hour = pd.to_datetime(stoptimes.iloc[x,:]['arrival_time']).hour\n",
    "    if math.isnan(arr_time_hour): # if arrival is NaT, use departure time\n",
    "        arr_time_hour = pd.to_datetime(stoptimes.iloc[x,:]['departure_time']).hour\n",
    "    list_hours.append(int(arr_time_hour))\n",
    "    \n",
    "    # Print % progression \n",
    "    if (x % 10000) == 0 :\n",
    "        print('{}%'.format(round(100*x/size_stop_times,2)), end = ', ')\n",
    "    \n",
    "# Add new column with rounded hour\n",
    "stoptimes['hour'] = list_hours\n",
    "stoptimes = stoptimes.drop(columns=['arrival_time', 'departure_time'])\n",
    "\n",
    "# Write this pickle to avoid re-running this above code all the time\n",
    "with gzip.open(\"../data/stop_times_wHour.pkl\", \"wb\") as output_file:\n",
    "    pickle.dump(stoptimes, output_file)         \n",
    "              "
   ]
  },
  {
   "cell_type": "markdown",
   "metadata": {},
   "source": [
    "### Construct recovery tables \n",
    "\n",
    "We make every combinations of 4 parameters we have, `trip_id`, `stop_id`, the `time` and the `transport_type`, to aggregate delays of similar transfer from historical data. We estimate a hierarchy of recovery tables, to be used in specific order to best recover missing data. \n",
    "\n",
    "_Note : trip_id does not need to be combined with time/transport_type parameters as it already imply a specific time and transport type_"
   ]
  },
  {
   "cell_type": "code",
   "execution_count": 163,
   "metadata": {},
   "outputs": [],
   "source": [
    "# load formated stop_times tables\n",
    "with gzip.open(\"../data/stop_times_wHour.pkl\", \"rb\") as input_file:\n",
    "    stoptimes = pickle.load(input_file)\n",
    "\n",
    "# load dictionnary df and stoptimes df\n",
    "distrib_df = pd.DataFrame(d_all).transpose()\n",
    "distrib_df_real = pd.DataFrame(d_real).transpose()\n",
    "\n",
    "stoptimes_df = pd.DataFrame(stoptimes)\n",
    "\n",
    "# Make join btw. stoptimes and all_distrib\n",
    "recovery_df = distrib_df.join(stoptimes_df)"
   ]
  },
  {
   "cell_type": "markdown",
   "metadata": {},
   "source": [
    "We compute a script to make recovery tables. We use data from `real` distribution to make the recovery tables, as they are more likely to be precise."
   ]
  },
  {
   "cell_type": "code",
   "execution_count": 164,
   "metadata": {},
   "outputs": [],
   "source": [
    "def make_recovery_tab(recovery_df, list_params):\n",
    "    list_bins = [x for x in range(32)]\n",
    "    # Aggregate counts on columns (delay in minute)\n",
    "    recov_tab = recovery_df.groupby(list_params)[list_bins].apply(lambda x : x.astype(float).sum())\n",
    "    recov_tab = recov_tab.astype('int')\n",
    "    return recov_tab"
   ]
  },
  {
   "cell_type": "markdown",
   "metadata": {},
   "source": [
    "We use our 4 parameters and make every possible combination of them. Note that `trip_id` does not need to be combine with `hour` and `route_desc` (transport type), as it already imply a specific time and transport type."
   ]
  },
  {
   "cell_type": "code",
   "execution_count": 165,
   "metadata": {},
   "outputs": [],
   "source": [
    "# Combination of 3 parameters\n",
    "recov_stop_time_type = make_recovery_tab(recovery_df, ['stop_id','hour','route_desc'])\n",
    "\n",
    "# Combination of 2 parameters\n",
    "recov_time_type = make_recovery_tab(recovery_df, ['hour','route_desc'])\n",
    "recov_stop_type = make_recovery_tab(recovery_df, ['stop_id','route_desc'])\n",
    "recov_stop_time = make_recovery_tab(recovery_df, ['stop_id','hour'])\n",
    "\n",
    "# single parameter aggregations\n",
    "recov_trip_id = make_recovery_tab(recovery_df, ['trip_id'])\n",
    "recov_time = make_recovery_tab(recovery_df, ['hour'])\n",
    "recov_stop = make_recovery_tab(recovery_df, ['stop_id'])\n",
    "recov_type = make_recovery_tab(recovery_df, ['route_desc'])"
   ]
  },
  {
   "cell_type": "markdown",
   "metadata": {},
   "source": [
    "Overall aggregate distribution (used when everything else fails)"
   ]
  },
  {
   "cell_type": "code",
   "execution_count": 166,
   "metadata": {},
   "outputs": [],
   "source": [
    "last_chance_distrib = np.array(recovery_df3.sum(axis=0))"
   ]
  },
  {
   "cell_type": "markdown",
   "metadata": {},
   "source": [
    "### Evaluate precision of recovery tables - establishing hierarchy of _cascade_ \n",
    "\n",
    "We used an approach we called “cascades of recovery distributions”, which define how we leverage the parameters at disposal to compute a probability. The idea is to use increasingly aggregated data to optimize the use of historical data given any possible input parameter combination. \n",
    "\n",
    "We validated this approach and defined a hierachy of recovery distribution usage by comparison with actual measures from sbb dataset. We use only data with `geschaetz` or `real` status and more than 100 data points to evaluate perfomance of our recovery tables - or in other words distributions coming from aggregated delay distribution using combination of our 4 parameters."
   ]
  },
  {
   "cell_type": "code",
   "execution_count": 167,
   "metadata": {},
   "outputs": [],
   "source": [
    "def cdf_distrib(distr_arr):\n",
    "    \"\"\"\n",
    "    Function to compute probability P(X <= x) from a given distribution\n",
    "    using a Cumulative distribution function\n",
    "    \"\"\"\n",
    "    # get total number of elements \n",
    "    N_tot = np.sum(distr_arr)\n",
    "        \n",
    "    # make cumulative distribution probabilities\n",
    "    cdf_distrib = np.empty((len(distr_arr)), dtype=float)\n",
    "    save_x = 0\n",
    "    for x in range(len(distrib)):\n",
    "        cdf_distrib[x] = float(distr_arr[x])/float(N_tot) + float(save_x)/float(N_tot)\n",
    "        save_x += distr_arr[x]\n",
    "    \n",
    "    return cdf_distrib\n",
    "\n",
    "def residual_in_cdf(cdf1, cdf2):\n",
    "    \"\"\"\n",
    "    Caluclate the average residual error abs(x1 - x2) \n",
    "    between probability distributions cdf1 and cdf2 \n",
    "    \"\"\"\n",
    "    res = N_tot = 0.0\n",
    "    for i in range(len(cdf1)):\n",
    "        res += abs(float(cdf1[i]) - float(cdf2[i]))\n",
    "        N_tot += 1.0\n",
    "    \n",
    "    return res/N_tot"
   ]
  },
  {
   "cell_type": "code",
   "execution_count": 168,
   "metadata": {},
   "outputs": [],
   "source": [
    "recovery_df_real = recovery_df.iloc[recovery_df.index.isin(distrib_df_real.index),:]"
   ]
  },
  {
   "cell_type": "code",
   "execution_count": 169,
   "metadata": {},
   "outputs": [],
   "source": [
    "# declare empty lists\n",
    "res_recov_stop_time_type, res_recov_stop_time, res_recov_stop_type, res_recov_time_type, \\\n",
    "res_recov_trip_id, res_recov_type, res_recov_stop, res_recov_time, res_fail, \\\n",
    "= ([] for i in range(9))\n",
    "\n",
    "for index, row in recovery_df_real.iterrows():\n",
    "    \n",
    "    distrib_real = np.array(row[0:32])\n",
    "    trip_id      = row['trip_id']\n",
    "    stop_id      = str(row['stop_id'])\n",
    "    transport_type = row['route_desc']\n",
    "    hour         = row['hour']\n",
    "    key          = str(trip_id) + '__' + str(stop_id)\n",
    "    \n",
    "    # control distrib with trip_id x stop_id \n",
    "    cdf_real = cdf_distrib(distrib_real)\n",
    "    sum_counts = np.sum(distrib_real)\n",
    "    \n",
    "    if sum_counts > 100 :\n",
    "        # recov - stop_time_type\n",
    "        if (stop_id, hour, transport_type) in recov_stop_time_type.index:\n",
    "            cdf = cdf_distrib(np.array(recov_stop_time_type.loc[(stop_id, hour, transport_type)]))\n",
    "            res_recov_stop_time_type.append(residual_in_cdf(cdf, cdf_real))\n",
    "        \n",
    "        # recov - time_type\n",
    "        if (hour, transport_type) in recov_time_type.index:\n",
    "            cdf = cdf_distrib(np.array(recov_time_type.loc[(hour, transport_type)]))\n",
    "            res_recov_time_type.append(residual_in_cdf(cdf, cdf_real))\n",
    "\n",
    "        # recov - stop_time\n",
    "        if (stop_id, hour) in recov_stop_time.index:\n",
    "            cdf = cdf_distrib(np.array(recov_stop_time.loc[(stop_id, hour)]))\n",
    "            res_recov_stop_time.append(residual_in_cdf(cdf, cdf_real))\n",
    "        \n",
    "        # recov - stop_type\n",
    "        if (stop_id, transport_type) in recov_stop_type.index:\n",
    "            cdf = cdf_distrib(np.array(recov_stop_type.loc[(stop_id, transport_type)]))\n",
    "            res_recov_stop_type.append(residual_in_cdf(cdf, cdf_real))\n",
    "        \n",
    "        # recov - type\n",
    "        if (transport_type) in recov_type.index:\n",
    "            cdf = cdf_distrib(np.array(recov_type.loc[(transport_type)]))\n",
    "            res_recov_type.append(residual_in_cdf(cdf, cdf_real))\n",
    "        \n",
    "        # recov - trip_id \n",
    "        if (trip_id) in recov_trip_id.index:\n",
    "            cdf = cdf_distrib(np.array(recov_trip_id.loc[(trip_id)]))\n",
    "            res_recov_trip_id.append(residual_in_cdf(cdf, cdf_real))\n",
    "        \n",
    "        # recov - stop\n",
    "        if (stop_id) in recov_stop.index:\n",
    "            cdf = cdf_distrib(np.array(recov_stop.loc[(stop_id)]))\n",
    "            res_recov_stop.append(residual_in_cdf(cdf, cdf_real))\n",
    "        \n",
    "        # recov - time\n",
    "        if (hour) in recov_time.index:\n",
    "            cdf = cdf_distrib(np.array(recov_time.loc[(hour)]))\n",
    "            res_recov_time.append(residual_in_cdf(cdf, cdf_real))\n",
    "        \n",
    "        # Evaluate compare with overall_average\n",
    "        cdf_overall = cdf_distrib(last_chance_distrib)\n",
    "        res_fail.append(residual_in_cdf(cdf_overall, cdf_real))\n",
    "        "
   ]
  },
  {
   "cell_type": "code",
   "execution_count": 217,
   "metadata": {},
   "outputs": [
    {
     "data": {
      "image/png": "[encoded data removed]",
      "text/plain": [
       "<Figure size 576x432 with 1 Axes>"
      ]
     },
     "metadata": {
      "needs_background": "light"
     },
     "output_type": "display_data"
    }
   ],
   "source": [
    "# Assemble residuals to make datasframe \n",
    "all_residuals = pd.DataFrame([res_recov_stop_time_type, res_recov_time_type, \\\n",
    "                              res_recov_type, res_recov_trip_id, \\\n",
    "                              res_recov_stop_type, res_recov_stop_time, res_recov_stop, \\\n",
    "                              res_recov_time, res_fail], \\\n",
    "                             index = ['recov_stop_time_type', 'recov_time_type', \\\n",
    "                                      'recov_type', \\\n",
    "                                      'recov_trip_id', 'recov_stop_type',\\\n",
    "                                      'recov_stop_time', \\\n",
    "                                      'recov_stop', 'recov_time', \\\n",
    "                                      'baseline average error']).transpose()\n",
    "# Sort before plotting\n",
    "meds = all_residuals.median()\n",
    "meds.sort_values(ascending=False, inplace=True)\n",
    "all_residuals = all_residuals[meds.index]\n",
    "\n",
    "# Boxplot or residuals per recovery tables\n",
    "plt.figure(figsize = (8,6))\n",
    "plt.gcf().subplots_adjust(bottom=0.5, left = 0.2)\n",
    "all_residuals.boxplot(vert=False, showfliers=False)\n",
    "plt.xlabel('residual error $\\sum $ | $P(T \\leq t_i)_{true} - P(T \\leq t_i)_{estimated} $ |')\n",
    "plt.savefig(\"../data/figs/recov_tab_residuals_final.pdf\", dpi=300)\n",
    "plt.show()"
   ]
  },
  {
   "cell_type": "markdown",
   "metadata": {},
   "source": [
    "The order of importance of recovery tables is therefore :\n",
    "1. recov_trip_id \n",
    "2. recov_stop_time_type\n",
    "3. recov_stop_time\n",
    "4. recov_stop\n",
    "5. recov_time_type\n",
    "6. recov_type\n",
    "7. recov_time"
   ]
  },
  {
   "cell_type": "markdown",
   "metadata": {},
   "source": [
    "### Reconstruct cumulative distribution probabilities from multiple distributions to recover data with few/missing points \n",
    "\n",
    "At this point, we have 2 dictionnaries of distributions and multiple recovery dataframes :\n",
    "\n",
    " - `d_real` : contains delay distribution for each keys in form `trip_id + __ + stop_id` calculated from delays with status `geschaetz` or `real` in sbb datasets.\n",
    " - `d_all` : contains delay distributions for each keys in form `trip_id + __ + stop_id`. No filter was applied on status (contains `geschaetz`, `real` __and__ `prognose` = evaluated delay).\n",
    " - `Recovery tables` with different combinations of parameters, are used in the order defined in previous section. Once we find a recovery distribution with more than 100 data points, we __stop the process of recovery__ by seetting the bolean `keep_trying` to `False`."
   ]
  },
  {
   "cell_type": "code",
   "execution_count": 211,
   "metadata": {},
   "outputs": [],
   "source": [
    "def try_recovery(recov_df, tup, keep_trying, n_recov, all_distrib):\n",
    "    \"\"\"\n",
    "    Use recovery_df to TRY a recovery if parameters in tuple tup\n",
    "    exists in target recovery df, and if keep_trying is True\n",
    "    \"\"\"\n",
    "    if keep_trying and tup in recov_df.index:\n",
    "        distrib = np.array(recov_df.loc[tup])\n",
    "        sum_distrib = np.sum(distrib)\n",
    "        if sum_distrib > 100 :\n",
    "            #summary_df.loc[index, 'distribution'] = distrib\n",
    "            all_distrib.append(distrib)\n",
    "            keep_trying = False \n",
    "            n_recov += 1\n",
    "    return n_recov, keep_trying, all_distrib"
   ]
  },
  {
   "cell_type": "code",
   "execution_count": 221,
   "metadata": {},
   "outputs": [
    {
     "name": "stdout",
     "output_type": "stream",
     "text": [
      "0.0%, 3.84%, 7.68%, 11.52%, 15.36%, 19.2%, 23.04%, 26.88%, 30.72%, 34.55%, 38.39%, 42.23%, 46.07%, 49.91%, 53.75%, 57.59%, 61.43%, 65.27%, 69.11%, 72.95%, 76.79%, 80.63%, 84.47%, 88.31%, 92.15%, 95.98%, 99.82%, "
     ]
    }
   ],
   "source": [
    "############### MAKE FINAL DISTRIBUTION TABLE USING RECOVERY TABLES ################\n",
    "\n",
    "# Load stop_time table, to use its order as a template for our final table \n",
    "with open(\"../data/stop_times_df_cyril.pkl\", \"rb\") as input_file:\n",
    "    stoptimes = pickle.load(input_file)\n",
    "    \n",
    "\n",
    "# declare empty variables \n",
    "size_stop_times = stoptimes.shape[0]\n",
    "\n",
    "n_fail = n_real = n_all = n_recov_stop_time_type = n_recov_stop_time =\\\n",
    "n_recov_stop_type = n_recov_time_type = n_recov_stop =\\\n",
    "n_recov_time = n_recov_type = n_recov_trip_id = i = 0\n",
    "\n",
    "all_distrib, all_transport_type, all_hours, all_keys = \\\n",
    "    ([] for i in range(4))\n",
    "\n",
    "# Get useful indexes\n",
    "stop_id_idx = stoptimes.columns.get_loc(\"stop_id_general\")\n",
    "trip_id_idx = stoptimes.columns.get_loc(\"trip_id\")\n",
    "transport_type_idx = stoptimes.columns.get_loc(\"route_desc\")\n",
    "\n",
    "for index, row in stoptimes.iterrows():\n",
    "    \n",
    "    trip_id = row[trip_id_idx]\n",
    "    stop_id = str(row[stop_id_idx])\n",
    "    transport_type = row[transport_type_idx]\n",
    "    key = str(trip_id) + '__' + str(stop_id)\n",
    "\n",
    "    # Compute rounded hour using arrival if possible - recover with departure\n",
    "    hour = pd.to_datetime(stoptimes.loc[index]['arrival_time']).hour\n",
    "    if math.isnan(hour): # if arrival is NaT, use departure time\n",
    "        hour = pd.to_datetime(stoptimes.loc[index]['departure_time']).hour\n",
    "    \n",
    "    distrib = np.zeros(31)\n",
    "    \n",
    "    # this boolean variable is usefull to STOP the recovery process once a proper\n",
    "    # distribution with sufficient data points is found \n",
    "    keep_trying = True\n",
    "    \n",
    "    # 1) try d_real to get distribution from measured delays\n",
    "    if key in d_real:\n",
    "        distrib = d_real[key]\n",
    "        sum_distrib = np.sum(distrib)\n",
    "        if sum_distrib > 100 :\n",
    "            #summary_df.loc[index, 'distribution'] = distrib\n",
    "            all_distrib.append(distrib)\n",
    "            keep_trying = False \n",
    "            n_real += 1\n",
    "    \n",
    "    # 2) try d_all to get distribution from measured + estimated delays\n",
    "    if keep_trying and key in d_all:\n",
    "        distrib = d_all[key]\n",
    "        sum_distrib = np.sum(distrib)\n",
    "        if sum_distrib > 100 :\n",
    "            #summary_df.loc[index, 'distribution'] = distrib\n",
    "            all_distrib.append(distrib)\n",
    "            keep_trying = False\n",
    "            n_all += 1\n",
    "    \n",
    "    # 3) try recovery tables in order previously defined\n",
    "    n_recov_trip_id, keep_trying, all_distrib =\\\n",
    "        try_recovery(recov_trip_id,   (trip_id), keep_trying, n_recov_trip_id, all_distrib)\n",
    "    n_recov_stop_time_type, keep_trying, all_distrib =\\\n",
    "        try_recovery(recov_stop_time_type, (stop_id, hour, transport_type), \\\n",
    "                 keep_trying, n_recov_stop_time_type, all_distrib)\n",
    "    n_recov_stop_time, keep_trying, all_distrib =\\\n",
    "        try_recovery(recov_stop_time, (stop_id, hour), keep_trying, n_recov_stop_time, all_distrib)\n",
    "    n_recov_stop, keep_trying, all_distrib =\\\n",
    "        try_recovery(recov_stop, (stop_id), keep_trying, n_recov_stop, all_distrib)\n",
    "    n_recov_time_type, keep_trying, all_distrib =\\\n",
    "        try_recovery(recov_time_type, (hour, transport_type), keep_trying, n_recov_time_type, all_distrib)\n",
    "    n_recov_type, keep_trying, all_distrib =\\\n",
    "        try_recovery(recov_type, (transport_type), keep_trying, n_recov_type, all_distrib)\n",
    "    n_recov_time, keep_trying, all_distrib =\\\n",
    "        try_recovery(recov_time, (hour), keep_trying, n_recov_time, all_distrib)\n",
    "    \n",
    "    # save parameters for summary\n",
    "    all_keys.append(key)\n",
    "    all_hours.append(hour)\n",
    "    all_transport_type.append(transport_type)\n",
    "\n",
    "    # save number of failure for recovery\n",
    "    if keep_trying:\n",
    "        #print('fail{}'.format(index), end = ', ')\n",
    "        all_distrib.append(last_chance_distrib)\n",
    "        n_fail += 1 \n",
    "        \n",
    "    # print progression \n",
    "    if (index % 10000) == 0 :\n",
    "        print('{}%'.format(round(100*index/size_stop_times,2)), end = ', ')"
   ]
  },
  {
   "cell_type": "code",
   "execution_count": 224,
   "metadata": {},
   "outputs": [
    {
     "data": {
      "image/png": "[encoded data removed]",
      "text/plain": [
       "<Figure size 576x432 with 1 Axes>"
      ]
     },
     "metadata": {
      "needs_background": "light"
     },
     "output_type": "display_data"
    }
   ],
   "source": [
    "plt.figure(figsize = (8,6))\n",
    "plt.barh(np.array(['real / geschaetz','real / geschaetz / prognose','recov_trip_id',\\\n",
    "                   'recov_stop_time_type','recov_stop', 'recov_time_type',\\\n",
    "                   'recov_type', 'recov_time', 'fail'])[::-1],\\\n",
    "         np.array([n_real, n_all, n_recov_trip_id, n_recov_stop_time_type, \\\n",
    "                   n_recov_stop_time, n_recov_stop, n_recov_time_type, \\\n",
    "                   n_recov_type, n_recov_time])[::-1])\n",
    "plt.title('where the distribution data come from')\n",
    "plt.gcf().subplots_adjust(bottom=0.5, left = 0.2)\n",
    "plt.savefig(\"../data/figs/data_final_origin.pdf\", dpi=300)\n",
    "plt.show()"
   ]
  },
  {
   "cell_type": "markdown",
   "metadata": {},
   "source": [
    "Above plot show where does the final distribution come from. First two lines are data with a perfect match for `trip_id` x `stop_id`. Others show recovery tables used in order of their hierarchy established in last part.\n",
    "\n",
    "Next we build a summary of results and use `stoptimes` to drive writing of the last table (and make sure we get the right order for our final pre-compute array of probabilities)."
   ]
  },
  {
   "cell_type": "code",
   "execution_count": 225,
   "metadata": {},
   "outputs": [
    {
     "data": {
      "text/html": [
       "<div>\n",
       "<style scoped>\n",
       "    .dataframe tbody tr th:only-of-type {\n",
       "        vertical-align: middle;\n",
       "    }\n",
       "\n",
       "    .dataframe tbody tr th {\n",
       "        vertical-align: top;\n",
       "    }\n",
       "\n",
       "    .dataframe thead th {\n",
       "        text-align: right;\n",
       "    }\n",
       "</style>\n",
       "<table border=\"1\" class=\"dataframe\">\n",
       "  <thead>\n",
       "    <tr style=\"text-align: right;\">\n",
       "      <th></th>\n",
       "      <th>key</th>\n",
       "      <th>hour</th>\n",
       "      <th>transport_type</th>\n",
       "      <th>distribution</th>\n",
       "    </tr>\n",
       "  </thead>\n",
       "  <tbody>\n",
       "    <tr>\n",
       "      <th>0</th>\n",
       "      <td>2064.TA.26-13-j19-1.24.H__8576240</td>\n",
       "      <td>7</td>\n",
       "      <td>Tram</td>\n",
       "      <td>[16, 497, 62, 14, 2, 3, 4, 0, 0, 1, 0, 0, 0, 0...</td>\n",
       "    </tr>\n",
       "    <tr>\n",
       "      <th>1</th>\n",
       "      <td>2064.TA.26-13-j19-1.24.H__8591353</td>\n",
       "      <td>7</td>\n",
       "      <td>Tram</td>\n",
       "      <td>[2, 512, 58, 18, 3, 2, 2, 1, 0, 0, 1, 0, 0, 0,...</td>\n",
       "    </tr>\n",
       "    <tr>\n",
       "      <th>2</th>\n",
       "      <td>2064.TA.26-13-j19-1.24.H__8591039</td>\n",
       "      <td>7</td>\n",
       "      <td>Tram</td>\n",
       "      <td>[0, 417, 69, 11, 2, 0, 0, 1, 0, 0, 1, 0, 0, 0,...</td>\n",
       "    </tr>\n",
       "    <tr>\n",
       "      <th>3</th>\n",
       "      <td>2064.TA.26-13-j19-1.24.H__8591121</td>\n",
       "      <td>7</td>\n",
       "      <td>Tram</td>\n",
       "      <td>[0, 405, 80, 12, 1, 1, 0, 1, 0, 0, 0, 1, 0, 0,...</td>\n",
       "    </tr>\n",
       "    <tr>\n",
       "      <th>4</th>\n",
       "      <td>2064.TA.26-13-j19-1.24.H__8591417</td>\n",
       "      <td>7</td>\n",
       "      <td>Tram</td>\n",
       "      <td>[0, 389, 81, 24, 4, 1, 0, 1, 0, 0, 0, 0, 1, 0,...</td>\n",
       "    </tr>\n",
       "  </tbody>\n",
       "</table>\n",
       "</div>"
      ],
      "text/plain": [
       "                                 key hour transport_type  \\\n",
       "0  2064.TA.26-13-j19-1.24.H__8576240    7           Tram   \n",
       "1  2064.TA.26-13-j19-1.24.H__8591353    7           Tram   \n",
       "2  2064.TA.26-13-j19-1.24.H__8591039    7           Tram   \n",
       "3  2064.TA.26-13-j19-1.24.H__8591121    7           Tram   \n",
       "4  2064.TA.26-13-j19-1.24.H__8591417    7           Tram   \n",
       "\n",
       "                                        distribution  \n",
       "0  [16, 497, 62, 14, 2, 3, 4, 0, 0, 1, 0, 0, 0, 0...  \n",
       "1  [2, 512, 58, 18, 3, 2, 2, 1, 0, 0, 1, 0, 0, 0,...  \n",
       "2  [0, 417, 69, 11, 2, 0, 0, 1, 0, 0, 1, 0, 0, 0,...  \n",
       "3  [0, 405, 80, 12, 1, 1, 0, 1, 0, 0, 0, 1, 0, 0,...  \n",
       "4  [0, 389, 81, 24, 4, 1, 0, 1, 0, 0, 0, 0, 1, 0,...  "
      ]
     },
     "execution_count": 225,
     "metadata": {},
     "output_type": "execute_result"
    }
   ],
   "source": [
    "summary_df = pd.DataFrame([all_keys, all_hours, all_transport_type, all_distrib],\\\n",
    "                          index = ['key','hour','transport_type','distribution']).transpose()\n",
    "summary_df.head()"
   ]
  },
  {
   "cell_type": "markdown",
   "metadata": {},
   "source": [
    " We will now use these in order to reconstruct the final table with $P(T\\leq t_i)$ for each time points between -1 and +30, using a cumulative probability function as mentionned above."
   ]
  },
  {
   "cell_type": "code",
   "execution_count": 226,
   "metadata": {},
   "outputs": [],
   "source": [
    "list_all_rows = []\n",
    "for index, row in summary_df.iterrows():\n",
    "    distrib = np.array(row['distribution'])\n",
    "    \n",
    "    # get total number of elements \n",
    "    N = np.sum(distrib)\n",
    "        \n",
    "    # make cumulative distribution probabilities\n",
    "    cdf_distrib = np.empty((len(distrib)), dtype=float)\n",
    "    save_x = 0\n",
    "    for x in range(len(distrib)):\n",
    "        cdf_distrib[x] = float(distrib[x])/float(N) + float(save_x)/float(N)\n",
    "        save_x += distrib[x]\n",
    "        \n",
    "    list_all_rows.append(cdf_distrib)"
   ]
  },
  {
   "cell_type": "code",
   "execution_count": 227,
   "metadata": {},
   "outputs": [
    {
     "data": {
      "text/plain": [
       "array([[0.0266223 , 0.85357737, 0.95673877, 0.98003328, 0.98336106,\n",
       "        0.98835275, 0.99500832, 0.99500832, 0.99500832, 0.99667221,\n",
       "        0.99667221, 0.99667221, 0.99667221, 0.99667221, 0.99667221,\n",
       "        0.99667221, 0.99667221, 0.99667221, 0.99667221, 0.99667221,\n",
       "        0.99667221, 0.99667221, 0.99667221, 0.99667221, 1.        ,\n",
       "        1.        , 1.        , 1.        , 1.        , 1.        ,\n",
       "        1.        , 1.        ],\n",
       "       [0.00332779, 0.85524126, 0.95174709, 0.98169717, 0.98668885,\n",
       "        0.99001664, 0.99334443, 0.99500832, 0.99500832, 0.99500832,\n",
       "        0.99667221, 0.99667221, 0.99667221, 0.99667221, 0.99667221,\n",
       "        0.99667221, 0.99667221, 0.99667221, 0.99667221, 0.99667221,\n",
       "        0.99667221, 0.99667221, 0.99667221, 0.99667221, 1.        ,\n",
       "        1.        , 1.        , 1.        , 1.        , 1.        ,\n",
       "        1.        , 1.        ],\n",
       "       [0.        , 0.82902584, 0.96620278, 0.98807157, 0.99204771,\n",
       "        0.99204771, 0.99204771, 0.99403579, 0.99403579, 0.99403579,\n",
       "        0.99602386, 0.99602386, 0.99602386, 0.99602386, 0.99602386,\n",
       "        0.99602386, 0.99602386, 0.99602386, 0.99602386, 0.99602386,\n",
       "        0.99602386, 0.99602386, 0.99602386, 1.        , 1.        ,\n",
       "        1.        , 1.        , 1.        , 1.        , 1.        ,\n",
       "        1.        , 1.        ],\n",
       "       [0.        , 0.80516899, 0.96421471, 0.98807157, 0.99005964,\n",
       "        0.99204771, 0.99204771, 0.99403579, 0.99403579, 0.99403579,\n",
       "        0.99403579, 0.99602386, 0.99602386, 0.99602386, 0.99602386,\n",
       "        0.99602386, 0.99602386, 0.99602386, 0.99602386, 0.99602386,\n",
       "        0.99602386, 0.99602386, 1.        , 1.        , 1.        ,\n",
       "        1.        , 1.        , 1.        , 1.        , 1.        ,\n",
       "        1.        , 1.        ],\n",
       "       [0.        , 0.77335984, 0.93439364, 0.98210736, 0.99005964,\n",
       "        0.99204771, 0.99204771, 0.99403579, 0.99403579, 0.99403579,\n",
       "        0.99403579, 0.99403579, 0.99602386, 0.99602386, 0.99602386,\n",
       "        0.99602386, 0.99602386, 0.99602386, 0.99602386, 0.99602386,\n",
       "        0.99602386, 0.99602386, 1.        , 1.        , 1.        ,\n",
       "        1.        , 1.        , 1.        , 1.        , 1.        ,\n",
       "        1.        , 1.        ]])"
      ]
     },
     "execution_count": 227,
     "metadata": {},
     "output_type": "execute_result"
    }
   ],
   "source": [
    "final_df = pd.DataFrame(list_all_rows)\n",
    "final_df.index = summary_df.index\n",
    "final_np = final_df.to_numpy()\n",
    "final_np[0:5,:]"
   ]
  },
  {
   "cell_type": "markdown",
   "metadata": {},
   "source": [
    "Last check if all indexes corresponds to `stoptimes` indexes :"
   ]
  },
  {
   "cell_type": "code",
   "execution_count": 228,
   "metadata": {},
   "outputs": [
    {
     "data": {
      "text/plain": [
       "True"
      ]
     },
     "execution_count": 228,
     "metadata": {},
     "output_type": "execute_result"
    }
   ],
   "source": [
    "sum(np.array(final_df.index == stoptimes.index)) == stoptimes.shape[0]"
   ]
  },
  {
   "cell_type": "markdown",
   "metadata": {},
   "source": [
    "We write the final table, which is the input of McRaptor"
   ]
  },
  {
   "cell_type": "code",
   "execution_count": 229,
   "metadata": {},
   "outputs": [],
   "source": [
    "################################## WRITE FINAL NUMPY ##################################\n",
    "with gzip.open(\"../data/transfer_probabilities.pkl.gz\", \"wb\") as output_file:\n",
    "    pickle.dump(final_np, output_file)"
   ]
  }
 ],
 "metadata": {
  "kernelspec": {
   "display_name": "Python 3",
   "language": "python",
   "name": "python3"
  },
  "language_info": {
   "codemirror_mode": {
    "name": "ipython",
    "version": 3
   },
   "file_extension": ".py",
   "mimetype": "text/x-python",
   "name": "python",
   "nbconvert_exporter": "python",
   "pygments_lexer": "ipython3",
   "version": "3.7.6"
  }
 },
 "nbformat": 4,
 "nbformat_minor": 4
}
