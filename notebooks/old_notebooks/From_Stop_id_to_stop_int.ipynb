{
 "cells": [
  {
   "cell_type": "markdown",
   "metadata": {},
   "source": [
    "# function to transfer from stop_id to stop_int\n",
    "Note book to be deleted after incorporating function in MC raptor"
   ]
  },
  {
   "cell_type": "code",
   "execution_count": 2,
   "metadata": {},
   "outputs": [],
   "source": [
    "import pandas as pd\n",
    "import numpy as np\n",
    "import pickle"
   ]
  },
  {
   "cell_type": "markdown",
   "metadata": {},
   "source": [
    "Import the stop_times dataset"
   ]
  },
  {
   "cell_type": "code",
   "execution_count": 4,
   "metadata": {},
   "outputs": [],
   "source": [
    "with open('../data/stop_times_df_cyril.pkl','rb') as f: stop_times_df = pickle.load(f)"
   ]
  },
  {
   "cell_type": "code",
   "execution_count": 5,
   "metadata": {},
   "outputs": [
    {
     "data": {
      "text/html": [
       "<div>\n",
       "<style scoped>\n",
       "    .dataframe tbody tr th:only-of-type {\n",
       "        vertical-align: middle;\n",
       "    }\n",
       "\n",
       "    .dataframe tbody tr th {\n",
       "        vertical-align: top;\n",
       "    }\n",
       "\n",
       "    .dataframe thead th {\n",
       "        text-align: right;\n",
       "    }\n",
       "</style>\n",
       "<table border=\"1\" class=\"dataframe\">\n",
       "  <thead>\n",
       "    <tr style=\"text-align: right;\">\n",
       "      <th></th>\n",
       "      <th>route_id</th>\n",
       "      <th>stop_id_general</th>\n",
       "      <th>trip_id</th>\n",
       "      <th>stop_id</th>\n",
       "      <th>arrival_time</th>\n",
       "      <th>departure_time</th>\n",
       "      <th>stop_sequence</th>\n",
       "      <th>stop_name</th>\n",
       "      <th>stop_lat</th>\n",
       "      <th>stop_lon</th>\n",
       "      <th>trip_headsign</th>\n",
       "      <th>trip_short_name</th>\n",
       "      <th>direction_id</th>\n",
       "      <th>departure_first_stop</th>\n",
       "      <th>route_int</th>\n",
       "      <th>stop_count</th>\n",
       "      <th>stop_int</th>\n",
       "      <th>route_desc</th>\n",
       "      <th>departure_first_shift_1</th>\n",
       "    </tr>\n",
       "  </thead>\n",
       "  <tbody>\n",
       "    <tr>\n",
       "      <th>93111</th>\n",
       "      <td>26-10-j19-1</td>\n",
       "      <td>8573205</td>\n",
       "      <td>1672.TA.26-10-j19-1.11.R</td>\n",
       "      <td>8573205</td>\n",
       "      <td>NaT</td>\n",
       "      <td>2020-05-23 07:01:00</td>\n",
       "      <td>27</td>\n",
       "      <td>Zürich Flughafen, Bahnhof</td>\n",
       "      <td>47.450441</td>\n",
       "      <td>8.563729</td>\n",
       "      <td>Zürich Flughafen, Fracht</td>\n",
       "      <td>4096</td>\n",
       "      <td>1</td>\n",
       "      <td>07:01:00</td>\n",
       "      <td>0</td>\n",
       "      <td>2</td>\n",
       "      <td>298</td>\n",
       "      <td>Tram</td>\n",
       "      <td>07:01:00</td>\n",
       "    </tr>\n",
       "    <tr>\n",
       "      <th>93112</th>\n",
       "      <td>26-10-j19-1</td>\n",
       "      <td>8588553</td>\n",
       "      <td>1672.TA.26-10-j19-1.11.R</td>\n",
       "      <td>8588553</td>\n",
       "      <td>2020-05-23 07:02:00</td>\n",
       "      <td>NaT</td>\n",
       "      <td>28</td>\n",
       "      <td>Zürich Flughafen, Fracht</td>\n",
       "      <td>47.452494</td>\n",
       "      <td>8.572057</td>\n",
       "      <td>Zürich Flughafen, Fracht</td>\n",
       "      <td>4096</td>\n",
       "      <td>1</td>\n",
       "      <td>07:01:00</td>\n",
       "      <td>0</td>\n",
       "      <td>2</td>\n",
       "      <td>1295</td>\n",
       "      <td>Tram</td>\n",
       "      <td>07:00:00</td>\n",
       "    </tr>\n",
       "    <tr>\n",
       "      <th>93113</th>\n",
       "      <td>26-13-j19-1</td>\n",
       "      <td>8576240</td>\n",
       "      <td>2064.TA.26-13-j19-1.24.H</td>\n",
       "      <td>8576240</td>\n",
       "      <td>NaT</td>\n",
       "      <td>2020-05-23 07:00:00</td>\n",
       "      <td>5</td>\n",
       "      <td>Zürich, Meierhofplatz</td>\n",
       "      <td>47.402010</td>\n",
       "      <td>8.499374</td>\n",
       "      <td>Zürich, Albisgütli</td>\n",
       "      <td>1831</td>\n",
       "      <td>0</td>\n",
       "      <td>07:00:00</td>\n",
       "      <td>1</td>\n",
       "      <td>26</td>\n",
       "      <td>1222</td>\n",
       "      <td>Tram</td>\n",
       "      <td>07:00:00</td>\n",
       "    </tr>\n",
       "    <tr>\n",
       "      <th>93114</th>\n",
       "      <td>26-13-j19-1</td>\n",
       "      <td>8591353</td>\n",
       "      <td>2064.TA.26-13-j19-1.24.H</td>\n",
       "      <td>8591353</td>\n",
       "      <td>2020-05-23 07:01:00</td>\n",
       "      <td>2020-05-23 07:01:00</td>\n",
       "      <td>6</td>\n",
       "      <td>Zürich, Schwert</td>\n",
       "      <td>47.399730</td>\n",
       "      <td>8.504611</td>\n",
       "      <td>Zürich, Albisgütli</td>\n",
       "      <td>1831</td>\n",
       "      <td>0</td>\n",
       "      <td>07:00:00</td>\n",
       "      <td>1</td>\n",
       "      <td>26</td>\n",
       "      <td>816</td>\n",
       "      <td>Tram</td>\n",
       "      <td>07:00:00</td>\n",
       "    </tr>\n",
       "    <tr>\n",
       "      <th>93115</th>\n",
       "      <td>26-13-j19-1</td>\n",
       "      <td>8591039</td>\n",
       "      <td>2064.TA.26-13-j19-1.24.H</td>\n",
       "      <td>8591039</td>\n",
       "      <td>2020-05-23 07:02:00</td>\n",
       "      <td>2020-05-23 07:02:00</td>\n",
       "      <td>7</td>\n",
       "      <td>Zürich, Alte Trotte</td>\n",
       "      <td>47.397766</td>\n",
       "      <td>8.507252</td>\n",
       "      <td>Zürich, Albisgütli</td>\n",
       "      <td>1831</td>\n",
       "      <td>0</td>\n",
       "      <td>07:00:00</td>\n",
       "      <td>1</td>\n",
       "      <td>26</td>\n",
       "      <td>778</td>\n",
       "      <td>Tram</td>\n",
       "      <td>07:00:00</td>\n",
       "    </tr>\n",
       "  </tbody>\n",
       "</table>\n",
       "</div>"
      ],
      "text/plain": [
       "          route_id  stop_id_general                   trip_id  stop_id  \\\n",
       "93111  26-10-j19-1          8573205  1672.TA.26-10-j19-1.11.R  8573205   \n",
       "93112  26-10-j19-1          8588553  1672.TA.26-10-j19-1.11.R  8588553   \n",
       "93113  26-13-j19-1          8576240  2064.TA.26-13-j19-1.24.H  8576240   \n",
       "93114  26-13-j19-1          8591353  2064.TA.26-13-j19-1.24.H  8591353   \n",
       "93115  26-13-j19-1          8591039  2064.TA.26-13-j19-1.24.H  8591039   \n",
       "\n",
       "             arrival_time      departure_time  stop_sequence  \\\n",
       "93111                 NaT 2020-05-23 07:01:00             27   \n",
       "93112 2020-05-23 07:02:00                 NaT             28   \n",
       "93113                 NaT 2020-05-23 07:00:00              5   \n",
       "93114 2020-05-23 07:01:00 2020-05-23 07:01:00              6   \n",
       "93115 2020-05-23 07:02:00 2020-05-23 07:02:00              7   \n",
       "\n",
       "                       stop_name   stop_lat  stop_lon  \\\n",
       "93111  Zürich Flughafen, Bahnhof  47.450441  8.563729   \n",
       "93112   Zürich Flughafen, Fracht  47.452494  8.572057   \n",
       "93113      Zürich, Meierhofplatz  47.402010  8.499374   \n",
       "93114            Zürich, Schwert  47.399730  8.504611   \n",
       "93115        Zürich, Alte Trotte  47.397766  8.507252   \n",
       "\n",
       "                  trip_headsign  trip_short_name  direction_id  \\\n",
       "93111  Zürich Flughafen, Fracht             4096             1   \n",
       "93112  Zürich Flughafen, Fracht             4096             1   \n",
       "93113        Zürich, Albisgütli             1831             0   \n",
       "93114        Zürich, Albisgütli             1831             0   \n",
       "93115        Zürich, Albisgütli             1831             0   \n",
       "\n",
       "      departure_first_stop  route_int  stop_count  stop_int route_desc  \\\n",
       "93111             07:01:00          0           2       298       Tram   \n",
       "93112             07:01:00          0           2      1295       Tram   \n",
       "93113             07:00:00          1          26      1222       Tram   \n",
       "93114             07:00:00          1          26       816       Tram   \n",
       "93115             07:00:00          1          26       778       Tram   \n",
       "\n",
       "      departure_first_shift_1  \n",
       "93111                07:01:00  \n",
       "93112                07:00:00  \n",
       "93113                07:00:00  \n",
       "93114                07:00:00  \n",
       "93115                07:00:00  "
      ]
     },
     "execution_count": 5,
     "metadata": {},
     "output_type": "execute_result"
    }
   ],
   "source": [
    "stop_times_df.head(5)"
   ]
  },
  {
   "cell_type": "code",
   "execution_count": 16,
   "metadata": {},
   "outputs": [
    {
     "data": {
      "text/plain": [
       "1222"
      ]
     },
     "execution_count": 16,
     "metadata": {},
     "output_type": "execute_result"
    }
   ],
   "source": [
    "p = 8576240\n",
    "stop_times_df[stop_times_df.stop_id == str(p)].iloc[0].stop_int"
   ]
  },
  {
   "cell_type": "code",
   "execution_count": 29,
   "metadata": {},
   "outputs": [
    {
     "data": {
      "text/plain": [
       "1222"
      ]
     },
     "execution_count": 29,
     "metadata": {},
     "output_type": "execute_result"
    }
   ],
   "source": [
    "stop_int = stop_times_df[stop_times_df.stop_id == str(8576240)].iloc[0].stop_int\n",
    "stop_int"
   ]
  },
  {
   "cell_type": "code",
   "execution_count": 23,
   "metadata": {},
   "outputs": [],
   "source": [
    "def get_stop_int_from_id(p):\n",
    "    stop_int = stop_times_df[stop_times_df.stop_id == str(p)].iloc[0].stop_int\n",
    "    return stop_int"
   ]
  },
  {
   "cell_type": "code",
   "execution_count": 24,
   "metadata": {},
   "outputs": [],
   "source": [
    "def get_stop_id_from_int(p):\n",
    "    stop_id = stop_times_df[stop_times_df.stop_int == p].iloc[0].stop_id\n",
    "    return stop_id"
   ]
  },
  {
   "cell_type": "code",
   "execution_count": 30,
   "metadata": {},
   "outputs": [
    {
     "data": {
      "text/plain": [
       "1222"
      ]
     },
     "execution_count": 30,
     "metadata": {},
     "output_type": "execute_result"
    }
   ],
   "source": [
    "get_stop_int_from_id(p)"
   ]
  },
  {
   "cell_type": "code",
   "execution_count": 31,
   "metadata": {},
   "outputs": [
    {
     "data": {
      "text/plain": [
       "'8576240'"
      ]
     },
     "execution_count": 31,
     "metadata": {},
     "output_type": "execute_result"
    }
   ],
   "source": [
    "get_stop_id_from_int(1222)"
   ]
  },
  {
   "cell_type": "code",
   "execution_count": null,
   "metadata": {},
   "outputs": [],
   "source": []
  }
 ],
 "metadata": {
  "kernelspec": {
   "display_name": "Python 3",
   "language": "python",
   "name": "python3"
  },
  "language_info": {
   "codemirror_mode": {
    "name": "ipython",
    "version": 3
   },
   "file_extension": ".py",
   "mimetype": "text/x-python",
   "name": "python",
   "nbconvert_exporter": "python",
   "pygments_lexer": "ipython3",
   "version": "3.7.6"
  }
 },
 "nbformat": 4,
 "nbformat_minor": 4
}
