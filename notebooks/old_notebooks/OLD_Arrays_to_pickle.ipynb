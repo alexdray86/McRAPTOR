{
 "cells": [
  {
   "cell_type": "markdown",
   "metadata": {},
   "source": [
    "# Preprocessing part 2: preparing the arrays\n",
    "In this notebook we take 2 datasets prepared in spark: stop_times and transfers, and prepare them into the array format needed to run RAPTOR"
   ]
  },
  {
   "cell_type": "markdown",
   "metadata": {},
   "source": [
    "## Outline\n",
    "In this notebook the following actions are performed:\n",
    "- Transform stop_ids with platform information into the parent station stop_id\n",
    "- Keep only trips with a departure after 7 am and before 7 pm\n",
    "- Delete trips which only have 1 stop\n",
    "- Create integer IDs for routes, trips and stops, following the definition of the RAPTOR algorithm in Stop_times\n",
    "- Add integer IDs to transfers and keep only stops that are inside the stop_times dataset"
   ]
  },
  {
   "cell_type": "markdown",
   "metadata": {},
   "source": [
    "## Import packages"
   ]
  },
  {
   "cell_type": "code",
   "execution_count": 2,
   "metadata": {},
   "outputs": [],
   "source": [
    "import pandas as pd\n",
    "import numpy as np\n",
    "import pickle\n",
    "import itertools"
   ]
  },
  {
   "cell_type": "markdown",
   "metadata": {},
   "source": [
    "## Read files\n",
    "Before running make sure the .csv files are in /data . If not run notebook \"transfer_to_local\""
   ]
  },
  {
   "cell_type": "code",
   "execution_count": 4,
   "metadata": {},
   "outputs": [
    {
     "data": {
      "text/html": [
       "<div>\n",
       "<style scoped>\n",
       "    .dataframe tbody tr th:only-of-type {\n",
       "        vertical-align: middle;\n",
       "    }\n",
       "\n",
       "    .dataframe tbody tr th {\n",
       "        vertical-align: top;\n",
       "    }\n",
       "\n",
       "    .dataframe thead th {\n",
       "        text-align: right;\n",
       "    }\n",
       "</style>\n",
       "<table border=\"1\" class=\"dataframe\">\n",
       "  <thead>\n",
       "    <tr style=\"text-align: right;\">\n",
       "      <th></th>\n",
       "      <th>Unnamed: 0</th>\n",
       "      <th>route_id</th>\n",
       "      <th>stop_id_general</th>\n",
       "      <th>trip_id</th>\n",
       "      <th>stop_id</th>\n",
       "      <th>arrival_time</th>\n",
       "      <th>departure_time</th>\n",
       "      <th>stop_sequence</th>\n",
       "      <th>stop_name</th>\n",
       "      <th>stop_lat</th>\n",
       "      <th>stop_lon</th>\n",
       "      <th>trip_headsign</th>\n",
       "      <th>trip_short_name</th>\n",
       "      <th>direction_id</th>\n",
       "      <th>departure_first_stop</th>\n",
       "      <th>route_int</th>\n",
       "      <th>stop_count</th>\n",
       "      <th>stop_int</th>\n",
       "      <th>route_desc</th>\n",
       "    </tr>\n",
       "  </thead>\n",
       "  <tbody>\n",
       "    <tr>\n",
       "      <th>0</th>\n",
       "      <td>0</td>\n",
       "      <td>26-66-j19-1</td>\n",
       "      <td>8591205</td>\n",
       "      <td>17.TA.26-66-j19-1.1.H</td>\n",
       "      <td>8591205</td>\n",
       "      <td>17:00:00</td>\n",
       "      <td>17:00:00</td>\n",
       "      <td>3</td>\n",
       "      <td>Zürich, Hürlimannplatz</td>\n",
       "      <td>47.365066</td>\n",
       "      <td>8.526539</td>\n",
       "      <td>Zürich, Neubühl</td>\n",
       "      <td>3870</td>\n",
       "      <td>0</td>\n",
       "      <td>16:55:00</td>\n",
       "      <td>1225</td>\n",
       "      <td>12</td>\n",
       "      <td>1317</td>\n",
       "      <td>Bus</td>\n",
       "    </tr>\n",
       "    <tr>\n",
       "      <th>1</th>\n",
       "      <td>1</td>\n",
       "      <td>26-66-j19-1</td>\n",
       "      <td>8591415</td>\n",
       "      <td>17.TA.26-66-j19-1.1.H</td>\n",
       "      <td>8591415</td>\n",
       "      <td>17:02:00</td>\n",
       "      <td>17:02:00</td>\n",
       "      <td>4</td>\n",
       "      <td>Zürich, Waffenplatzstrasse</td>\n",
       "      <td>47.361482</td>\n",
       "      <td>8.525749</td>\n",
       "      <td>Zürich, Neubühl</td>\n",
       "      <td>3870</td>\n",
       "      <td>0</td>\n",
       "      <td>16:55:00</td>\n",
       "      <td>1225</td>\n",
       "      <td>12</td>\n",
       "      <td>1267</td>\n",
       "      <td>Bus</td>\n",
       "    </tr>\n",
       "    <tr>\n",
       "      <th>2</th>\n",
       "      <td>2</td>\n",
       "      <td>26-66-j19-1</td>\n",
       "      <td>8591204</td>\n",
       "      <td>17.TA.26-66-j19-1.1.H</td>\n",
       "      <td>8591204</td>\n",
       "      <td>17:03:00</td>\n",
       "      <td>17:03:00</td>\n",
       "      <td>5</td>\n",
       "      <td>Zürich, Hügelstrasse</td>\n",
       "      <td>47.358543</td>\n",
       "      <td>8.526997</td>\n",
       "      <td>Zürich, Neubühl</td>\n",
       "      <td>3870</td>\n",
       "      <td>0</td>\n",
       "      <td>16:55:00</td>\n",
       "      <td>1225</td>\n",
       "      <td>12</td>\n",
       "      <td>67</td>\n",
       "      <td>Bus</td>\n",
       "    </tr>\n",
       "    <tr>\n",
       "      <th>3</th>\n",
       "      <td>3</td>\n",
       "      <td>26-66-j19-1</td>\n",
       "      <td>8591098</td>\n",
       "      <td>17.TA.26-66-j19-1.1.H</td>\n",
       "      <td>8591098</td>\n",
       "      <td>17:04:00</td>\n",
       "      <td>17:04:00</td>\n",
       "      <td>6</td>\n",
       "      <td>Zürich, Brunau/Mutschellenstr.</td>\n",
       "      <td>47.355147</td>\n",
       "      <td>8.527141</td>\n",
       "      <td>Zürich, Neubühl</td>\n",
       "      <td>3870</td>\n",
       "      <td>0</td>\n",
       "      <td>16:55:00</td>\n",
       "      <td>1225</td>\n",
       "      <td>12</td>\n",
       "      <td>512</td>\n",
       "      <td>Bus</td>\n",
       "    </tr>\n",
       "    <tr>\n",
       "      <th>4</th>\n",
       "      <td>4</td>\n",
       "      <td>26-66-j19-1</td>\n",
       "      <td>8591392</td>\n",
       "      <td>17.TA.26-66-j19-1.1.H</td>\n",
       "      <td>8591392</td>\n",
       "      <td>17:05:00</td>\n",
       "      <td>17:05:00</td>\n",
       "      <td>7</td>\n",
       "      <td>Zürich, Thujastrasse</td>\n",
       "      <td>47.350187</td>\n",
       "      <td>8.527806</td>\n",
       "      <td>Zürich, Neubühl</td>\n",
       "      <td>3870</td>\n",
       "      <td>0</td>\n",
       "      <td>16:55:00</td>\n",
       "      <td>1225</td>\n",
       "      <td>12</td>\n",
       "      <td>403</td>\n",
       "      <td>Bus</td>\n",
       "    </tr>\n",
       "  </tbody>\n",
       "</table>\n",
       "</div>"
      ],
      "text/plain": [
       "   Unnamed: 0     route_id  stop_id_general                trip_id  stop_id  \\\n",
       "0           0  26-66-j19-1          8591205  17.TA.26-66-j19-1.1.H  8591205   \n",
       "1           1  26-66-j19-1          8591415  17.TA.26-66-j19-1.1.H  8591415   \n",
       "2           2  26-66-j19-1          8591204  17.TA.26-66-j19-1.1.H  8591204   \n",
       "3           3  26-66-j19-1          8591098  17.TA.26-66-j19-1.1.H  8591098   \n",
       "4           4  26-66-j19-1          8591392  17.TA.26-66-j19-1.1.H  8591392   \n",
       "\n",
       "  arrival_time departure_time  stop_sequence                       stop_name  \\\n",
       "0     17:00:00       17:00:00              3          Zürich, Hürlimannplatz   \n",
       "1     17:02:00       17:02:00              4      Zürich, Waffenplatzstrasse   \n",
       "2     17:03:00       17:03:00              5            Zürich, Hügelstrasse   \n",
       "3     17:04:00       17:04:00              6  Zürich, Brunau/Mutschellenstr.   \n",
       "4     17:05:00       17:05:00              7            Zürich, Thujastrasse   \n",
       "\n",
       "    stop_lat  stop_lon    trip_headsign  trip_short_name  direction_id  \\\n",
       "0  47.365066  8.526539  Zürich, Neubühl             3870             0   \n",
       "1  47.361482  8.525749  Zürich, Neubühl             3870             0   \n",
       "2  47.358543  8.526997  Zürich, Neubühl             3870             0   \n",
       "3  47.355147  8.527141  Zürich, Neubühl             3870             0   \n",
       "4  47.350187  8.527806  Zürich, Neubühl             3870             0   \n",
       "\n",
       "  departure_first_stop  route_int  stop_count  stop_int route_desc  \n",
       "0             16:55:00       1225          12      1317        Bus  \n",
       "1             16:55:00       1225          12      1267        Bus  \n",
       "2             16:55:00       1225          12        67        Bus  \n",
       "3             16:55:00       1225          12       512        Bus  \n",
       "4             16:55:00       1225          12       403        Bus  "
      ]
     },
     "execution_count": 4,
     "metadata": {},
     "output_type": "execute_result"
    }
   ],
   "source": [
    "#stop_times\n",
    "stop_times_curated = pd.read_csv(\"../data/stop_times_final_cyril.csv\")\n",
    "stop_times_curated.head(5)"
   ]
  },
  {
   "cell_type": "code",
   "execution_count": 59,
   "metadata": {},
   "outputs": [
    {
     "data": {
      "text/html": [
       "<div>\n",
       "<style scoped>\n",
       "    .dataframe tbody tr th:only-of-type {\n",
       "        vertical-align: middle;\n",
       "    }\n",
       "\n",
       "    .dataframe tbody tr th {\n",
       "        vertical-align: top;\n",
       "    }\n",
       "\n",
       "    .dataframe thead th {\n",
       "        text-align: right;\n",
       "    }\n",
       "</style>\n",
       "<table border=\"1\" class=\"dataframe\">\n",
       "  <thead>\n",
       "    <tr style=\"text-align: right;\">\n",
       "      <th></th>\n",
       "      <th>Unnamed: 0</th>\n",
       "      <th>route_id</th>\n",
       "      <th>stop_id</th>\n",
       "      <th>trip_id</th>\n",
       "      <th>arrival_time</th>\n",
       "      <th>departure_time</th>\n",
       "      <th>stop_sequence</th>\n",
       "      <th>direction_id</th>\n",
       "      <th>stop_name</th>\n",
       "      <th>route_desc</th>\n",
       "    </tr>\n",
       "  </thead>\n",
       "  <tbody>\n",
       "    <tr>\n",
       "      <th>0</th>\n",
       "      <td>0</td>\n",
       "      <td>26-759-j19-1</td>\n",
       "      <td>8573205:0:K</td>\n",
       "      <td>1330.TA.26-759-j19-1.7.R</td>\n",
       "      <td>05:28:00</td>\n",
       "      <td>05:28:00</td>\n",
       "      <td>1</td>\n",
       "      <td>1</td>\n",
       "      <td>Zürich Flughafen, Bahnhof</td>\n",
       "      <td>Bus</td>\n",
       "    </tr>\n",
       "    <tr>\n",
       "      <th>1</th>\n",
       "      <td>1</td>\n",
       "      <td>26-67-j19-1</td>\n",
       "      <td>8591341</td>\n",
       "      <td>46.TA.26-67-j19-1.1.R</td>\n",
       "      <td>05:33:00</td>\n",
       "      <td>05:33:00</td>\n",
       "      <td>1</td>\n",
       "      <td>1</td>\n",
       "      <td>Zürich, Schmiede Wiedikon</td>\n",
       "      <td>Bus</td>\n",
       "    </tr>\n",
       "    <tr>\n",
       "      <th>2</th>\n",
       "      <td>2</td>\n",
       "      <td>26-325-j19-1</td>\n",
       "      <td>8587020:0:D</td>\n",
       "      <td>265.TA.26-325-j19-1.2.H</td>\n",
       "      <td>05:34:00</td>\n",
       "      <td>05:34:00</td>\n",
       "      <td>1</td>\n",
       "      <td>0</td>\n",
       "      <td>Dietikon, Bahnhof</td>\n",
       "      <td>Bus</td>\n",
       "    </tr>\n",
       "    <tr>\n",
       "      <th>3</th>\n",
       "      <td>3</td>\n",
       "      <td>26-11-A-j19-1</td>\n",
       "      <td>8591382</td>\n",
       "      <td>1266.TA.26-11-A-j19-1.21.H</td>\n",
       "      <td>05:37:00</td>\n",
       "      <td>05:37:00</td>\n",
       "      <td>1</td>\n",
       "      <td>0</td>\n",
       "      <td>Zürich, Sternen Oerlikon</td>\n",
       "      <td>Tram</td>\n",
       "    </tr>\n",
       "    <tr>\n",
       "      <th>4</th>\n",
       "      <td>4</td>\n",
       "      <td>26-302-j19-1</td>\n",
       "      <td>8590844</td>\n",
       "      <td>162.TA.26-302-j19-1.4.R</td>\n",
       "      <td>05:49:00</td>\n",
       "      <td>05:49:00</td>\n",
       "      <td>1</td>\n",
       "      <td>1</td>\n",
       "      <td>Urdorf, Oberurdorf</td>\n",
       "      <td>Bus</td>\n",
       "    </tr>\n",
       "  </tbody>\n",
       "</table>\n",
       "</div>"
      ],
      "text/plain": [
       "   Unnamed: 0       route_id      stop_id                     trip_id  \\\n",
       "0           0   26-759-j19-1  8573205:0:K    1330.TA.26-759-j19-1.7.R   \n",
       "1           1    26-67-j19-1      8591341       46.TA.26-67-j19-1.1.R   \n",
       "2           2   26-325-j19-1  8587020:0:D     265.TA.26-325-j19-1.2.H   \n",
       "3           3  26-11-A-j19-1      8591382  1266.TA.26-11-A-j19-1.21.H   \n",
       "4           4   26-302-j19-1      8590844     162.TA.26-302-j19-1.4.R   \n",
       "\n",
       "  arrival_time departure_time  stop_sequence  direction_id  \\\n",
       "0     05:28:00       05:28:00              1             1   \n",
       "1     05:33:00       05:33:00              1             1   \n",
       "2     05:34:00       05:34:00              1             0   \n",
       "3     05:37:00       05:37:00              1             0   \n",
       "4     05:49:00       05:49:00              1             1   \n",
       "\n",
       "                   stop_name route_desc  \n",
       "0  Zürich Flughafen, Bahnhof        Bus  \n",
       "1  Zürich, Schmiede Wiedikon        Bus  \n",
       "2          Dietikon, Bahnhof        Bus  \n",
       "3   Zürich, Sternen Oerlikon       Tram  \n",
       "4         Urdorf, Oberurdorf        Bus  "
      ]
     },
     "execution_count": 59,
     "metadata": {},
     "output_type": "execute_result"
    }
   ],
   "source": [
    "#stop_times\n",
    "stop_times_curated = pd.read_csv(\"../data/stop_times_curated.csv\")\n",
    "stop_times_curated.head(5)"
   ]
  },
  {
   "cell_type": "markdown",
   "metadata": {},
   "source": [
    "We drop columns not useful to us"
   ]
  },
  {
   "cell_type": "code",
   "execution_count": 60,
   "metadata": {},
   "outputs": [],
   "source": [
    "stop_times_curated = stop_times_curated.drop(columns=[\"Unnamed: 0\"])"
   ]
  },
  {
   "cell_type": "code",
   "execution_count": 6,
   "metadata": {},
   "outputs": [
    {
     "data": {
      "text/html": [
       "<div>\n",
       "<style scoped>\n",
       "    .dataframe tbody tr th:only-of-type {\n",
       "        vertical-align: middle;\n",
       "    }\n",
       "\n",
       "    .dataframe tbody tr th {\n",
       "        vertical-align: top;\n",
       "    }\n",
       "\n",
       "    .dataframe thead th {\n",
       "        text-align: right;\n",
       "    }\n",
       "</style>\n",
       "<table border=\"1\" class=\"dataframe\">\n",
       "  <thead>\n",
       "    <tr style=\"text-align: right;\">\n",
       "      <th></th>\n",
       "      <th>Unnamed: 0</th>\n",
       "      <th>stop_id</th>\n",
       "      <th>stop_id2</th>\n",
       "      <th>distance</th>\n",
       "      <th>Transfer_time_sec</th>\n",
       "      <th>stop_name</th>\n",
       "      <th>stop_name2</th>\n",
       "    </tr>\n",
       "  </thead>\n",
       "  <tbody>\n",
       "    <tr>\n",
       "      <th>0</th>\n",
       "      <td>0</td>\n",
       "      <td>8500926</td>\n",
       "      <td>8590616</td>\n",
       "      <td>0.122430</td>\n",
       "      <td>146</td>\n",
       "      <td>Oetwil a.d.L., Schweizäcker</td>\n",
       "      <td>Geroldswil, Schweizäcker</td>\n",
       "    </tr>\n",
       "    <tr>\n",
       "      <th>1</th>\n",
       "      <td>1</td>\n",
       "      <td>8500926</td>\n",
       "      <td>8590737</td>\n",
       "      <td>0.300175</td>\n",
       "      <td>360</td>\n",
       "      <td>Oetwil a.d.L., Schweizäcker</td>\n",
       "      <td>Oetwil an der Limmat, Halde</td>\n",
       "    </tr>\n",
       "    <tr>\n",
       "      <th>2</th>\n",
       "      <td>2</td>\n",
       "      <td>8502186</td>\n",
       "      <td>8502186:0:1</td>\n",
       "      <td>0.006762</td>\n",
       "      <td>8</td>\n",
       "      <td>Dietikon Stoffelbach</td>\n",
       "      <td>Dietikon Stoffelbach</td>\n",
       "    </tr>\n",
       "    <tr>\n",
       "      <th>3</th>\n",
       "      <td>3</td>\n",
       "      <td>8502186</td>\n",
       "      <td>8502186:0:2</td>\n",
       "      <td>0.013524</td>\n",
       "      <td>16</td>\n",
       "      <td>Dietikon Stoffelbach</td>\n",
       "      <td>Dietikon Stoffelbach</td>\n",
       "    </tr>\n",
       "    <tr>\n",
       "      <th>4</th>\n",
       "      <td>4</td>\n",
       "      <td>8502186</td>\n",
       "      <td>8502186P</td>\n",
       "      <td>0.000000</td>\n",
       "      <td>0</td>\n",
       "      <td>Dietikon Stoffelbach</td>\n",
       "      <td>Dietikon Stoffelbach</td>\n",
       "    </tr>\n",
       "  </tbody>\n",
       "</table>\n",
       "</div>"
      ],
      "text/plain": [
       "   Unnamed: 0  stop_id     stop_id2  distance  Transfer_time_sec  \\\n",
       "0           0  8500926      8590616  0.122430                146   \n",
       "1           1  8500926      8590737  0.300175                360   \n",
       "2           2  8502186  8502186:0:1  0.006762                  8   \n",
       "3           3  8502186  8502186:0:2  0.013524                 16   \n",
       "4           4  8502186     8502186P  0.000000                  0   \n",
       "\n",
       "                     stop_name                   stop_name2  \n",
       "0  Oetwil a.d.L., Schweizäcker     Geroldswil, Schweizäcker  \n",
       "1  Oetwil a.d.L., Schweizäcker  Oetwil an der Limmat, Halde  \n",
       "2         Dietikon Stoffelbach         Dietikon Stoffelbach  \n",
       "3         Dietikon Stoffelbach         Dietikon Stoffelbach  \n",
       "4         Dietikon Stoffelbach         Dietikon Stoffelbach  "
      ]
     },
     "execution_count": 6,
     "metadata": {},
     "output_type": "execute_result"
    }
   ],
   "source": [
    "#transfers\n",
    "transfers = pd.read_csv(\"../data/transfers.csv\")\n",
    "transfers.head(5)"
   ]
  },
  {
   "cell_type": "markdown",
   "metadata": {},
   "source": [
    "## Create stop_id same for all platforms\n",
    "In the algorithm we make the simplifying assumptions that each time there is a change is the same station there is a 2 min change time. Due to this assumptions we can keep only the parent station name\n",
    "The parent id is contained in the first 7 characters, so we can take the substring to create the parent stop_id"
   ]
  },
  {
   "cell_type": "code",
   "execution_count": 62,
   "metadata": {},
   "outputs": [],
   "source": [
    "#copy information stop_id with platform in stop_id_raw\n",
    "stop_times_curated[\"stop_id_raw\"] = stop_times_curated[\"stop_id\"]"
   ]
  },
  {
   "cell_type": "code",
   "execution_count": 63,
   "metadata": {},
   "outputs": [
    {
     "data": {
      "text/html": [
       "<div>\n",
       "<style scoped>\n",
       "    .dataframe tbody tr th:only-of-type {\n",
       "        vertical-align: middle;\n",
       "    }\n",
       "\n",
       "    .dataframe tbody tr th {\n",
       "        vertical-align: top;\n",
       "    }\n",
       "\n",
       "    .dataframe thead th {\n",
       "        text-align: right;\n",
       "    }\n",
       "</style>\n",
       "<table border=\"1\" class=\"dataframe\">\n",
       "  <thead>\n",
       "    <tr style=\"text-align: right;\">\n",
       "      <th></th>\n",
       "      <th>route_id</th>\n",
       "      <th>stop_id</th>\n",
       "      <th>trip_id</th>\n",
       "      <th>arrival_time</th>\n",
       "      <th>departure_time</th>\n",
       "      <th>stop_sequence</th>\n",
       "      <th>direction_id</th>\n",
       "      <th>stop_name</th>\n",
       "      <th>route_desc</th>\n",
       "      <th>stop_id_raw</th>\n",
       "    </tr>\n",
       "  </thead>\n",
       "  <tbody>\n",
       "    <tr>\n",
       "      <th>0</th>\n",
       "      <td>26-759-j19-1</td>\n",
       "      <td>8573205</td>\n",
       "      <td>1330.TA.26-759-j19-1.7.R</td>\n",
       "      <td>05:28:00</td>\n",
       "      <td>05:28:00</td>\n",
       "      <td>1</td>\n",
       "      <td>1</td>\n",
       "      <td>Zürich Flughafen, Bahnhof</td>\n",
       "      <td>Bus</td>\n",
       "      <td>8573205:0:K</td>\n",
       "    </tr>\n",
       "    <tr>\n",
       "      <th>1</th>\n",
       "      <td>26-67-j19-1</td>\n",
       "      <td>8591341</td>\n",
       "      <td>46.TA.26-67-j19-1.1.R</td>\n",
       "      <td>05:33:00</td>\n",
       "      <td>05:33:00</td>\n",
       "      <td>1</td>\n",
       "      <td>1</td>\n",
       "      <td>Zürich, Schmiede Wiedikon</td>\n",
       "      <td>Bus</td>\n",
       "      <td>8591341</td>\n",
       "    </tr>\n",
       "    <tr>\n",
       "      <th>2</th>\n",
       "      <td>26-325-j19-1</td>\n",
       "      <td>8587020</td>\n",
       "      <td>265.TA.26-325-j19-1.2.H</td>\n",
       "      <td>05:34:00</td>\n",
       "      <td>05:34:00</td>\n",
       "      <td>1</td>\n",
       "      <td>0</td>\n",
       "      <td>Dietikon, Bahnhof</td>\n",
       "      <td>Bus</td>\n",
       "      <td>8587020:0:D</td>\n",
       "    </tr>\n",
       "    <tr>\n",
       "      <th>3</th>\n",
       "      <td>26-11-A-j19-1</td>\n",
       "      <td>8591382</td>\n",
       "      <td>1266.TA.26-11-A-j19-1.21.H</td>\n",
       "      <td>05:37:00</td>\n",
       "      <td>05:37:00</td>\n",
       "      <td>1</td>\n",
       "      <td>0</td>\n",
       "      <td>Zürich, Sternen Oerlikon</td>\n",
       "      <td>Tram</td>\n",
       "      <td>8591382</td>\n",
       "    </tr>\n",
       "    <tr>\n",
       "      <th>4</th>\n",
       "      <td>26-302-j19-1</td>\n",
       "      <td>8590844</td>\n",
       "      <td>162.TA.26-302-j19-1.4.R</td>\n",
       "      <td>05:49:00</td>\n",
       "      <td>05:49:00</td>\n",
       "      <td>1</td>\n",
       "      <td>1</td>\n",
       "      <td>Urdorf, Oberurdorf</td>\n",
       "      <td>Bus</td>\n",
       "      <td>8590844</td>\n",
       "    </tr>\n",
       "  </tbody>\n",
       "</table>\n",
       "</div>"
      ],
      "text/plain": [
       "        route_id  stop_id                     trip_id arrival_time  \\\n",
       "0   26-759-j19-1  8573205    1330.TA.26-759-j19-1.7.R     05:28:00   \n",
       "1    26-67-j19-1  8591341       46.TA.26-67-j19-1.1.R     05:33:00   \n",
       "2   26-325-j19-1  8587020     265.TA.26-325-j19-1.2.H     05:34:00   \n",
       "3  26-11-A-j19-1  8591382  1266.TA.26-11-A-j19-1.21.H     05:37:00   \n",
       "4   26-302-j19-1  8590844     162.TA.26-302-j19-1.4.R     05:49:00   \n",
       "\n",
       "  departure_time  stop_sequence  direction_id                  stop_name  \\\n",
       "0       05:28:00              1             1  Zürich Flughafen, Bahnhof   \n",
       "1       05:33:00              1             1  Zürich, Schmiede Wiedikon   \n",
       "2       05:34:00              1             0          Dietikon, Bahnhof   \n",
       "3       05:37:00              1             0   Zürich, Sternen Oerlikon   \n",
       "4       05:49:00              1             1         Urdorf, Oberurdorf   \n",
       "\n",
       "  route_desc  stop_id_raw  \n",
       "0        Bus  8573205:0:K  \n",
       "1        Bus      8591341  \n",
       "2        Bus  8587020:0:D  \n",
       "3       Tram      8591382  \n",
       "4        Bus      8590844  "
      ]
     },
     "execution_count": 63,
     "metadata": {},
     "output_type": "execute_result"
    }
   ],
   "source": [
    "#Use only first 7 characters for stop_id\n",
    "stop_times_curated[\"stop_id\"] = stop_times_curated[\"stop_id_raw\"].str.slice(0, 7)\n",
    "stop_times_curated[\"stop_id\"] = pd.to_numeric(stop_times_curated[\"stop_id\"])\n",
    "stop_times_curated.head(5)"
   ]
  },
  {
   "cell_type": "code",
   "execution_count": 64,
   "metadata": {},
   "outputs": [],
   "source": [
    "#copy information stop_id with platform in stop_id_raw\n",
    "transfers[\"stop_id_raw\"] = transfers[\"stop_id\"]\n",
    "transfers[\"stop_id2_raw\"] = transfers[\"stop_id2\"]"
   ]
  },
  {
   "cell_type": "markdown",
   "metadata": {},
   "source": [
    "We do the operation also on the transfers dataset"
   ]
  },
  {
   "cell_type": "code",
   "execution_count": 65,
   "metadata": {},
   "outputs": [
    {
     "data": {
      "text/html": [
       "<div>\n",
       "<style scoped>\n",
       "    .dataframe tbody tr th:only-of-type {\n",
       "        vertical-align: middle;\n",
       "    }\n",
       "\n",
       "    .dataframe tbody tr th {\n",
       "        vertical-align: top;\n",
       "    }\n",
       "\n",
       "    .dataframe thead th {\n",
       "        text-align: right;\n",
       "    }\n",
       "</style>\n",
       "<table border=\"1\" class=\"dataframe\">\n",
       "  <thead>\n",
       "    <tr style=\"text-align: right;\">\n",
       "      <th></th>\n",
       "      <th>Unnamed: 0</th>\n",
       "      <th>stop_id</th>\n",
       "      <th>stop_id2</th>\n",
       "      <th>distance</th>\n",
       "      <th>Transfer_time_sec</th>\n",
       "      <th>stop_name</th>\n",
       "      <th>stop_name2</th>\n",
       "      <th>stop_id_raw</th>\n",
       "      <th>stop_id2_raw</th>\n",
       "    </tr>\n",
       "  </thead>\n",
       "  <tbody>\n",
       "    <tr>\n",
       "      <th>0</th>\n",
       "      <td>0</td>\n",
       "      <td>8500926</td>\n",
       "      <td>8590616</td>\n",
       "      <td>0.122430</td>\n",
       "      <td>146</td>\n",
       "      <td>Oetwil a.d.L., Schweizäcker</td>\n",
       "      <td>Geroldswil, Schweizäcker</td>\n",
       "      <td>8500926</td>\n",
       "      <td>8590616</td>\n",
       "    </tr>\n",
       "    <tr>\n",
       "      <th>1</th>\n",
       "      <td>1</td>\n",
       "      <td>8500926</td>\n",
       "      <td>8590737</td>\n",
       "      <td>0.300175</td>\n",
       "      <td>360</td>\n",
       "      <td>Oetwil a.d.L., Schweizäcker</td>\n",
       "      <td>Oetwil an der Limmat, Halde</td>\n",
       "      <td>8500926</td>\n",
       "      <td>8590737</td>\n",
       "    </tr>\n",
       "    <tr>\n",
       "      <th>2</th>\n",
       "      <td>2</td>\n",
       "      <td>8502186</td>\n",
       "      <td>8502186</td>\n",
       "      <td>0.006762</td>\n",
       "      <td>8</td>\n",
       "      <td>Dietikon Stoffelbach</td>\n",
       "      <td>Dietikon Stoffelbach</td>\n",
       "      <td>8502186</td>\n",
       "      <td>8502186:0:1</td>\n",
       "    </tr>\n",
       "    <tr>\n",
       "      <th>3</th>\n",
       "      <td>3</td>\n",
       "      <td>8502186</td>\n",
       "      <td>8502186</td>\n",
       "      <td>0.013524</td>\n",
       "      <td>16</td>\n",
       "      <td>Dietikon Stoffelbach</td>\n",
       "      <td>Dietikon Stoffelbach</td>\n",
       "      <td>8502186</td>\n",
       "      <td>8502186:0:2</td>\n",
       "    </tr>\n",
       "    <tr>\n",
       "      <th>4</th>\n",
       "      <td>4</td>\n",
       "      <td>8502186</td>\n",
       "      <td>8502186</td>\n",
       "      <td>0.000000</td>\n",
       "      <td>0</td>\n",
       "      <td>Dietikon Stoffelbach</td>\n",
       "      <td>Dietikon Stoffelbach</td>\n",
       "      <td>8502186</td>\n",
       "      <td>8502186P</td>\n",
       "    </tr>\n",
       "  </tbody>\n",
       "</table>\n",
       "</div>"
      ],
      "text/plain": [
       "   Unnamed: 0  stop_id  stop_id2  distance  Transfer_time_sec  \\\n",
       "0           0  8500926   8590616  0.122430                146   \n",
       "1           1  8500926   8590737  0.300175                360   \n",
       "2           2  8502186   8502186  0.006762                  8   \n",
       "3           3  8502186   8502186  0.013524                 16   \n",
       "4           4  8502186   8502186  0.000000                  0   \n",
       "\n",
       "                     stop_name                   stop_name2 stop_id_raw  \\\n",
       "0  Oetwil a.d.L., Schweizäcker     Geroldswil, Schweizäcker     8500926   \n",
       "1  Oetwil a.d.L., Schweizäcker  Oetwil an der Limmat, Halde     8500926   \n",
       "2         Dietikon Stoffelbach         Dietikon Stoffelbach     8502186   \n",
       "3         Dietikon Stoffelbach         Dietikon Stoffelbach     8502186   \n",
       "4         Dietikon Stoffelbach         Dietikon Stoffelbach     8502186   \n",
       "\n",
       "  stop_id2_raw  \n",
       "0      8590616  \n",
       "1      8590737  \n",
       "2  8502186:0:1  \n",
       "3  8502186:0:2  \n",
       "4     8502186P  "
      ]
     },
     "execution_count": 65,
     "metadata": {},
     "output_type": "execute_result"
    }
   ],
   "source": [
    "#Use only first 7 characters for stop_id\n",
    "transfers[\"stop_id\"] = transfers[\"stop_id_raw\"].str.slice(0, 7)\n",
    "transfers[\"stop_id2\"] = transfers[\"stop_id2_raw\"].str.slice(0, 7)\n",
    "transfers[\"stop_id\"] = pd.to_numeric(transfers[\"stop_id\"])\n",
    "transfers[\"stop_id2\"] = pd.to_numeric(transfers[\"stop_id2\"])\n",
    "transfers.head(5)"
   ]
  },
  {
   "cell_type": "markdown",
   "metadata": {},
   "source": [
    "## Keep only trips during the day\n",
    "Our model will only consider trips during business days and normal hours, so we can delete all departures before 7 am and after 7 pm"
   ]
  },
  {
   "cell_type": "markdown",
   "metadata": {},
   "source": [
    "We can get the hour of departure using str.slice , and explore the hours we have in the dataset. Then we convert these hours in integers in order to filter."
   ]
  },
  {
   "cell_type": "code",
   "execution_count": 66,
   "metadata": {},
   "outputs": [
    {
     "data": {
      "text/plain": [
       "array(['05', '06', '07', '08', '09', '10', '11', '12', '13', '14', '15',\n",
       "       '16', '17', '18', '19', '20', '21', '22', '23', '24', '25', '00',\n",
       "       '04', '01'], dtype=object)"
      ]
     },
     "execution_count": 66,
     "metadata": {},
     "output_type": "execute_result"
    }
   ],
   "source": [
    "stop_times_curated.departure_time.str.slice(0,2).unique()"
   ]
  },
  {
   "cell_type": "code",
   "execution_count": 67,
   "metadata": {},
   "outputs": [],
   "source": [
    "stop_times_curated[\"hour_departure\"] = pd.to_numeric(stop_times_curated.departure_time.str.slice(0,2))"
   ]
  },
  {
   "cell_type": "markdown",
   "metadata": {},
   "source": [
    "Check if well converted to int"
   ]
  },
  {
   "cell_type": "code",
   "execution_count": 68,
   "metadata": {},
   "outputs": [
    {
     "data": {
      "text/plain": [
       "array([ 5,  6,  7,  8,  9, 10, 11, 12, 13, 14, 15, 16, 17, 18, 19, 20, 21,\n",
       "       22, 23, 24, 25,  0,  4,  1])"
      ]
     },
     "execution_count": 68,
     "metadata": {},
     "output_type": "execute_result"
    }
   ],
   "source": [
    "stop_times_curated[\"hour_departure\"].unique()"
   ]
  },
  {
   "cell_type": "markdown",
   "metadata": {},
   "source": [
    "We drop the trips before 7 am and after 7 pm using np.where function"
   ]
  },
  {
   "cell_type": "code",
   "execution_count": 69,
   "metadata": {},
   "outputs": [
    {
     "data": {
      "text/plain": [
       "331751"
      ]
     },
     "execution_count": 69,
     "metadata": {},
     "output_type": "execute_result"
    }
   ],
   "source": [
    "stop_times_curated.trip_id.count()"
   ]
  },
  {
   "cell_type": "code",
   "execution_count": 70,
   "metadata": {},
   "outputs": [],
   "source": [
    "trip_id_drop = np.where(((stop_times_curated.hour_departure > 19) |\\\n",
    "                                                (stop_times_curated.hour_departure < 7)),\\\n",
    "                                               stop_times_curated[\"trip_id\"] , None)"
   ]
  },
  {
   "cell_type": "code",
   "execution_count": 71,
   "metadata": {},
   "outputs": [],
   "source": [
    "stop_times_curated = stop_times_curated[~stop_times_curated[\"trip_id\"].isin(trip_id_drop)]"
   ]
  },
  {
   "cell_type": "code",
   "execution_count": 72,
   "metadata": {},
   "outputs": [
    {
     "data": {
      "text/plain": [
       "246576"
      ]
     },
     "execution_count": 72,
     "metadata": {},
     "output_type": "execute_result"
    }
   ],
   "source": [
    "stop_times_curated.trip_id.count()"
   ]
  },
  {
   "cell_type": "markdown",
   "metadata": {},
   "source": [
    "With this operation we have decreased the size of stop_times by about 90k lines"
   ]
  },
  {
   "cell_type": "markdown",
   "metadata": {},
   "source": [
    "## Delete trips with 1 stop\n",
    "Trips with only 1 stop are useless in our dataset and will only pollute the algorithm. For this reason we dete these"
   ]
  },
  {
   "cell_type": "markdown",
   "metadata": {},
   "source": [
    "We start by counting the stops of each trip"
   ]
  },
  {
   "cell_type": "code",
   "execution_count": 73,
   "metadata": {},
   "outputs": [
    {
     "data": {
      "text/html": [
       "<div>\n",
       "<style scoped>\n",
       "    .dataframe tbody tr th:only-of-type {\n",
       "        vertical-align: middle;\n",
       "    }\n",
       "\n",
       "    .dataframe tbody tr th {\n",
       "        vertical-align: top;\n",
       "    }\n",
       "\n",
       "    .dataframe thead th {\n",
       "        text-align: right;\n",
       "    }\n",
       "</style>\n",
       "<table border=\"1\" class=\"dataframe\">\n",
       "  <thead>\n",
       "    <tr style=\"text-align: right;\">\n",
       "      <th></th>\n",
       "      <th>route_id</th>\n",
       "      <th>stop_id</th>\n",
       "      <th>trip_id</th>\n",
       "      <th>arrival_time</th>\n",
       "      <th>departure_time</th>\n",
       "      <th>stop_sequence</th>\n",
       "      <th>direction_id</th>\n",
       "      <th>stop_name</th>\n",
       "      <th>route_desc</th>\n",
       "      <th>stop_id_raw</th>\n",
       "      <th>hour_departure</th>\n",
       "    </tr>\n",
       "    <tr>\n",
       "      <th>trip_id</th>\n",
       "      <th></th>\n",
       "      <th></th>\n",
       "      <th></th>\n",
       "      <th></th>\n",
       "      <th></th>\n",
       "      <th></th>\n",
       "      <th></th>\n",
       "      <th></th>\n",
       "      <th></th>\n",
       "      <th></th>\n",
       "      <th></th>\n",
       "    </tr>\n",
       "  </thead>\n",
       "  <tbody>\n",
       "    <tr>\n",
       "      <th>1.TA.1-231-j19-1.1.H</th>\n",
       "      <td>1</td>\n",
       "      <td>15</td>\n",
       "      <td>1</td>\n",
       "      <td>17</td>\n",
       "      <td>17</td>\n",
       "      <td>18</td>\n",
       "      <td>1</td>\n",
       "      <td>15</td>\n",
       "      <td>1</td>\n",
       "      <td>15</td>\n",
       "      <td>2</td>\n",
       "    </tr>\n",
       "    <tr>\n",
       "      <th>1.TA.1-44-j19-1.1.R</th>\n",
       "      <td>1</td>\n",
       "      <td>3</td>\n",
       "      <td>1</td>\n",
       "      <td>3</td>\n",
       "      <td>3</td>\n",
       "      <td>3</td>\n",
       "      <td>1</td>\n",
       "      <td>3</td>\n",
       "      <td>1</td>\n",
       "      <td>3</td>\n",
       "      <td>1</td>\n",
       "    </tr>\n",
       "    <tr>\n",
       "      <th>1.TA.1-444-j19-1.1.H</th>\n",
       "      <td>1</td>\n",
       "      <td>9</td>\n",
       "      <td>1</td>\n",
       "      <td>9</td>\n",
       "      <td>9</td>\n",
       "      <td>9</td>\n",
       "      <td>1</td>\n",
       "      <td>9</td>\n",
       "      <td>1</td>\n",
       "      <td>9</td>\n",
       "      <td>1</td>\n",
       "    </tr>\n",
       "    <tr>\n",
       "      <th>1.TA.12-E03-j19-1.1.H</th>\n",
       "      <td>1</td>\n",
       "      <td>2</td>\n",
       "      <td>1</td>\n",
       "      <td>2</td>\n",
       "      <td>2</td>\n",
       "      <td>2</td>\n",
       "      <td>1</td>\n",
       "      <td>2</td>\n",
       "      <td>1</td>\n",
       "      <td>2</td>\n",
       "      <td>2</td>\n",
       "    </tr>\n",
       "    <tr>\n",
       "      <th>1.TA.18-46-j19-1.1.H</th>\n",
       "      <td>1</td>\n",
       "      <td>1</td>\n",
       "      <td>1</td>\n",
       "      <td>1</td>\n",
       "      <td>1</td>\n",
       "      <td>1</td>\n",
       "      <td>1</td>\n",
       "      <td>1</td>\n",
       "      <td>1</td>\n",
       "      <td>1</td>\n",
       "      <td>1</td>\n",
       "    </tr>\n",
       "  </tbody>\n",
       "</table>\n",
       "</div>"
      ],
      "text/plain": [
       "                       route_id  stop_id  trip_id  arrival_time  \\\n",
       "trip_id                                                           \n",
       "1.TA.1-231-j19-1.1.H          1       15        1            17   \n",
       "1.TA.1-44-j19-1.1.R           1        3        1             3   \n",
       "1.TA.1-444-j19-1.1.H          1        9        1             9   \n",
       "1.TA.12-E03-j19-1.1.H         1        2        1             2   \n",
       "1.TA.18-46-j19-1.1.H          1        1        1             1   \n",
       "\n",
       "                       departure_time  stop_sequence  direction_id  stop_name  \\\n",
       "trip_id                                                                         \n",
       "1.TA.1-231-j19-1.1.H               17             18             1         15   \n",
       "1.TA.1-44-j19-1.1.R                 3              3             1          3   \n",
       "1.TA.1-444-j19-1.1.H                9              9             1          9   \n",
       "1.TA.12-E03-j19-1.1.H               2              2             1          2   \n",
       "1.TA.18-46-j19-1.1.H                1              1             1          1   \n",
       "\n",
       "                       route_desc  stop_id_raw  hour_departure  \n",
       "trip_id                                                         \n",
       "1.TA.1-231-j19-1.1.H            1           15               2  \n",
       "1.TA.1-44-j19-1.1.R             1            3               1  \n",
       "1.TA.1-444-j19-1.1.H            1            9               1  \n",
       "1.TA.12-E03-j19-1.1.H           1            2               2  \n",
       "1.TA.18-46-j19-1.1.H            1            1               1  "
      ]
     },
     "execution_count": 73,
     "metadata": {},
     "output_type": "execute_result"
    }
   ],
   "source": [
    "number_stop = stop_times_curated.groupby('trip_id').nunique()\n",
    "number_stop.head(5)"
   ]
  },
  {
   "cell_type": "code",
   "execution_count": 74,
   "metadata": {},
   "outputs": [],
   "source": [
    "#get trips with 1 stop\n",
    "trip_with_1_stop = np.where((number_stop.stop_id == 1), number_stop.index, None)"
   ]
  },
  {
   "cell_type": "markdown",
   "metadata": {},
   "source": [
    "Check number of trips before cleaning"
   ]
  },
  {
   "cell_type": "code",
   "execution_count": 75,
   "metadata": {},
   "outputs": [
    {
     "data": {
      "text/plain": [
       "20261"
      ]
     },
     "execution_count": 75,
     "metadata": {},
     "output_type": "execute_result"
    }
   ],
   "source": [
    "stop_times_curated.trip_id.nunique()"
   ]
  },
  {
   "cell_type": "markdown",
   "metadata": {},
   "source": [
    "We drop the rows with a unique stop per trip"
   ]
  },
  {
   "cell_type": "code",
   "execution_count": 76,
   "metadata": {},
   "outputs": [],
   "source": [
    "#drop trips with only 1 stop\n",
    "stop_times_curated = stop_times_curated[~stop_times_curated[\"trip_id\"].isin(trip_with_1_stop)]"
   ]
  },
  {
   "cell_type": "markdown",
   "metadata": {},
   "source": [
    "And we check how many trips there still. About 900 trips with only 1 stop have been deleted"
   ]
  },
  {
   "cell_type": "code",
   "execution_count": 77,
   "metadata": {},
   "outputs": [
    {
     "data": {
      "text/plain": [
       "19390"
      ]
     },
     "execution_count": 77,
     "metadata": {},
     "output_type": "execute_result"
    }
   ],
   "source": [
    "stop_times_curated.trip_id.nunique()"
   ]
  },
  {
   "cell_type": "markdown",
   "metadata": {},
   "source": [
    "### Create route_int, trip_int and stop_int as consecutive integer IDs\n",
    "This operation is needed for sorting the routes, trips and stops in the right order. Additionally integers are lighter than strings so the algorithm will need fewer memory to work with the arrays."
   ]
  },
  {
   "cell_type": "markdown",
   "metadata": {},
   "source": [
    "#### Route_int\n",
    "The route_int Id is given in an abitrary order"
   ]
  },
  {
   "cell_type": "markdown",
   "metadata": {},
   "source": [
    "We start creating a tuple with all the stops in a trip"
   ]
  },
  {
   "cell_type": "code",
   "execution_count": 78,
   "metadata": {},
   "outputs": [],
   "source": [
    "stop_times_curated = stop_times_curated.sort_values([\"trip_id\", \"stop_sequence\"])"
   ]
  },
  {
   "cell_type": "code",
   "execution_count": 79,
   "metadata": {},
   "outputs": [
    {
     "data": {
      "text/html": [
       "<div>\n",
       "<style scoped>\n",
       "    .dataframe tbody tr th:only-of-type {\n",
       "        vertical-align: middle;\n",
       "    }\n",
       "\n",
       "    .dataframe tbody tr th {\n",
       "        vertical-align: top;\n",
       "    }\n",
       "\n",
       "    .dataframe thead th {\n",
       "        text-align: right;\n",
       "    }\n",
       "</style>\n",
       "<table border=\"1\" class=\"dataframe\">\n",
       "  <thead>\n",
       "    <tr style=\"text-align: right;\">\n",
       "      <th></th>\n",
       "      <th>stop_id</th>\n",
       "    </tr>\n",
       "    <tr>\n",
       "      <th>trip_id</th>\n",
       "      <th></th>\n",
       "    </tr>\n",
       "  </thead>\n",
       "  <tbody>\n",
       "    <tr>\n",
       "      <th>1.TA.1-231-j19-1.1.H</th>\n",
       "      <td>(8572747, 8582462, 8572600, 8572601, 8502553, ...</td>\n",
       "    </tr>\n",
       "    <tr>\n",
       "      <th>1.TA.1-44-j19-1.1.R</th>\n",
       "      <td>(8590275, 8591891, 8590279)</td>\n",
       "    </tr>\n",
       "    <tr>\n",
       "      <th>1.TA.1-444-j19-1.1.H</th>\n",
       "      <td>(8572747, 8580847, 8581346, 8502894, 8502979, ...</td>\n",
       "    </tr>\n",
       "    <tr>\n",
       "      <th>1.TA.12-E03-j19-1.1.H</th>\n",
       "      <td>(8573205, 8596126)</td>\n",
       "    </tr>\n",
       "    <tr>\n",
       "      <th>1.TA.21-23-j19-1.1.R</th>\n",
       "      <td>(8503000, 8503003)</td>\n",
       "    </tr>\n",
       "  </tbody>\n",
       "</table>\n",
       "</div>"
      ],
      "text/plain": [
       "                                                                 stop_id\n",
       "trip_id                                                                 \n",
       "1.TA.1-231-j19-1.1.H   (8572747, 8582462, 8572600, 8572601, 8502553, ...\n",
       "1.TA.1-44-j19-1.1.R                          (8590275, 8591891, 8590279)\n",
       "1.TA.1-444-j19-1.1.H   (8572747, 8580847, 8581346, 8502894, 8502979, ...\n",
       "1.TA.12-E03-j19-1.1.H                                 (8573205, 8596126)\n",
       "1.TA.21-23-j19-1.1.R                                  (8503000, 8503003)"
      ]
     },
     "execution_count": 79,
     "metadata": {},
     "output_type": "execute_result"
    }
   ],
   "source": [
    "#group stops into a sequence\n",
    "tuple_stops = stop_times_curated.groupby('trip_id')['stop_id'].apply(tuple).to_frame()\n",
    "tuple_stops.head(5)"
   ]
  },
  {
   "cell_type": "code",
   "execution_count": 80,
   "metadata": {},
   "outputs": [
    {
     "data": {
      "text/plain": [
       "19390"
      ]
     },
     "execution_count": 80,
     "metadata": {},
     "output_type": "execute_result"
    }
   ],
   "source": [
    "tuple_stops.index.nunique()"
   ]
  },
  {
   "cell_type": "markdown",
   "metadata": {},
   "source": [
    "And we can group all these sequences in unique groups"
   ]
  },
  {
   "cell_type": "code",
   "execution_count": 81,
   "metadata": {},
   "outputs": [
    {
     "data": {
      "text/html": [
       "<div>\n",
       "<style scoped>\n",
       "    .dataframe tbody tr th:only-of-type {\n",
       "        vertical-align: middle;\n",
       "    }\n",
       "\n",
       "    .dataframe tbody tr th {\n",
       "        vertical-align: top;\n",
       "    }\n",
       "\n",
       "    .dataframe thead th {\n",
       "        text-align: right;\n",
       "    }\n",
       "</style>\n",
       "<table border=\"1\" class=\"dataframe\">\n",
       "  <thead>\n",
       "    <tr style=\"text-align: right;\">\n",
       "      <th></th>\n",
       "    </tr>\n",
       "    <tr>\n",
       "      <th>stop_id</th>\n",
       "    </tr>\n",
       "  </thead>\n",
       "  <tbody>\n",
       "    <tr>\n",
       "      <th>(8502208, 8502209, 8503201, 8503010, 8503011, 8503000, 8503006, 8503016)</th>\n",
       "    </tr>\n",
       "    <tr>\n",
       "      <th>(8502208, 8502209, 8503201, 8503200, 8503010, 8503011, 8503016)</th>\n",
       "    </tr>\n",
       "    <tr>\n",
       "      <th>(8502208, 8502209, 8503202)</th>\n",
       "    </tr>\n",
       "    <tr>\n",
       "      <th>(8502208, 8502209, 8503202, 8503009, 8503010, 8503011, 8503000, 8503006, 8503016, 8503307)</th>\n",
       "    </tr>\n",
       "    <tr>\n",
       "      <th>(8502208, 8502209, 8503202, 8503200, 8503009, 8503000, 8503015, 8503016, 8503307, 8503305)</th>\n",
       "    </tr>\n",
       "  </tbody>\n",
       "</table>\n",
       "</div>"
      ],
      "text/plain": [
       "Empty DataFrame\n",
       "Columns: []\n",
       "Index: [(8502208, 8502209, 8503201, 8503010, 8503011, 8503000, 8503006, 8503016), (8502208, 8502209, 8503201, 8503200, 8503010, 8503011, 8503016), (8502208, 8502209, 8503202), (8502208, 8502209, 8503202, 8503009, 8503010, 8503011, 8503000, 8503006, 8503016, 8503307), (8502208, 8502209, 8503202, 8503200, 8503009, 8503000, 8503015, 8503016, 8503307, 8503305)]"
      ]
     },
     "execution_count": 81,
     "metadata": {},
     "output_type": "execute_result"
    }
   ],
   "source": [
    "#group to get unique stop sequences\n",
    "unique_stop_sequence = tuple_stops.groupby(\"stop_id\").count()\n",
    "unique_stop_sequence.head(5)"
   ]
  },
  {
   "cell_type": "code",
   "execution_count": 82,
   "metadata": {},
   "outputs": [
    {
     "data": {
      "text/plain": [
       "2555"
      ]
     },
     "execution_count": 82,
     "metadata": {},
     "output_type": "execute_result"
    }
   ],
   "source": [
    "unique_stop_sequence.index.nunique()"
   ]
  },
  {
   "cell_type": "markdown",
   "metadata": {},
   "source": [
    "These unique sequences of stops are our routes. We can create a unique ID, an integer, for each route"
   ]
  },
  {
   "cell_type": "code",
   "execution_count": 83,
   "metadata": {},
   "outputs": [
    {
     "data": {
      "text/html": [
       "<div>\n",
       "<style scoped>\n",
       "    .dataframe tbody tr th:only-of-type {\n",
       "        vertical-align: middle;\n",
       "    }\n",
       "\n",
       "    .dataframe tbody tr th {\n",
       "        vertical-align: top;\n",
       "    }\n",
       "\n",
       "    .dataframe thead th {\n",
       "        text-align: right;\n",
       "    }\n",
       "</style>\n",
       "<table border=\"1\" class=\"dataframe\">\n",
       "  <thead>\n",
       "    <tr style=\"text-align: right;\">\n",
       "      <th></th>\n",
       "      <th>stop_id</th>\n",
       "      <th>route_int</th>\n",
       "    </tr>\n",
       "  </thead>\n",
       "  <tbody>\n",
       "    <tr>\n",
       "      <th>0</th>\n",
       "      <td>(8502208, 8502209, 8503201, 8503010, 8503011, ...</td>\n",
       "      <td>0</td>\n",
       "    </tr>\n",
       "    <tr>\n",
       "      <th>1</th>\n",
       "      <td>(8502208, 8502209, 8503201, 8503200, 8503010, ...</td>\n",
       "      <td>1</td>\n",
       "    </tr>\n",
       "    <tr>\n",
       "      <th>2</th>\n",
       "      <td>(8502208, 8502209, 8503202)</td>\n",
       "      <td>2</td>\n",
       "    </tr>\n",
       "    <tr>\n",
       "      <th>3</th>\n",
       "      <td>(8502208, 8502209, 8503202, 8503009, 8503010, ...</td>\n",
       "      <td>3</td>\n",
       "    </tr>\n",
       "    <tr>\n",
       "      <th>4</th>\n",
       "      <td>(8502208, 8502209, 8503202, 8503200, 8503009, ...</td>\n",
       "      <td>4</td>\n",
       "    </tr>\n",
       "  </tbody>\n",
       "</table>\n",
       "</div>"
      ],
      "text/plain": [
       "                                             stop_id  route_int\n",
       "0  (8502208, 8502209, 8503201, 8503010, 8503011, ...          0\n",
       "1  (8502208, 8502209, 8503201, 8503200, 8503010, ...          1\n",
       "2                        (8502208, 8502209, 8503202)          2\n",
       "3  (8502208, 8502209, 8503202, 8503009, 8503010, ...          3\n",
       "4  (8502208, 8502209, 8503202, 8503200, 8503009, ...          4"
      ]
     },
     "execution_count": 83,
     "metadata": {},
     "output_type": "execute_result"
    }
   ],
   "source": [
    "#create dataframe and route_int\n",
    "df_unique_stop_sequence = unique_stop_sequence.reset_index()\n",
    "df_unique_stop_sequence[\"route_int\"] = df_unique_stop_sequence.index\n",
    "df_unique_stop_sequence.head(5)"
   ]
  },
  {
   "cell_type": "markdown",
   "metadata": {},
   "source": [
    "We add the route information to the trip"
   ]
  },
  {
   "cell_type": "code",
   "execution_count": 84,
   "metadata": {},
   "outputs": [
    {
     "data": {
      "text/html": [
       "<div>\n",
       "<style scoped>\n",
       "    .dataframe tbody tr th:only-of-type {\n",
       "        vertical-align: middle;\n",
       "    }\n",
       "\n",
       "    .dataframe tbody tr th {\n",
       "        vertical-align: top;\n",
       "    }\n",
       "\n",
       "    .dataframe thead th {\n",
       "        text-align: right;\n",
       "    }\n",
       "</style>\n",
       "<table border=\"1\" class=\"dataframe\">\n",
       "  <thead>\n",
       "    <tr style=\"text-align: right;\">\n",
       "      <th></th>\n",
       "      <th>stop_id</th>\n",
       "      <th>route_int</th>\n",
       "    </tr>\n",
       "    <tr>\n",
       "      <th>trip_id</th>\n",
       "      <th></th>\n",
       "      <th></th>\n",
       "    </tr>\n",
       "  </thead>\n",
       "  <tbody>\n",
       "    <tr>\n",
       "      <th>403.TA.26-24-j19-1.220.R</th>\n",
       "      <td>(8502208, 8502209, 8503201, 8503010, 8503011, ...</td>\n",
       "      <td>0</td>\n",
       "    </tr>\n",
       "    <tr>\n",
       "      <th>425.TA.26-24-j19-1.220.R</th>\n",
       "      <td>(8502208, 8502209, 8503201, 8503200, 8503010, ...</td>\n",
       "      <td>1</td>\n",
       "    </tr>\n",
       "    <tr>\n",
       "      <th>22.TA.30-57-Y-j19-1.1.H</th>\n",
       "      <td>(8502208, 8502209, 8503202)</td>\n",
       "      <td>2</td>\n",
       "    </tr>\n",
       "    <tr>\n",
       "      <th>11.TA.30-57-Y-j19-1.1.H</th>\n",
       "      <td>(8502208, 8502209, 8503202)</td>\n",
       "      <td>2</td>\n",
       "    </tr>\n",
       "    <tr>\n",
       "      <th>14.TA.30-57-Y-j19-1.1.H</th>\n",
       "      <td>(8502208, 8502209, 8503202)</td>\n",
       "      <td>2</td>\n",
       "    </tr>\n",
       "  </tbody>\n",
       "</table>\n",
       "</div>"
      ],
      "text/plain": [
       "                                                                    stop_id  \\\n",
       "trip_id                                                                       \n",
       "403.TA.26-24-j19-1.220.R  (8502208, 8502209, 8503201, 8503010, 8503011, ...   \n",
       "425.TA.26-24-j19-1.220.R  (8502208, 8502209, 8503201, 8503200, 8503010, ...   \n",
       "22.TA.30-57-Y-j19-1.1.H                         (8502208, 8502209, 8503202)   \n",
       "11.TA.30-57-Y-j19-1.1.H                         (8502208, 8502209, 8503202)   \n",
       "14.TA.30-57-Y-j19-1.1.H                         (8502208, 8502209, 8503202)   \n",
       "\n",
       "                          route_int  \n",
       "trip_id                              \n",
       "403.TA.26-24-j19-1.220.R          0  \n",
       "425.TA.26-24-j19-1.220.R          1  \n",
       "22.TA.30-57-Y-j19-1.1.H           2  \n",
       "11.TA.30-57-Y-j19-1.1.H           2  \n",
       "14.TA.30-57-Y-j19-1.1.H           2  "
      ]
     },
     "execution_count": 84,
     "metadata": {},
     "output_type": "execute_result"
    }
   ],
   "source": [
    "#join with trip information\n",
    "trip_with_routes = tuple_stops.join(df_unique_stop_sequence.set_index(\"stop_id\"), on=\"stop_id\", how=\"left\").sort_values(\"route_int\")\n",
    "trip_with_routes.head(5)"
   ]
  },
  {
   "cell_type": "code",
   "execution_count": 85,
   "metadata": {},
   "outputs": [],
   "source": [
    "trip_with_routes = trip_with_routes.rename(columns={\"stop_id\" : \"all_stops\"})"
   ]
  },
  {
   "cell_type": "markdown",
   "metadata": {},
   "source": [
    "Check if wrong manipulations cause to have the same, or higher, number of routes than trips. It is not the case"
   ]
  },
  {
   "cell_type": "code",
   "execution_count": 86,
   "metadata": {},
   "outputs": [
    {
     "data": {
      "text/plain": [
       "19390"
      ]
     },
     "execution_count": 86,
     "metadata": {},
     "output_type": "execute_result"
    }
   ],
   "source": [
    "#check if routes and trips do not have the same number\n",
    "trip_with_routes.index.nunique()"
   ]
  },
  {
   "cell_type": "code",
   "execution_count": 87,
   "metadata": {},
   "outputs": [
    {
     "data": {
      "text/plain": [
       "2555"
      ]
     },
     "execution_count": 87,
     "metadata": {},
     "output_type": "execute_result"
    }
   ],
   "source": [
    "trip_with_routes.route_int.nunique()"
   ]
  },
  {
   "cell_type": "markdown",
   "metadata": {},
   "source": [
    "We add the rout_int column to stop_times dataframe"
   ]
  },
  {
   "cell_type": "code",
   "execution_count": 88,
   "metadata": {},
   "outputs": [
    {
     "data": {
      "text/plain": [
       "245705"
      ]
     },
     "execution_count": 88,
     "metadata": {},
     "output_type": "execute_result"
    }
   ],
   "source": [
    "stop_times_curated.trip_id.count()"
   ]
  },
  {
   "cell_type": "code",
   "execution_count": 89,
   "metadata": {},
   "outputs": [],
   "source": [
    "#join to get route_int in stop_times\n",
    "stop_times_routes = stop_times_curated.join(trip_with_routes, how=\"left\", on=\"trip_id\" , lsuffix='_left', rsuffix='_right').drop_duplicates()\n"
   ]
  },
  {
   "cell_type": "code",
   "execution_count": 90,
   "metadata": {},
   "outputs": [
    {
     "data": {
      "text/plain": [
       "245705"
      ]
     },
     "execution_count": 90,
     "metadata": {},
     "output_type": "execute_result"
    }
   ],
   "source": [
    "stop_times_routes.trip_id.count()"
   ]
  },
  {
   "cell_type": "code",
   "execution_count": 91,
   "metadata": {},
   "outputs": [
    {
     "data": {
      "text/html": [
       "<div>\n",
       "<style scoped>\n",
       "    .dataframe tbody tr th:only-of-type {\n",
       "        vertical-align: middle;\n",
       "    }\n",
       "\n",
       "    .dataframe tbody tr th {\n",
       "        vertical-align: top;\n",
       "    }\n",
       "\n",
       "    .dataframe thead th {\n",
       "        text-align: right;\n",
       "    }\n",
       "</style>\n",
       "<table border=\"1\" class=\"dataframe\">\n",
       "  <thead>\n",
       "    <tr style=\"text-align: right;\">\n",
       "      <th></th>\n",
       "      <th>route_id</th>\n",
       "      <th>stop_id</th>\n",
       "      <th>trip_id</th>\n",
       "      <th>arrival_time</th>\n",
       "      <th>departure_time</th>\n",
       "      <th>stop_sequence</th>\n",
       "      <th>direction_id</th>\n",
       "      <th>stop_name</th>\n",
       "      <th>route_desc</th>\n",
       "      <th>stop_id_raw</th>\n",
       "      <th>hour_departure</th>\n",
       "      <th>all_stops</th>\n",
       "      <th>route_int</th>\n",
       "    </tr>\n",
       "  </thead>\n",
       "  <tbody>\n",
       "    <tr>\n",
       "      <th>81914</th>\n",
       "      <td>1-231-j19-1</td>\n",
       "      <td>8572747</td>\n",
       "      <td>1.TA.1-231-j19-1.1.H</td>\n",
       "      <td>09:37:00</td>\n",
       "      <td>09:37:00</td>\n",
       "      <td>1</td>\n",
       "      <td>0</td>\n",
       "      <td>Bremgarten AG, Bahnhof</td>\n",
       "      <td>Bus</td>\n",
       "      <td>8572747</td>\n",
       "      <td>9</td>\n",
       "      <td>(8572747, 8582462, 8572600, 8572601, 8502553, ...</td>\n",
       "      <td>618</td>\n",
       "    </tr>\n",
       "    <tr>\n",
       "      <th>181281</th>\n",
       "      <td>1-231-j19-1</td>\n",
       "      <td>8582462</td>\n",
       "      <td>1.TA.1-231-j19-1.1.H</td>\n",
       "      <td>09:38:00</td>\n",
       "      <td>09:38:00</td>\n",
       "      <td>3</td>\n",
       "      <td>0</td>\n",
       "      <td>Bremgarten AG, Zelgli</td>\n",
       "      <td>Bus</td>\n",
       "      <td>8582462</td>\n",
       "      <td>9</td>\n",
       "      <td>(8572747, 8582462, 8572600, 8572601, 8502553, ...</td>\n",
       "      <td>618</td>\n",
       "    </tr>\n",
       "    <tr>\n",
       "      <th>42460</th>\n",
       "      <td>1-231-j19-1</td>\n",
       "      <td>8572600</td>\n",
       "      <td>1.TA.1-231-j19-1.1.H</td>\n",
       "      <td>09:39:00</td>\n",
       "      <td>09:39:00</td>\n",
       "      <td>4</td>\n",
       "      <td>0</td>\n",
       "      <td>Zufikon, Emaus</td>\n",
       "      <td>Bus</td>\n",
       "      <td>8572600</td>\n",
       "      <td>9</td>\n",
       "      <td>(8572747, 8582462, 8572600, 8572601, 8502553, ...</td>\n",
       "      <td>618</td>\n",
       "    </tr>\n",
       "    <tr>\n",
       "      <th>224454</th>\n",
       "      <td>1-231-j19-1</td>\n",
       "      <td>8572601</td>\n",
       "      <td>1.TA.1-231-j19-1.1.H</td>\n",
       "      <td>09:39:00</td>\n",
       "      <td>09:39:00</td>\n",
       "      <td>5</td>\n",
       "      <td>0</td>\n",
       "      <td>Zufikon, Algier</td>\n",
       "      <td>Bus</td>\n",
       "      <td>8572601</td>\n",
       "      <td>9</td>\n",
       "      <td>(8572747, 8582462, 8572600, 8572601, 8502553, ...</td>\n",
       "      <td>618</td>\n",
       "    </tr>\n",
       "    <tr>\n",
       "      <th>11836</th>\n",
       "      <td>1-231-j19-1</td>\n",
       "      <td>8502553</td>\n",
       "      <td>1.TA.1-231-j19-1.1.H</td>\n",
       "      <td>09:43:00</td>\n",
       "      <td>09:43:00</td>\n",
       "      <td>6</td>\n",
       "      <td>0</td>\n",
       "      <td>Unterlunkhofen, Breitenäcker</td>\n",
       "      <td>Bus</td>\n",
       "      <td>8502553</td>\n",
       "      <td>9</td>\n",
       "      <td>(8572747, 8582462, 8572600, 8572601, 8502553, ...</td>\n",
       "      <td>618</td>\n",
       "    </tr>\n",
       "  </tbody>\n",
       "</table>\n",
       "</div>"
      ],
      "text/plain": [
       "           route_id  stop_id               trip_id arrival_time  \\\n",
       "81914   1-231-j19-1  8572747  1.TA.1-231-j19-1.1.H     09:37:00   \n",
       "181281  1-231-j19-1  8582462  1.TA.1-231-j19-1.1.H     09:38:00   \n",
       "42460   1-231-j19-1  8572600  1.TA.1-231-j19-1.1.H     09:39:00   \n",
       "224454  1-231-j19-1  8572601  1.TA.1-231-j19-1.1.H     09:39:00   \n",
       "11836   1-231-j19-1  8502553  1.TA.1-231-j19-1.1.H     09:43:00   \n",
       "\n",
       "       departure_time  stop_sequence  direction_id  \\\n",
       "81914        09:37:00              1             0   \n",
       "181281       09:38:00              3             0   \n",
       "42460        09:39:00              4             0   \n",
       "224454       09:39:00              5             0   \n",
       "11836        09:43:00              6             0   \n",
       "\n",
       "                           stop_name route_desc stop_id_raw  hour_departure  \\\n",
       "81914         Bremgarten AG, Bahnhof        Bus     8572747               9   \n",
       "181281         Bremgarten AG, Zelgli        Bus     8582462               9   \n",
       "42460                 Zufikon, Emaus        Bus     8572600               9   \n",
       "224454               Zufikon, Algier        Bus     8572601               9   \n",
       "11836   Unterlunkhofen, Breitenäcker        Bus     8502553               9   \n",
       "\n",
       "                                                all_stops  route_int  \n",
       "81914   (8572747, 8582462, 8572600, 8572601, 8502553, ...        618  \n",
       "181281  (8572747, 8582462, 8572600, 8572601, 8502553, ...        618  \n",
       "42460   (8572747, 8582462, 8572600, 8572601, 8502553, ...        618  \n",
       "224454  (8572747, 8582462, 8572600, 8572601, 8502553, ...        618  \n",
       "11836   (8572747, 8582462, 8572600, 8572601, 8502553, ...        618  "
      ]
     },
     "execution_count": 91,
     "metadata": {},
     "output_type": "execute_result"
    }
   ],
   "source": [
    "stop_times_routes.head(5)"
   ]
  },
  {
   "cell_type": "code",
   "execution_count": 92,
   "metadata": {},
   "outputs": [
    {
     "data": {
      "text/plain": [
       "2554"
      ]
     },
     "execution_count": 92,
     "metadata": {},
     "output_type": "execute_result"
    }
   ],
   "source": [
    "#check if route_int is correct\n",
    "stop_times_routes.route_int.max()"
   ]
  },
  {
   "cell_type": "markdown",
   "metadata": {},
   "source": [
    "#### Trip_int\n",
    "The trip_int number needs to be ordered by route_int and time"
   ]
  },
  {
   "cell_type": "code",
   "execution_count": 93,
   "metadata": {},
   "outputs": [
    {
     "data": {
      "text/plain": [
       "19390"
      ]
     },
     "execution_count": 93,
     "metadata": {},
     "output_type": "execute_result"
    }
   ],
   "source": [
    "#check number trips in stop_times\n",
    "stop_times_routes.trip_id.nunique()"
   ]
  },
  {
   "cell_type": "code",
   "execution_count": 94,
   "metadata": {},
   "outputs": [
    {
     "data": {
      "text/html": [
       "<div>\n",
       "<style scoped>\n",
       "    .dataframe tbody tr th:only-of-type {\n",
       "        vertical-align: middle;\n",
       "    }\n",
       "\n",
       "    .dataframe tbody tr th {\n",
       "        vertical-align: top;\n",
       "    }\n",
       "\n",
       "    .dataframe thead th {\n",
       "        text-align: right;\n",
       "    }\n",
       "</style>\n",
       "<table border=\"1\" class=\"dataframe\">\n",
       "  <thead>\n",
       "    <tr style=\"text-align: right;\">\n",
       "      <th></th>\n",
       "      <th>route_id</th>\n",
       "      <th>stop_id</th>\n",
       "      <th>trip_id</th>\n",
       "      <th>arrival_time</th>\n",
       "      <th>departure_time</th>\n",
       "      <th>stop_sequence</th>\n",
       "      <th>direction_id</th>\n",
       "      <th>stop_name</th>\n",
       "      <th>route_desc</th>\n",
       "      <th>stop_id_raw</th>\n",
       "      <th>hour_departure</th>\n",
       "      <th>all_stops</th>\n",
       "      <th>route_int</th>\n",
       "    </tr>\n",
       "  </thead>\n",
       "  <tbody>\n",
       "    <tr>\n",
       "      <th>181290</th>\n",
       "      <td>26-24-j19-1</td>\n",
       "      <td>8502208</td>\n",
       "      <td>403.TA.26-24-j19-1.220.R</td>\n",
       "      <td>10:44:00</td>\n",
       "      <td>10:45:00</td>\n",
       "      <td>3</td>\n",
       "      <td>1</td>\n",
       "      <td>Horgen Oberdorf</td>\n",
       "      <td>S-Bahn</td>\n",
       "      <td>8502208:0:4</td>\n",
       "      <td>10</td>\n",
       "      <td>(8502208, 8502209, 8503201, 8503010, 8503011, ...</td>\n",
       "      <td>0</td>\n",
       "    </tr>\n",
       "    <tr>\n",
       "      <th>261974</th>\n",
       "      <td>26-24-j19-1</td>\n",
       "      <td>8502209</td>\n",
       "      <td>403.TA.26-24-j19-1.220.R</td>\n",
       "      <td>10:47:00</td>\n",
       "      <td>10:47:00</td>\n",
       "      <td>4</td>\n",
       "      <td>1</td>\n",
       "      <td>Oberrieden Dorf</td>\n",
       "      <td>S-Bahn</td>\n",
       "      <td>8502209:0:1</td>\n",
       "      <td>10</td>\n",
       "      <td>(8502208, 8502209, 8503201, 8503010, 8503011, ...</td>\n",
       "      <td>0</td>\n",
       "    </tr>\n",
       "    <tr>\n",
       "      <th>130162</th>\n",
       "      <td>26-24-j19-1</td>\n",
       "      <td>8503201</td>\n",
       "      <td>403.TA.26-24-j19-1.220.R</td>\n",
       "      <td>10:53:00</td>\n",
       "      <td>10:53:00</td>\n",
       "      <td>6</td>\n",
       "      <td>1</td>\n",
       "      <td>Rüschlikon</td>\n",
       "      <td>S-Bahn</td>\n",
       "      <td>8503201:0:2</td>\n",
       "      <td>10</td>\n",
       "      <td>(8502208, 8502209, 8503201, 8503010, 8503011, ...</td>\n",
       "      <td>0</td>\n",
       "    </tr>\n",
       "    <tr>\n",
       "      <th>173670</th>\n",
       "      <td>26-24-j19-1</td>\n",
       "      <td>8503010</td>\n",
       "      <td>403.TA.26-24-j19-1.220.R</td>\n",
       "      <td>11:02:00</td>\n",
       "      <td>11:03:00</td>\n",
       "      <td>9</td>\n",
       "      <td>1</td>\n",
       "      <td>Zürich Enge</td>\n",
       "      <td>S-Bahn</td>\n",
       "      <td>8503010:0:2</td>\n",
       "      <td>11</td>\n",
       "      <td>(8502208, 8502209, 8503201, 8503010, 8503011, ...</td>\n",
       "      <td>0</td>\n",
       "    </tr>\n",
       "    <tr>\n",
       "      <th>238129</th>\n",
       "      <td>26-24-j19-1</td>\n",
       "      <td>8503011</td>\n",
       "      <td>403.TA.26-24-j19-1.220.R</td>\n",
       "      <td>11:04:00</td>\n",
       "      <td>11:04:00</td>\n",
       "      <td>10</td>\n",
       "      <td>1</td>\n",
       "      <td>Zürich Wiedikon</td>\n",
       "      <td>S-Bahn</td>\n",
       "      <td>8503011:0:2</td>\n",
       "      <td>11</td>\n",
       "      <td>(8502208, 8502209, 8503201, 8503010, 8503011, ...</td>\n",
       "      <td>0</td>\n",
       "    </tr>\n",
       "  </tbody>\n",
       "</table>\n",
       "</div>"
      ],
      "text/plain": [
       "           route_id  stop_id                   trip_id arrival_time  \\\n",
       "181290  26-24-j19-1  8502208  403.TA.26-24-j19-1.220.R     10:44:00   \n",
       "261974  26-24-j19-1  8502209  403.TA.26-24-j19-1.220.R     10:47:00   \n",
       "130162  26-24-j19-1  8503201  403.TA.26-24-j19-1.220.R     10:53:00   \n",
       "173670  26-24-j19-1  8503010  403.TA.26-24-j19-1.220.R     11:02:00   \n",
       "238129  26-24-j19-1  8503011  403.TA.26-24-j19-1.220.R     11:04:00   \n",
       "\n",
       "       departure_time  stop_sequence  direction_id        stop_name  \\\n",
       "181290       10:45:00              3             1  Horgen Oberdorf   \n",
       "261974       10:47:00              4             1  Oberrieden Dorf   \n",
       "130162       10:53:00              6             1       Rüschlikon   \n",
       "173670       11:03:00              9             1      Zürich Enge   \n",
       "238129       11:04:00             10             1  Zürich Wiedikon   \n",
       "\n",
       "       route_desc  stop_id_raw  hour_departure  \\\n",
       "181290     S-Bahn  8502208:0:4              10   \n",
       "261974     S-Bahn  8502209:0:1              10   \n",
       "130162     S-Bahn  8503201:0:2              10   \n",
       "173670     S-Bahn  8503010:0:2              11   \n",
       "238129     S-Bahn  8503011:0:2              11   \n",
       "\n",
       "                                                all_stops  route_int  \n",
       "181290  (8502208, 8502209, 8503201, 8503010, 8503011, ...          0  \n",
       "261974  (8502208, 8502209, 8503201, 8503010, 8503011, ...          0  \n",
       "130162  (8502208, 8502209, 8503201, 8503010, 8503011, ...          0  \n",
       "173670  (8502208, 8502209, 8503201, 8503010, 8503011, ...          0  \n",
       "238129  (8502208, 8502209, 8503201, 8503010, 8503011, ...          0  "
      ]
     },
     "execution_count": 94,
     "metadata": {},
     "output_type": "execute_result"
    }
   ],
   "source": [
    "stop_times_routes.sort_values([\"route_int\", \"arrival_time\"]).head(5)"
   ]
  },
  {
   "cell_type": "markdown",
   "metadata": {},
   "source": [
    "Generate sequential trip_int, ordered by route and by time"
   ]
  },
  {
   "cell_type": "code",
   "execution_count": 95,
   "metadata": {},
   "outputs": [
    {
     "data": {
      "text/html": [
       "<div>\n",
       "<style scoped>\n",
       "    .dataframe tbody tr th:only-of-type {\n",
       "        vertical-align: middle;\n",
       "    }\n",
       "\n",
       "    .dataframe tbody tr th {\n",
       "        vertical-align: top;\n",
       "    }\n",
       "\n",
       "    .dataframe thead th {\n",
       "        text-align: right;\n",
       "    }\n",
       "</style>\n",
       "<table border=\"1\" class=\"dataframe\">\n",
       "  <thead>\n",
       "    <tr style=\"text-align: right;\">\n",
       "      <th></th>\n",
       "      <th>0</th>\n",
       "      <th>trip_int</th>\n",
       "      <th>trip_id</th>\n",
       "    </tr>\n",
       "  </thead>\n",
       "  <tbody>\n",
       "    <tr>\n",
       "      <th>0</th>\n",
       "      <td>403.TA.26-24-j19-1.220.R</td>\n",
       "      <td>0</td>\n",
       "      <td>403.TA.26-24-j19-1.220.R</td>\n",
       "    </tr>\n",
       "    <tr>\n",
       "      <th>1</th>\n",
       "      <td>425.TA.26-24-j19-1.220.R</td>\n",
       "      <td>1</td>\n",
       "      <td>425.TA.26-24-j19-1.220.R</td>\n",
       "    </tr>\n",
       "    <tr>\n",
       "      <th>2</th>\n",
       "      <td>4.TA.30-57-Y-j19-1.1.H</td>\n",
       "      <td>2</td>\n",
       "      <td>4.TA.30-57-Y-j19-1.1.H</td>\n",
       "    </tr>\n",
       "    <tr>\n",
       "      <th>3</th>\n",
       "      <td>5.TA.30-57-Y-j19-1.1.H</td>\n",
       "      <td>3</td>\n",
       "      <td>5.TA.30-57-Y-j19-1.1.H</td>\n",
       "    </tr>\n",
       "    <tr>\n",
       "      <th>4</th>\n",
       "      <td>6.TA.30-57-Y-j19-1.1.H</td>\n",
       "      <td>4</td>\n",
       "      <td>6.TA.30-57-Y-j19-1.1.H</td>\n",
       "    </tr>\n",
       "  </tbody>\n",
       "</table>\n",
       "</div>"
      ],
      "text/plain": [
       "                          0  trip_int                   trip_id\n",
       "0  403.TA.26-24-j19-1.220.R         0  403.TA.26-24-j19-1.220.R\n",
       "1  425.TA.26-24-j19-1.220.R         1  425.TA.26-24-j19-1.220.R\n",
       "2    4.TA.30-57-Y-j19-1.1.H         2    4.TA.30-57-Y-j19-1.1.H\n",
       "3    5.TA.30-57-Y-j19-1.1.H         3    5.TA.30-57-Y-j19-1.1.H\n",
       "4    6.TA.30-57-Y-j19-1.1.H         4    6.TA.30-57-Y-j19-1.1.H"
      ]
     },
     "execution_count": 95,
     "metadata": {},
     "output_type": "execute_result"
    }
   ],
   "source": [
    "trip_df = pd.DataFrame(stop_times_routes.sort_values([\"route_int\", \"arrival_time\"]).trip_id.unique())\n",
    "trip_df[\"trip_int\"] = trip_df.index\n",
    "trip_df[\"trip_id\"] = trip_df.iloc[:,0]\n",
    "trip_df.head(5)"
   ]
  },
  {
   "cell_type": "code",
   "execution_count": 96,
   "metadata": {},
   "outputs": [
    {
     "data": {
      "text/plain": [
       "19390"
      ]
     },
     "execution_count": 96,
     "metadata": {},
     "output_type": "execute_result"
    }
   ],
   "source": [
    "#check number trip_id\n",
    "trip_df.trip_id.nunique()"
   ]
  },
  {
   "cell_type": "markdown",
   "metadata": {},
   "source": [
    "We join trip_id to stop_times dataframe"
   ]
  },
  {
   "cell_type": "code",
   "execution_count": null,
   "metadata": {},
   "outputs": [],
   "source": [
    "#join to get trip_int in stop_times\n",
    "stop_times_routes_trip = stop_times_routes.join(trip_df.set_index(\"trip_id\"), how=\"inner\", on=\"trip_id\" , lsuffix='_left', rsuffix='_right').drop_duplicates()\n"
   ]
  },
  {
   "cell_type": "code",
   "execution_count": null,
   "metadata": {},
   "outputs": [],
   "source": [
    "#save ordered stop_times\n",
    "stop_times_routes_trip = stop_times_routes_trip.sort_values([\"route_int\", \"trip_int\", \"stop_sequence\"])\n",
    "stop_times_routes_trip.head(5)"
   ]
  },
  {
   "cell_type": "code",
   "execution_count": null,
   "metadata": {},
   "outputs": [],
   "source": [
    "#check if manipulations did not destroy trips\n",
    "stop_times_routes_trip.trip_id.nunique()"
   ]
  },
  {
   "cell_type": "markdown",
   "metadata": {},
   "source": [
    "#### Stop_int\n",
    "Stop_int id needs to ordered by route, trip and stop sequence"
   ]
  },
  {
   "cell_type": "code",
   "execution_count": null,
   "metadata": {},
   "outputs": [],
   "source": [
    "#check number stops at entry\n",
    "stop_times_routes_trip.stop_id.nunique()"
   ]
  },
  {
   "cell_type": "markdown",
   "metadata": {},
   "source": [
    "stop_times_routes_trip is already in the right order. We create dataframe to create stop_int"
   ]
  },
  {
   "cell_type": "code",
   "execution_count": null,
   "metadata": {},
   "outputs": [],
   "source": [
    "stops_df = pd.DataFrame(stop_times_routes_trip.stop_id.unique())\n",
    "stops_df[\"stop_int\"] = stops_df.index\n",
    "stops_df[\"stop_id\"] = stops_df.iloc[:,0]\n",
    "stops_df.head(5)"
   ]
  },
  {
   "cell_type": "code",
   "execution_count": null,
   "metadata": {},
   "outputs": [],
   "source": [
    "#check if number stop_int correct\n",
    "stops_df.stop_int.nunique()"
   ]
  },
  {
   "cell_type": "markdown",
   "metadata": {},
   "source": [
    "We add stop_int information to stop_times"
   ]
  },
  {
   "cell_type": "code",
   "execution_count": null,
   "metadata": {},
   "outputs": [],
   "source": [
    "#join to get stop_int\n",
    "stop_times_routes_trip_stop = stop_times_routes_trip.join(stops_df.set_index(\"stop_id\"), how=\"inner\", on=\"stop_id\",  lsuffix='_left', rsuffix='_right').drop_duplicates()\n"
   ]
  },
  {
   "cell_type": "code",
   "execution_count": null,
   "metadata": {},
   "outputs": [],
   "source": [
    "stop_times_routes_trip_stop.head(5)"
   ]
  },
  {
   "cell_type": "code",
   "execution_count": null,
   "metadata": {},
   "outputs": [],
   "source": [
    "#check if no stops deleted during manipulation\n",
    "stop_times_routes_trip_stop.stop_id.nunique()"
   ]
  },
  {
   "cell_type": "code",
   "execution_count": null,
   "metadata": {},
   "outputs": [],
   "source": [
    "stop_times_routes_trip_stop.stop_int.max()"
   ]
  },
  {
   "cell_type": "code",
   "execution_count": null,
   "metadata": {},
   "outputs": [],
   "source": [
    "#keep only useful columns \n",
    "stop_times_int = stop_times_routes_trip_stop[[\"route_int\", \"trip_int\", \"stop_int\", \"stop_sequence\", \"arrival_time\", \"departure_time\",\\\n",
    "                                          \"route_id\", \"trip_id\", \"stop_id\", \\\n",
    "                                             \"route_desc\", \"stop_id_raw\", \"stop_name\"]].sort_values([\"route_int\", \"trip_int\", \"stop_sequence\"])"
   ]
  },
  {
   "cell_type": "code",
   "execution_count": null,
   "metadata": {},
   "outputs": [],
   "source": [
    "stop_times_int = stop_times_int.reset_index(drop=True)"
   ]
  },
  {
   "cell_type": "code",
   "execution_count": null,
   "metadata": {},
   "outputs": [],
   "source": [
    "stop_times_int.loc[100:150].head(5)"
   ]
  },
  {
   "cell_type": "markdown",
   "metadata": {},
   "source": [
    "An overview of number of routes, trips and stops"
   ]
  },
  {
   "cell_type": "code",
   "execution_count": null,
   "metadata": {},
   "outputs": [],
   "source": [
    "stop_times_int.route_int.nunique()"
   ]
  },
  {
   "cell_type": "code",
   "execution_count": null,
   "metadata": {},
   "outputs": [],
   "source": [
    "stop_times_int.trip_int.nunique()"
   ]
  },
  {
   "cell_type": "code",
   "execution_count": null,
   "metadata": {},
   "outputs": [],
   "source": [
    "stop_times_int.stop_int.nunique()"
   ]
  },
  {
   "cell_type": "code",
   "execution_count": null,
   "metadata": {},
   "outputs": [],
   "source": [
    "stop_times_int.stop_int.count()"
   ]
  },
  {
   "cell_type": "code",
   "execution_count": null,
   "metadata": {},
   "outputs": [],
   "source": []
  },
  {
   "cell_type": "code",
   "execution_count": null,
   "metadata": {},
   "outputs": [],
   "source": []
  },
  {
   "cell_type": "markdown",
   "metadata": {},
   "source": [
    "### Transfer: delete transfer to same stop & get stop_int & stop_int2\n"
   ]
  },
  {
   "cell_type": "code",
   "execution_count": 7,
   "metadata": {},
   "outputs": [
    {
     "data": {
      "text/plain": [
       "12564"
      ]
     },
     "execution_count": 7,
     "metadata": {},
     "output_type": "execute_result"
    }
   ],
   "source": [
    "#check number stops transfers\n",
    "transfers.stop_id.count()"
   ]
  },
  {
   "cell_type": "code",
   "execution_count": 8,
   "metadata": {},
   "outputs": [
    {
     "data": {
      "text/html": [
       "<div>\n",
       "<style scoped>\n",
       "    .dataframe tbody tr th:only-of-type {\n",
       "        vertical-align: middle;\n",
       "    }\n",
       "\n",
       "    .dataframe tbody tr th {\n",
       "        vertical-align: top;\n",
       "    }\n",
       "\n",
       "    .dataframe thead th {\n",
       "        text-align: right;\n",
       "    }\n",
       "</style>\n",
       "<table border=\"1\" class=\"dataframe\">\n",
       "  <thead>\n",
       "    <tr style=\"text-align: right;\">\n",
       "      <th></th>\n",
       "      <th>Unnamed: 0</th>\n",
       "      <th>stop_id</th>\n",
       "      <th>stop_id2</th>\n",
       "      <th>distance</th>\n",
       "      <th>Transfer_time_sec</th>\n",
       "      <th>stop_name</th>\n",
       "      <th>stop_name2</th>\n",
       "    </tr>\n",
       "  </thead>\n",
       "  <tbody>\n",
       "    <tr>\n",
       "      <th>0</th>\n",
       "      <td>0</td>\n",
       "      <td>8500926</td>\n",
       "      <td>8590616</td>\n",
       "      <td>0.122430</td>\n",
       "      <td>146</td>\n",
       "      <td>Oetwil a.d.L., Schweizäcker</td>\n",
       "      <td>Geroldswil, Schweizäcker</td>\n",
       "    </tr>\n",
       "    <tr>\n",
       "      <th>1</th>\n",
       "      <td>1</td>\n",
       "      <td>8500926</td>\n",
       "      <td>8590737</td>\n",
       "      <td>0.300175</td>\n",
       "      <td>360</td>\n",
       "      <td>Oetwil a.d.L., Schweizäcker</td>\n",
       "      <td>Oetwil an der Limmat, Halde</td>\n",
       "    </tr>\n",
       "    <tr>\n",
       "      <th>2</th>\n",
       "      <td>2</td>\n",
       "      <td>8502186</td>\n",
       "      <td>8502186:0:1</td>\n",
       "      <td>0.006762</td>\n",
       "      <td>8</td>\n",
       "      <td>Dietikon Stoffelbach</td>\n",
       "      <td>Dietikon Stoffelbach</td>\n",
       "    </tr>\n",
       "    <tr>\n",
       "      <th>3</th>\n",
       "      <td>3</td>\n",
       "      <td>8502186</td>\n",
       "      <td>8502186:0:2</td>\n",
       "      <td>0.013524</td>\n",
       "      <td>16</td>\n",
       "      <td>Dietikon Stoffelbach</td>\n",
       "      <td>Dietikon Stoffelbach</td>\n",
       "    </tr>\n",
       "    <tr>\n",
       "      <th>4</th>\n",
       "      <td>4</td>\n",
       "      <td>8502186</td>\n",
       "      <td>8502186P</td>\n",
       "      <td>0.000000</td>\n",
       "      <td>0</td>\n",
       "      <td>Dietikon Stoffelbach</td>\n",
       "      <td>Dietikon Stoffelbach</td>\n",
       "    </tr>\n",
       "  </tbody>\n",
       "</table>\n",
       "</div>"
      ],
      "text/plain": [
       "   Unnamed: 0  stop_id     stop_id2  distance  Transfer_time_sec  \\\n",
       "0           0  8500926      8590616  0.122430                146   \n",
       "1           1  8500926      8590737  0.300175                360   \n",
       "2           2  8502186  8502186:0:1  0.006762                  8   \n",
       "3           3  8502186  8502186:0:2  0.013524                 16   \n",
       "4           4  8502186     8502186P  0.000000                  0   \n",
       "\n",
       "                     stop_name                   stop_name2  \n",
       "0  Oetwil a.d.L., Schweizäcker     Geroldswil, Schweizäcker  \n",
       "1  Oetwil a.d.L., Schweizäcker  Oetwil an der Limmat, Halde  \n",
       "2         Dietikon Stoffelbach         Dietikon Stoffelbach  \n",
       "3         Dietikon Stoffelbach         Dietikon Stoffelbach  \n",
       "4         Dietikon Stoffelbach         Dietikon Stoffelbach  "
      ]
     },
     "execution_count": 8,
     "metadata": {},
     "output_type": "execute_result"
    }
   ],
   "source": [
    "transfers.head(5)"
   ]
  },
  {
   "cell_type": "markdown",
   "metadata": {},
   "source": [
    "We delete transfers to the same stop"
   ]
  },
  {
   "cell_type": "code",
   "execution_count": 9,
   "metadata": {},
   "outputs": [],
   "source": [
    "transfers_df = transfers[transfers['stop_id'] != transfers['stop_id2']]"
   ]
  },
  {
   "cell_type": "code",
   "execution_count": 10,
   "metadata": {},
   "outputs": [
    {
     "data": {
      "text/plain": [
       "12564"
      ]
     },
     "execution_count": 10,
     "metadata": {},
     "output_type": "execute_result"
    }
   ],
   "source": [
    "transfers_df.stop_id.count()"
   ]
  },
  {
   "cell_type": "markdown",
   "metadata": {},
   "source": [
    "We create the stop_int column in transfers. This action eliminates stops not in stop_times"
   ]
  },
  {
   "cell_type": "code",
   "execution_count": 13,
   "metadata": {},
   "outputs": [],
   "source": [
    "stop_times_int = stop_times_curated"
   ]
  },
  {
   "cell_type": "code",
   "execution_count": null,
   "metadata": {},
   "outputs": [],
   "source": [
    "transfers_df = transfers_df.merge(stop_times_int[[\"stop_id\", \"stop_int\"]].set_index(\"stop_id\"), how=\"inner\", on = \"stop_id\").drop_duplicates()"
   ]
  },
  {
   "cell_type": "code",
   "execution_count": null,
   "metadata": {},
   "outputs": [],
   "source": [
    "transfers_df.stop_id.count()"
   ]
  },
  {
   "cell_type": "code",
   "execution_count": null,
   "metadata": {},
   "outputs": [],
   "source": [
    "transfers_df.head(5)"
   ]
  },
  {
   "cell_type": "code",
   "execution_count": null,
   "metadata": {},
   "outputs": [],
   "source": [
    "#create dataframe with stops\n",
    "df_stop_int2 = stop_times_int[[\"stop_id\", \"stop_int\"]].rename(columns={\"stop_id\": \"stop_id2\", \"stop_int\" : \"stop_int_2\"})\n",
    "df_stop_int2.head(5)"
   ]
  },
  {
   "cell_type": "markdown",
   "metadata": {},
   "source": [
    "We add the the stop id for the arrival destination, stop_int2"
   ]
  },
  {
   "cell_type": "code",
   "execution_count": null,
   "metadata": {},
   "outputs": [],
   "source": [
    "transfers_df_int = transfers_df.merge(df_stop_int2.set_index(\"stop_id2\"), how=\"inner\", on = \"stop_id2\").drop_duplicates()"
   ]
  },
  {
   "cell_type": "code",
   "execution_count": null,
   "metadata": {},
   "outputs": [],
   "source": [
    "transfers_df_int.head(5)"
   ]
  },
  {
   "cell_type": "code",
   "execution_count": null,
   "metadata": {},
   "outputs": [],
   "source": [
    "transfers_df_int.stop_id.count()"
   ]
  },
  {
   "cell_type": "code",
   "execution_count": null,
   "metadata": {},
   "outputs": [],
   "source": [
    "transfers = transfers_df_int"
   ]
  },
  {
   "cell_type": "code",
   "execution_count": null,
   "metadata": {},
   "outputs": [],
   "source": [
    "#check number unique stops2 in transfers\n",
    "transfers.stop_id2.nunique()"
   ]
  },
  {
   "cell_type": "code",
   "execution_count": null,
   "metadata": {},
   "outputs": [],
   "source": [
    "transfers.stop_id.nunique()"
   ]
  },
  {
   "cell_type": "code",
   "execution_count": null,
   "metadata": {},
   "outputs": [],
   "source": []
  },
  {
   "cell_type": "code",
   "execution_count": 5,
   "metadata": {},
   "outputs": [
    {
     "data": {
      "text/html": [
       "<div>\n",
       "<style scoped>\n",
       "    .dataframe tbody tr th:only-of-type {\n",
       "        vertical-align: middle;\n",
       "    }\n",
       "\n",
       "    .dataframe tbody tr th {\n",
       "        vertical-align: top;\n",
       "    }\n",
       "\n",
       "    .dataframe thead th {\n",
       "        text-align: right;\n",
       "    }\n",
       "</style>\n",
       "<table border=\"1\" class=\"dataframe\">\n",
       "  <thead>\n",
       "    <tr style=\"text-align: right;\">\n",
       "      <th></th>\n",
       "      <th>Unnamed: 0</th>\n",
       "      <th>route_id</th>\n",
       "      <th>stop_id_general</th>\n",
       "      <th>trip_id</th>\n",
       "      <th>stop_id</th>\n",
       "      <th>arrival_time</th>\n",
       "      <th>departure_time</th>\n",
       "      <th>stop_sequence</th>\n",
       "      <th>stop_name</th>\n",
       "      <th>stop_lat</th>\n",
       "      <th>stop_lon</th>\n",
       "      <th>trip_headsign</th>\n",
       "      <th>trip_short_name</th>\n",
       "      <th>direction_id</th>\n",
       "      <th>departure_first_stop</th>\n",
       "      <th>route_int</th>\n",
       "      <th>stop_count</th>\n",
       "      <th>stop_int</th>\n",
       "      <th>route_desc</th>\n",
       "    </tr>\n",
       "  </thead>\n",
       "  <tbody>\n",
       "    <tr>\n",
       "      <th>0</th>\n",
       "      <td>0</td>\n",
       "      <td>26-66-j19-1</td>\n",
       "      <td>8591205</td>\n",
       "      <td>17.TA.26-66-j19-1.1.H</td>\n",
       "      <td>8591205</td>\n",
       "      <td>17:00:00</td>\n",
       "      <td>17:00:00</td>\n",
       "      <td>3</td>\n",
       "      <td>Zürich, Hürlimannplatz</td>\n",
       "      <td>47.365066</td>\n",
       "      <td>8.526539</td>\n",
       "      <td>Zürich, Neubühl</td>\n",
       "      <td>3870</td>\n",
       "      <td>0</td>\n",
       "      <td>16:55:00</td>\n",
       "      <td>1225</td>\n",
       "      <td>12</td>\n",
       "      <td>1317</td>\n",
       "      <td>Bus</td>\n",
       "    </tr>\n",
       "    <tr>\n",
       "      <th>1</th>\n",
       "      <td>1</td>\n",
       "      <td>26-66-j19-1</td>\n",
       "      <td>8591415</td>\n",
       "      <td>17.TA.26-66-j19-1.1.H</td>\n",
       "      <td>8591415</td>\n",
       "      <td>17:02:00</td>\n",
       "      <td>17:02:00</td>\n",
       "      <td>4</td>\n",
       "      <td>Zürich, Waffenplatzstrasse</td>\n",
       "      <td>47.361482</td>\n",
       "      <td>8.525749</td>\n",
       "      <td>Zürich, Neubühl</td>\n",
       "      <td>3870</td>\n",
       "      <td>0</td>\n",
       "      <td>16:55:00</td>\n",
       "      <td>1225</td>\n",
       "      <td>12</td>\n",
       "      <td>1267</td>\n",
       "      <td>Bus</td>\n",
       "    </tr>\n",
       "    <tr>\n",
       "      <th>2</th>\n",
       "      <td>2</td>\n",
       "      <td>26-66-j19-1</td>\n",
       "      <td>8591204</td>\n",
       "      <td>17.TA.26-66-j19-1.1.H</td>\n",
       "      <td>8591204</td>\n",
       "      <td>17:03:00</td>\n",
       "      <td>17:03:00</td>\n",
       "      <td>5</td>\n",
       "      <td>Zürich, Hügelstrasse</td>\n",
       "      <td>47.358543</td>\n",
       "      <td>8.526997</td>\n",
       "      <td>Zürich, Neubühl</td>\n",
       "      <td>3870</td>\n",
       "      <td>0</td>\n",
       "      <td>16:55:00</td>\n",
       "      <td>1225</td>\n",
       "      <td>12</td>\n",
       "      <td>67</td>\n",
       "      <td>Bus</td>\n",
       "    </tr>\n",
       "    <tr>\n",
       "      <th>3</th>\n",
       "      <td>3</td>\n",
       "      <td>26-66-j19-1</td>\n",
       "      <td>8591098</td>\n",
       "      <td>17.TA.26-66-j19-1.1.H</td>\n",
       "      <td>8591098</td>\n",
       "      <td>17:04:00</td>\n",
       "      <td>17:04:00</td>\n",
       "      <td>6</td>\n",
       "      <td>Zürich, Brunau/Mutschellenstr.</td>\n",
       "      <td>47.355147</td>\n",
       "      <td>8.527141</td>\n",
       "      <td>Zürich, Neubühl</td>\n",
       "      <td>3870</td>\n",
       "      <td>0</td>\n",
       "      <td>16:55:00</td>\n",
       "      <td>1225</td>\n",
       "      <td>12</td>\n",
       "      <td>512</td>\n",
       "      <td>Bus</td>\n",
       "    </tr>\n",
       "    <tr>\n",
       "      <th>4</th>\n",
       "      <td>4</td>\n",
       "      <td>26-66-j19-1</td>\n",
       "      <td>8591392</td>\n",
       "      <td>17.TA.26-66-j19-1.1.H</td>\n",
       "      <td>8591392</td>\n",
       "      <td>17:05:00</td>\n",
       "      <td>17:05:00</td>\n",
       "      <td>7</td>\n",
       "      <td>Zürich, Thujastrasse</td>\n",
       "      <td>47.350187</td>\n",
       "      <td>8.527806</td>\n",
       "      <td>Zürich, Neubühl</td>\n",
       "      <td>3870</td>\n",
       "      <td>0</td>\n",
       "      <td>16:55:00</td>\n",
       "      <td>1225</td>\n",
       "      <td>12</td>\n",
       "      <td>403</td>\n",
       "      <td>Bus</td>\n",
       "    </tr>\n",
       "  </tbody>\n",
       "</table>\n",
       "</div>"
      ],
      "text/plain": [
       "   Unnamed: 0     route_id  stop_id_general                trip_id  stop_id  \\\n",
       "0           0  26-66-j19-1          8591205  17.TA.26-66-j19-1.1.H  8591205   \n",
       "1           1  26-66-j19-1          8591415  17.TA.26-66-j19-1.1.H  8591415   \n",
       "2           2  26-66-j19-1          8591204  17.TA.26-66-j19-1.1.H  8591204   \n",
       "3           3  26-66-j19-1          8591098  17.TA.26-66-j19-1.1.H  8591098   \n",
       "4           4  26-66-j19-1          8591392  17.TA.26-66-j19-1.1.H  8591392   \n",
       "\n",
       "  arrival_time departure_time  stop_sequence                       stop_name  \\\n",
       "0     17:00:00       17:00:00              3          Zürich, Hürlimannplatz   \n",
       "1     17:02:00       17:02:00              4      Zürich, Waffenplatzstrasse   \n",
       "2     17:03:00       17:03:00              5            Zürich, Hügelstrasse   \n",
       "3     17:04:00       17:04:00              6  Zürich, Brunau/Mutschellenstr.   \n",
       "4     17:05:00       17:05:00              7            Zürich, Thujastrasse   \n",
       "\n",
       "    stop_lat  stop_lon    trip_headsign  trip_short_name  direction_id  \\\n",
       "0  47.365066  8.526539  Zürich, Neubühl             3870             0   \n",
       "1  47.361482  8.525749  Zürich, Neubühl             3870             0   \n",
       "2  47.358543  8.526997  Zürich, Neubühl             3870             0   \n",
       "3  47.355147  8.527141  Zürich, Neubühl             3870             0   \n",
       "4  47.350187  8.527806  Zürich, Neubühl             3870             0   \n",
       "\n",
       "  departure_first_stop  route_int  stop_count  stop_int route_desc  \n",
       "0             16:55:00       1225          12      1317        Bus  \n",
       "1             16:55:00       1225          12      1267        Bus  \n",
       "2             16:55:00       1225          12        67        Bus  \n",
       "3             16:55:00       1225          12       512        Bus  \n",
       "4             16:55:00       1225          12       403        Bus  "
      ]
     },
     "execution_count": 5,
     "metadata": {},
     "output_type": "execute_result"
    }
   ],
   "source": [
    "stop_times_ordered = stop_times_curated\n",
    "stop_times_ordered.head(5)"
   ]
  },
  {
   "cell_type": "markdown",
   "metadata": {},
   "source": [
    "We start by making sure the order is correct"
   ]
  },
  {
   "cell_type": "code",
   "execution_count": null,
   "metadata": {},
   "outputs": [],
   "source": [
    "stop_times_ordered = stop_times_int.sort_values(by=[\"route_int\", \"trip_int\", \"stop_sequence\"])\n",
    "stop_times_ordered.head(5)"
   ]
  },
  {
   "cell_type": "code",
   "execution_count": null,
   "metadata": {},
   "outputs": [],
   "source": [
    "stop_times_ordered[[\"arrival_time\", \"departure_time\"]].head(5)"
   ]
  },
  {
   "cell_type": "markdown",
   "metadata": {},
   "source": [
    "We add None to first arrival time and last departure time."
   ]
  },
  {
   "cell_type": "code",
   "execution_count": null,
   "metadata": {},
   "outputs": [],
   "source": [
    "#adding a shift\n",
    "stop_times_ordered[\"sequence_shift_1\"] = stop_times_ordered[\"stop_sequence\"].shift(-1, fill_value=0)\n",
    "stop_times_ordered.head(5)"
   ]
  },
  {
   "cell_type": "code",
   "execution_count": null,
   "metadata": {},
   "outputs": [],
   "source": [
    "stop_times_ordered['departure_time'] = np.where((stop_times_ordered[\"stop_sequence\"] > stop_times_ordered[\"sequence_shift_1\"]), None, stop_times_ordered['departure_time'])"
   ]
  },
  {
   "cell_type": "code",
   "execution_count": null,
   "metadata": {},
   "outputs": [],
   "source": [
    "stop_times_ordered[\"arrival_time\"] = np.where((stop_times_ordered[\"stop_sequence\"] == 1), None, stop_times_ordered['arrival_time'])"
   ]
  },
  {
   "cell_type": "code",
   "execution_count": null,
   "metadata": {},
   "outputs": [],
   "source": [
    "stop_times_ordered[[\"arrival_time\",\"departure_time\", \"stop_sequence\", \"sequence_shift_1\"]].head(5)"
   ]
  },
  {
   "cell_type": "markdown",
   "metadata": {},
   "source": [
    "## Array structure preparation"
   ]
  },
  {
   "cell_type": "markdown",
   "metadata": {},
   "source": [
    "#### StopTimes: \n",
    "[[departure_route0_trip0_stop0, arrival_route0_trip0_stop_0], [departure_route0_trip0_stop1, arrival_route0_trip0_stop_1], …], [[departure_route0_trip1_stop0, arrival_route0_trip1_stop_0], …], ….], [[[departure_route1_trip0_stop0, arrival_route1_trip0_stop_0], …], [[departure_route1_trip1_stop0, arrival_route0_trip1_stop_0], …], ….], …]"
   ]
  },
  {
   "cell_type": "markdown",
   "metadata": {},
   "source": [
    "We transform it in datetime as required by the raptor algorithm"
   ]
  },
  {
   "cell_type": "code",
   "execution_count": null,
   "metadata": {},
   "outputs": [],
   "source": [
    "stop_times_ordered['arrival_time'] = pd.to_datetime(stop_times_ordered['arrival_time'])\n",
    "stop_times_ordered['departure_time'] = pd.to_datetime(stop_times_ordered['departure_time'])"
   ]
  },
  {
   "cell_type": "code",
   "execution_count": null,
   "metadata": {},
   "outputs": [],
   "source": [
    "stop_times_ordered[[\"arrival_time\", \"departure_time\"]].head(5)"
   ]
  },
  {
   "cell_type": "code",
   "execution_count": null,
   "metadata": {},
   "outputs": [],
   "source": [
    "with open('../data/stop_times_df.pkl','wb') as f: pickle.dump(stop_times_ordered, f)"
   ]
  },
  {
   "cell_type": "code",
   "execution_count": null,
   "metadata": {},
   "outputs": [],
   "source": [
    "stop_times_ordered = stop_times_ordered.sort_values(by=[\"route_int\", \"trip_int\", \"stop_sequence\"])\n",
    "stop_times_ordered.head(5)"
   ]
  },
  {
   "cell_type": "markdown",
   "metadata": {},
   "source": [
    "And we transform it to array, ready ti be used by raptor"
   ]
  },
  {
   "cell_type": "code",
   "execution_count": null,
   "metadata": {},
   "outputs": [],
   "source": [
    "stop_times_array = stop_times_ordered[[\"arrival_time\", \"departure_time\"]].to_numpy()\n",
    "stop_times_array"
   ]
  },
  {
   "cell_type": "code",
   "execution_count": null,
   "metadata": {},
   "outputs": [],
   "source": [
    "np.size(stop_times_array,0)"
   ]
  },
  {
   "cell_type": "code",
   "execution_count": null,
   "metadata": {},
   "outputs": [],
   "source": [
    "with open('../data/stop_times_array.pkl','wb') as f: pickle.dump(stop_times_array, f)"
   ]
  },
  {
   "cell_type": "markdown",
   "metadata": {},
   "source": [
    "#### Routes: \n",
    "[[route0_nr.Trips, route0_nr. Stops, route0_pointerRoutes, route0_pointerStops_times],[route1_nr.Trips, route1_nr. Stops,, route1_pointerRoutes, route1_pointerStops_times],…]"
   ]
  },
  {
   "cell_type": "markdown",
   "metadata": {},
   "source": [
    "We start by getting the number of trips and stops there is for each route"
   ]
  },
  {
   "cell_type": "code",
   "execution_count": null,
   "metadata": {},
   "outputs": [],
   "source": [
    "distinct_trips_stops = stop_times_ordered.groupby([\"route_int\"]).nunique()[[\"trip_int\",\"stop_int\"]].sort_index().rename(columns={\"trip_int\": \"n_Trips\", \"stop_int\": \"n_stops\"})\n",
    "distinct_trips_stops.head(5)"
   ]
  },
  {
   "cell_type": "code",
   "execution_count": null,
   "metadata": {},
   "outputs": [],
   "source": [
    "distinct_trips_stops.shape"
   ]
  },
  {
   "cell_type": "markdown",
   "metadata": {},
   "source": [
    "We create the pointer for the route stops, by adding the unique stops for each route"
   ]
  },
  {
   "cell_type": "code",
   "execution_count": null,
   "metadata": {},
   "outputs": [],
   "source": [
    "distinct_trips_stops['pointer_routes_stops'] = distinct_trips_stops.n_stops.cumsum().shift(1, fill_value=0)\n",
    "distinct_trips_stops.head(5)"
   ]
  },
  {
   "cell_type": "markdown",
   "metadata": {},
   "source": [
    "We create the pointer for stop_times by adding the number of stops in each route, counting duplicates (due to several trips)"
   ]
  },
  {
   "cell_type": "code",
   "execution_count": null,
   "metadata": {},
   "outputs": [],
   "source": [
    "distinct_trips_stops[\"pointer_stop_times\"] = (stop_times_ordered.groupby([\"route_int\"]).count().stop_id).cumsum().shift(1, fill_value=0)"
   ]
  },
  {
   "cell_type": "code",
   "execution_count": null,
   "metadata": {},
   "outputs": [],
   "source": [
    "distinct_trips_stops[\"pointer_routes_stops_shift\"] = distinct_trips_stops['pointer_routes_stops'].shift(-1, fill_value=0)\n",
    "distinct_trips_stops[\"pointer_stop_times_shift\"] = distinct_trips_stops['pointer_stop_times'].shift(-1, fill_value=0)\n",
    "distinct_trips_stops.head(5)"
   ]
  },
  {
   "cell_type": "code",
   "execution_count": null,
   "metadata": {},
   "outputs": [],
   "source": [
    "distinct_trips_stops['pointer_routes_stops'] = np.where((distinct_trips_stops[\"pointer_routes_stops\"] == distinct_trips_stops[\"pointer_routes_stops_shift\"]), None, distinct_trips_stops['pointer_routes_stops'])\n",
    "distinct_trips_stops['pointer_stop_times'] = np.where((distinct_trips_stops[\"pointer_stop_times\"] == distinct_trips_stops[\"pointer_stop_times_shift\"]), None, distinct_trips_stops['pointer_stop_times'])\n"
   ]
  },
  {
   "cell_type": "code",
   "execution_count": null,
   "metadata": {},
   "outputs": [],
   "source": [
    "distinct_trips_stops.isna().any()"
   ]
  },
  {
   "cell_type": "code",
   "execution_count": null,
   "metadata": {},
   "outputs": [],
   "source": [
    "with open('../data/routes_array_df.pkl','wb') as f: pickle.dump(distinct_trips_stops[['n_Trips', 'n_stops', 'pointer_routes_stops', 'pointer_stop_times']], f)"
   ]
  },
  {
   "cell_type": "code",
   "execution_count": null,
   "metadata": {},
   "outputs": [],
   "source": [
    "distinct_trips_stops.info()"
   ]
  },
  {
   "cell_type": "code",
   "execution_count": null,
   "metadata": {},
   "outputs": [],
   "source": [
    "routes_array = distinct_trips_stops[['n_Trips', 'n_stops', 'pointer_routes_stops', 'pointer_stop_times']].to_numpy()\n",
    "routes_array"
   ]
  },
  {
   "cell_type": "code",
   "execution_count": null,
   "metadata": {},
   "outputs": [],
   "source": [
    "np.size(routes_array, 0)"
   ]
  },
  {
   "cell_type": "code",
   "execution_count": null,
   "metadata": {},
   "outputs": [],
   "source": [
    "with open('../data/routes_array.pkl','wb') as f: pickle.dump(routes_array, f)"
   ]
  },
  {
   "cell_type": "markdown",
   "metadata": {},
   "source": [
    "RouteStops: [route0_stop0, route0_stop1,…, route1_stop0, route1_stop1,…, …]\n"
   ]
  },
  {
   "cell_type": "code",
   "execution_count": null,
   "metadata": {},
   "outputs": [],
   "source": [
    "route_stops = stop_times_ordered.sort_values([\"route_int\", \"stop_sequence\"])\n",
    "route_stops = route_stops[['route_int', 'stop_int']].drop_duplicates().reset_index()\n",
    "route_stops.head(5)"
   ]
  },
  {
   "cell_type": "code",
   "execution_count": null,
   "metadata": {},
   "outputs": [],
   "source": [
    "route_stops.info()"
   ]
  },
  {
   "cell_type": "code",
   "execution_count": null,
   "metadata": {},
   "outputs": [],
   "source": [
    "route_stops.route_int.nunique()"
   ]
  },
  {
   "cell_type": "code",
   "execution_count": null,
   "metadata": {},
   "outputs": [],
   "source": [
    "with open('../data/route_stops_df.pkl','wb') as f: pickle.dump(route_stops, f)"
   ]
  },
  {
   "cell_type": "code",
   "execution_count": null,
   "metadata": {},
   "outputs": [],
   "source": [
    "route_stops_array = route_stops.stop_int.to_numpy()\n",
    "route_stops_array"
   ]
  },
  {
   "cell_type": "code",
   "execution_count": null,
   "metadata": {},
   "outputs": [],
   "source": [
    "np.size(np.unique(route_stops_array))"
   ]
  },
  {
   "cell_type": "code",
   "execution_count": null,
   "metadata": {},
   "outputs": [],
   "source": [
    "np.size(route_stops_array, 0)"
   ]
  },
  {
   "cell_type": "code",
   "execution_count": null,
   "metadata": {},
   "outputs": [],
   "source": [
    "route_stops_array.shape"
   ]
  },
  {
   "cell_type": "code",
   "execution_count": null,
   "metadata": {},
   "outputs": [],
   "source": [
    "with open('../data/route_stops_array.pkl','wb') as f: pickle.dump(route_stops_array, f)"
   ]
  },
  {
   "cell_type": "markdown",
   "metadata": {},
   "source": [
    "Check if pointers are correct\n",
    "It is fundamental that the indexes, that serve as pointers, in Routes are correct"
   ]
  },
  {
   "cell_type": "markdown",
   "metadata": {},
   "source": [
    "We start by looking at where the indexes for stop_times and route_stops diverge. This will allow us to change. We can see that Route stops should have a new route at 3 while stop_times should have it at 78, so we try with that"
   ]
  },
  {
   "cell_type": "code",
   "execution_count": null,
   "metadata": {},
   "outputs": [],
   "source": [
    "distinct_trips_stops.head(5)"
   ]
  },
  {
   "cell_type": "markdown",
   "metadata": {},
   "source": [
    "We can check if the pointer indicates the routes index number. At the pointer_routes should indicate the first stop of a new route. We try with 3 to see if route_stops has a new route at this index. It does so it works"
   ]
  },
  {
   "cell_type": "code",
   "execution_count": null,
   "metadata": {},
   "outputs": [],
   "source": [
    "route_stops.head(5)"
   ]
  },
  {
   "cell_type": "markdown",
   "metadata": {},
   "source": [
    "We go and see if stop_times has a new route at 78. It does, so it works"
   ]
  },
  {
   "cell_type": "code",
   "execution_count": null,
   "metadata": {},
   "outputs": [],
   "source": [
    "stop_times_ordered.loc[75:80].head(5)"
   ]
  },
  {
   "cell_type": "markdown",
   "metadata": {},
   "source": [
    "Stops: [[stop0_pointerRoutes, stop0_pointerTransfer], [stop1_pointerRoutes, stop1_pointerTransfer], …]"
   ]
  },
  {
   "cell_type": "code",
   "execution_count": null,
   "metadata": {},
   "outputs": [],
   "source": [
    "stops_join = route_stops.join(transfers.set_index(\"stop_int\"), how=\"left\", on=\"stop_int\").drop_duplicates()\n",
    "stops_join.head(5)"
   ]
  },
  {
   "cell_type": "code",
   "execution_count": null,
   "metadata": {},
   "outputs": [],
   "source": [
    "stops_join.stop_int.nunique()"
   ]
  },
  {
   "cell_type": "code",
   "execution_count": null,
   "metadata": {},
   "outputs": [],
   "source": [
    "distinct_route_transfers = stops_join.sort_values(\"stop_int\").groupby([\"stop_int\"]).nunique().rename(columns={\"route_int\": \"n_Routes\", \"stop_int_2\": \"n_Transfers\"})\n",
    "distinct_route_transfers = distinct_route_transfers[[\"n_Routes\", \"n_Transfers\"]].sort_index()\n",
    "distinct_route_transfers.head(5)"
   ]
  },
  {
   "cell_type": "code",
   "execution_count": null,
   "metadata": {},
   "outputs": [],
   "source": [
    "distinct_route_transfers['pointer_stop_routes'] = distinct_route_transfers.n_Routes.cumsum().shift(1, fill_value=0)\n",
    "distinct_route_transfers['pointer_transfers'] = distinct_route_transfers.n_Transfers.cumsum().shift(1, fill_value=0)\n",
    "distinct_route_transfers.head(5)"
   ]
  },
  {
   "cell_type": "code",
   "execution_count": null,
   "metadata": {},
   "outputs": [],
   "source": [
    "distinct_route_transfers[\"pointer_stop_routes_shift\"] = distinct_route_transfers['pointer_stop_routes'].shift(-1, fill_value=0)\n",
    "distinct_route_transfers[\"pointer_transfers_shift\"] = distinct_route_transfers['pointer_transfers'].shift(-1, fill_value=0)\n",
    "distinct_route_transfers.head(5)"
   ]
  },
  {
   "cell_type": "code",
   "execution_count": null,
   "metadata": {},
   "outputs": [],
   "source": [
    "distinct_route_transfers['pointer_stop_routes'] = np.where((distinct_route_transfers[\"pointer_stop_routes\"] == distinct_route_transfers[\"pointer_stop_routes_shift\"]), None, distinct_route_transfers['pointer_stop_routes'])\n",
    "distinct_route_transfers['pointer_transfers'] = np.where((distinct_route_transfers[\"pointer_transfers\"] == distinct_route_transfers[\"pointer_transfers_shift\"]), None, distinct_route_transfers['pointer_transfers'])\n"
   ]
  },
  {
   "cell_type": "code",
   "execution_count": null,
   "metadata": {},
   "outputs": [],
   "source": [
    "distinct_route_transfers.isna().any()"
   ]
  },
  {
   "cell_type": "code",
   "execution_count": null,
   "metadata": {},
   "outputs": [],
   "source": [
    "stops_df = distinct_route_transfers[['pointer_stop_routes', 'pointer_transfers']]"
   ]
  },
  {
   "cell_type": "code",
   "execution_count": null,
   "metadata": {},
   "outputs": [],
   "source": [
    "with open('../data/stops_df.pkl','wb') as f: pickle.dump(stops_df, f)"
   ]
  },
  {
   "cell_type": "code",
   "execution_count": null,
   "metadata": {},
   "outputs": [],
   "source": [
    "stops_array = stops_df.to_numpy()\n",
    "stops_array"
   ]
  },
  {
   "cell_type": "code",
   "execution_count": null,
   "metadata": {},
   "outputs": [],
   "source": [
    "np.size(stops_array, 0)"
   ]
  },
  {
   "cell_type": "code",
   "execution_count": null,
   "metadata": {},
   "outputs": [],
   "source": [
    "stops_array.shape"
   ]
  },
  {
   "cell_type": "code",
   "execution_count": null,
   "metadata": {},
   "outputs": [],
   "source": [
    "with open('../data/stops_array.pkl','wb') as f: pickle.dump(stops_array, f)"
   ]
  },
  {
   "cell_type": "markdown",
   "metadata": {},
   "source": [
    "StopRoutes: [stop0_route1, stop0_route3, stop1_route1, stop2_route1, stop1_route4, …]"
   ]
  },
  {
   "cell_type": "code",
   "execution_count": null,
   "metadata": {},
   "outputs": [],
   "source": [
    "stop_routes = stop_times_ordered[[\"route_int\", \"stop_int\", \"stop_id\"]].drop_duplicates().sort_values([\"stop_int\", \"route_int\"])\n",
    "stop_routes = stop_routes.reset_index()\n",
    "stop_routes.head(5)"
   ]
  },
  {
   "cell_type": "code",
   "execution_count": null,
   "metadata": {},
   "outputs": [],
   "source": [
    "stop_routes.shape"
   ]
  },
  {
   "cell_type": "code",
   "execution_count": null,
   "metadata": {},
   "outputs": [],
   "source": [
    "stop_times_curated.route_id.nunique()"
   ]
  },
  {
   "cell_type": "code",
   "execution_count": null,
   "metadata": {},
   "outputs": [],
   "source": [
    "stop_routes.route_int.nunique()"
   ]
  },
  {
   "cell_type": "code",
   "execution_count": null,
   "metadata": {},
   "outputs": [],
   "source": [
    "with open('../data/stop_routes_df.pkl','wb') as f: pickle.dump(stop_routes, f)"
   ]
  },
  {
   "cell_type": "code",
   "execution_count": null,
   "metadata": {},
   "outputs": [],
   "source": [
    "stop_routes_array = stop_routes[\"route_int\"].to_numpy()\n",
    "stop_routes_array"
   ]
  },
  {
   "cell_type": "code",
   "execution_count": null,
   "metadata": {},
   "outputs": [],
   "source": [
    "np.size(stop_routes_array, 0)"
   ]
  },
  {
   "cell_type": "code",
   "execution_count": null,
   "metadata": {},
   "outputs": [],
   "source": [
    "stop_routes_array.shape"
   ]
  },
  {
   "cell_type": "code",
   "execution_count": null,
   "metadata": {},
   "outputs": [],
   "source": [
    "with open('../data/stop_routes_array.pkl','wb') as f: pickle.dump(stop_routes_array, f)"
   ]
  },
  {
   "cell_type": "markdown",
   "metadata": {},
   "source": [
    "Transfer: [[[stop0_nameTargetStop1, transferTime1], [stop0_nameTargetStop2, transferTime2],….], [stop1_nameTargetStop1, transferTime1], [stop1_nameTargetStop2, transferTime2],….],…]"
   ]
  },
  {
   "cell_type": "code",
   "execution_count": null,
   "metadata": {},
   "outputs": [],
   "source": [
    "transfers.stop_id.count()"
   ]
  },
  {
   "cell_type": "code",
   "execution_count": null,
   "metadata": {},
   "outputs": [],
   "source": [
    "transfer_pandas = transfers[[\"stop_int\",\"stop_int_2\", \"Transfer_time_sec\", \"stop_id_raw\"]].sort_values([\"stop_int\", \"stop_int_2\", \"stop_id_raw\"]).drop_duplicates([\"stop_int\", \"stop_int_2\"])\n",
    "transfer_pandas = transfer_pandas.reset_index(drop=True)\n",
    "transfer_pandas.head()"
   ]
  },
  {
   "cell_type": "code",
   "execution_count": null,
   "metadata": {},
   "outputs": [],
   "source": [
    "transfer_pandas.stop_int_2.nunique()"
   ]
  },
  {
   "cell_type": "code",
   "execution_count": null,
   "metadata": {},
   "outputs": [],
   "source": [
    "with open('../data/transfer_df.pkl','wb') as f: pickle.dump(transfers.sort_values(\"stop_id\"), f)"
   ]
  },
  {
   "cell_type": "code",
   "execution_count": null,
   "metadata": {},
   "outputs": [],
   "source": [
    "transfer_array = transfer_pandas[[\"stop_int_2\", \"Transfer_time_sec\"]].to_numpy()\n",
    "transfer_array"
   ]
  },
  {
   "cell_type": "code",
   "execution_count": null,
   "metadata": {},
   "outputs": [],
   "source": [
    "with open('../data/transfer_array.pkl','wb') as f: pickle.dump(transfer_array, f)"
   ]
  },
  {
   "cell_type": "code",
   "execution_count": null,
   "metadata": {},
   "outputs": [],
   "source": [
    "np.size(transfer_array, 0)"
   ]
  },
  {
   "cell_type": "markdown",
   "metadata": {},
   "source": [
    "#### Check if indexes in stops is correct"
   ]
  },
  {
   "cell_type": "markdown",
   "metadata": {},
   "source": [
    "We see first the pointers"
   ]
  },
  {
   "cell_type": "code",
   "execution_count": null,
   "metadata": {},
   "outputs": [],
   "source": [
    "stops_df.head(5)"
   ]
  },
  {
   "cell_type": "markdown",
   "metadata": {},
   "source": [
    "We see that at the index 8 there should be a new stop. we check and it is false"
   ]
  },
  {
   "cell_type": "code",
   "execution_count": null,
   "metadata": {},
   "outputs": [],
   "source": [
    "transfer_pandas.loc[5:10].head(5)"
   ]
  },
  {
   "cell_type": "markdown",
   "metadata": {},
   "source": [
    "We see that at index 4 we should have a new stop. we check and it true"
   ]
  },
  {
   "cell_type": "code",
   "execution_count": null,
   "metadata": {},
   "outputs": [],
   "source": [
    "stop_routes.head(5)"
   ]
  },
  {
   "cell_type": "code",
   "execution_count": null,
   "metadata": {},
   "outputs": [],
   "source": [
    "stop_routes.loc[stop_routes['stop_int'] == 172]"
   ]
  },
  {
   "cell_type": "code",
   "execution_count": null,
   "metadata": {},
   "outputs": [],
   "source": [
    "route_stops.loc[route_stops['stop_int'] == 172]"
   ]
  },
  {
   "cell_type": "markdown",
   "metadata": {},
   "source": [
    "read files as pickles"
   ]
  },
  {
   "cell_type": "code",
   "execution_count": null,
   "metadata": {},
   "outputs": [],
   "source": [
    "with open('../data/stop_times_array.pkl','rb') as f: arrayname1 = pickle.load(f)"
   ]
  },
  {
   "cell_type": "code",
   "execution_count": null,
   "metadata": {},
   "outputs": [],
   "source": [
    "with open('../data/routes_array.pkl','rb') as f: arrayname2 = pickle.load(f)"
   ]
  },
  {
   "cell_type": "code",
   "execution_count": null,
   "metadata": {},
   "outputs": [],
   "source": [
    "with open('../data/route_stops_array.pkl','rb') as f: arrayname3 = pickle.load(f)"
   ]
  },
  {
   "cell_type": "code",
   "execution_count": null,
   "metadata": {},
   "outputs": [],
   "source": [
    "arrayname1"
   ]
  },
  {
   "cell_type": "code",
   "execution_count": null,
   "metadata": {},
   "outputs": [],
   "source": [
    "arrayname2"
   ]
  },
  {
   "cell_type": "code",
   "execution_count": null,
   "metadata": {},
   "outputs": [],
   "source": [
    "arrayname3"
   ]
  },
  {
   "cell_type": "code",
   "execution_count": null,
   "metadata": {},
   "outputs": [],
   "source": []
  },
  {
   "cell_type": "code",
   "execution_count": null,
   "metadata": {},
   "outputs": [],
   "source": []
  }
 ],
 "metadata": {
  "kernelspec": {
   "display_name": "Python 3",
   "language": "python",
   "name": "python3"
  },
  "language_info": {
   "codemirror_mode": {
    "name": "ipython",
    "version": 3
   },
   "file_extension": ".py",
   "mimetype": "text/x-python",
   "name": "python",
   "nbconvert_exporter": "python",
   "pygments_lexer": "ipython3",
   "version": "3.7.6"
  }
 },
 "nbformat": 4,
 "nbformat_minor": 4
}
