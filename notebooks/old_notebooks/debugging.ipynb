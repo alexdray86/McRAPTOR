{
 "cells": [
  {
   "cell_type": "code",
   "execution_count": 1,
   "metadata": {},
   "outputs": [],
   "source": [
    "import pickle\n",
    "import numpy as np\n",
    "import pandas as pd"
   ]
  },
  {
   "cell_type": "code",
   "execution_count": 2,
   "metadata": {},
   "outputs": [],
   "source": [
    "def pkload(path):\n",
    "    with open(path, 'rb') as f:\n",
    "        obj = pickle.load(f)\n",
    "    return obj"
   ]
  },
  {
   "cell_type": "markdown",
   "metadata": {},
   "source": [
    "Searching for journeys from Uster, Gschwader (stop 8588052) to Buchs ZH, Furttalstrasse (stop 8595356) with arrival at 17:30 leads to a footpath of over 3.2km + in reality, while the algorithm prints this:\n",
    "\n",
    "\" Walk 2.1 minutes from Birmensdorf ZH (stop 8502221)\n",
    "        to Dällikon, Industrie (stop 8576276)\""
   ]
  },
  {
   "cell_type": "code",
   "execution_count": 3,
   "metadata": {},
   "outputs": [
    {
     "data": {
      "text/html": [
       "<div>\n",
       "<style scoped>\n",
       "    .dataframe tbody tr th:only-of-type {\n",
       "        vertical-align: middle;\n",
       "    }\n",
       "\n",
       "    .dataframe tbody tr th {\n",
       "        vertical-align: top;\n",
       "    }\n",
       "\n",
       "    .dataframe thead th {\n",
       "        text-align: right;\n",
       "    }\n",
       "</style>\n",
       "<table border=\"1\" class=\"dataframe\">\n",
       "  <thead>\n",
       "    <tr style=\"text-align: right;\">\n",
       "      <th></th>\n",
       "      <th>index</th>\n",
       "      <th>route_id</th>\n",
       "      <th>stop_id_general</th>\n",
       "      <th>trip_id</th>\n",
       "      <th>stop_id</th>\n",
       "      <th>arrival_time</th>\n",
       "      <th>departure_time</th>\n",
       "      <th>stop_sequence</th>\n",
       "      <th>stop_name</th>\n",
       "      <th>stop_lat</th>\n",
       "      <th>stop_lon</th>\n",
       "      <th>trip_headsign</th>\n",
       "      <th>trip_short_name</th>\n",
       "      <th>direction_id</th>\n",
       "      <th>departure_first_stop</th>\n",
       "      <th>route_int</th>\n",
       "      <th>stop_count</th>\n",
       "      <th>stop_int</th>\n",
       "      <th>route_desc</th>\n",
       "      <th>monotonically_increasing_id</th>\n",
       "    </tr>\n",
       "  </thead>\n",
       "  <tbody>\n",
       "    <tr>\n",
       "      <th>27708</th>\n",
       "      <td>197013</td>\n",
       "      <td>26-5-A-j19-1</td>\n",
       "      <td>8502221</td>\n",
       "      <td>114.TA.26-5-A-j19-1.37.R</td>\n",
       "      <td>8502221:0:2</td>\n",
       "      <td>2020-05-24 19:35:00</td>\n",
       "      <td>2020-05-24 19:35:00</td>\n",
       "      <td>9</td>\n",
       "      <td>Birmensdorf ZH</td>\n",
       "      <td>47.357496</td>\n",
       "      <td>8.437543</td>\n",
       "      <td>Pfäffikon SZ</td>\n",
       "      <td>18575</td>\n",
       "      <td>1</td>\n",
       "      <td>19:22:00</td>\n",
       "      <td>149</td>\n",
       "      <td>10</td>\n",
       "      <td>276</td>\n",
       "      <td>S-Bahn</td>\n",
       "      <td>180388626589</td>\n",
       "    </tr>\n",
       "  </tbody>\n",
       "</table>\n",
       "</div>"
      ],
      "text/plain": [
       "        index      route_id  stop_id_general                   trip_id  \\\n",
       "27708  197013  26-5-A-j19-1          8502221  114.TA.26-5-A-j19-1.37.R   \n",
       "\n",
       "           stop_id        arrival_time      departure_time  stop_sequence  \\\n",
       "27708  8502221:0:2 2020-05-24 19:35:00 2020-05-24 19:35:00              9   \n",
       "\n",
       "            stop_name   stop_lat  stop_lon trip_headsign  trip_short_name  \\\n",
       "27708  Birmensdorf ZH  47.357496  8.437543  Pfäffikon SZ            18575   \n",
       "\n",
       "       direction_id departure_first_stop  route_int  stop_count  stop_int  \\\n",
       "27708             1             19:22:00        149          10       276   \n",
       "\n",
       "      route_desc  monotonically_increasing_id  \n",
       "27708     S-Bahn                 180388626589  "
      ]
     },
     "execution_count": 3,
     "metadata": {},
     "output_type": "execute_result"
    }
   ],
   "source": [
    "# Birmensdorf ZH\n",
    "stop_times = pkload(\"../data/stop_times_df_cyril.pkl\")\n",
    "stop_times[stop_times['stop_id_general']==8502221].head(1)"
   ]
  },
  {
   "cell_type": "code",
   "execution_count": 55,
   "metadata": {},
   "outputs": [
    {
     "data": {
      "text/html": [
       "<div>\n",
       "<style scoped>\n",
       "    .dataframe tbody tr th:only-of-type {\n",
       "        vertical-align: middle;\n",
       "    }\n",
       "\n",
       "    .dataframe tbody tr th {\n",
       "        vertical-align: top;\n",
       "    }\n",
       "\n",
       "    .dataframe thead th {\n",
       "        text-align: right;\n",
       "    }\n",
       "</style>\n",
       "<table border=\"1\" class=\"dataframe\">\n",
       "  <thead>\n",
       "    <tr style=\"text-align: right;\">\n",
       "      <th></th>\n",
       "      <th>index</th>\n",
       "      <th>route_id</th>\n",
       "      <th>stop_id_general</th>\n",
       "      <th>trip_id</th>\n",
       "      <th>stop_id</th>\n",
       "      <th>arrival_time</th>\n",
       "      <th>departure_time</th>\n",
       "      <th>stop_sequence</th>\n",
       "      <th>stop_name</th>\n",
       "      <th>stop_lat</th>\n",
       "      <th>stop_lon</th>\n",
       "      <th>trip_headsign</th>\n",
       "      <th>trip_short_name</th>\n",
       "      <th>direction_id</th>\n",
       "      <th>departure_first_stop</th>\n",
       "      <th>route_int</th>\n",
       "      <th>stop_count</th>\n",
       "      <th>stop_int</th>\n",
       "      <th>route_desc</th>\n",
       "      <th>monotonically_increasing_id</th>\n",
       "    </tr>\n",
       "  </thead>\n",
       "  <tbody>\n",
       "    <tr>\n",
       "      <th>1935</th>\n",
       "      <td>222352</td>\n",
       "      <td>26-449-j19-1</td>\n",
       "      <td>8576276</td>\n",
       "      <td>17.TA.26-449-j19-1.1.H</td>\n",
       "      <td>8576276</td>\n",
       "      <td>NaT</td>\n",
       "      <td>2020-05-24 07:00:00</td>\n",
       "      <td>2</td>\n",
       "      <td>Dällikon, Industrie</td>\n",
       "      <td>47.444737</td>\n",
       "      <td>8.438783</td>\n",
       "      <td>Buchs-Dällikon, Bahnhof</td>\n",
       "      <td>4747</td>\n",
       "      <td>0</td>\n",
       "      <td>07:00:00</td>\n",
       "      <td>19</td>\n",
       "      <td>3</td>\n",
       "      <td>474</td>\n",
       "      <td>Bus</td>\n",
       "      <td>8589935205</td>\n",
       "    </tr>\n",
       "  </tbody>\n",
       "</table>\n",
       "</div>"
      ],
      "text/plain": [
       "       index      route_id  stop_id_general                 trip_id  stop_id  \\\n",
       "1935  222352  26-449-j19-1          8576276  17.TA.26-449-j19-1.1.H  8576276   \n",
       "\n",
       "     arrival_time      departure_time  stop_sequence            stop_name  \\\n",
       "1935          NaT 2020-05-24 07:00:00              2  Dällikon, Industrie   \n",
       "\n",
       "       stop_lat  stop_lon            trip_headsign  trip_short_name  \\\n",
       "1935  47.444737  8.438783  Buchs-Dällikon, Bahnhof             4747   \n",
       "\n",
       "      direction_id departure_first_stop  route_int  stop_count  stop_int  \\\n",
       "1935             0             07:00:00         19           3       474   \n",
       "\n",
       "     route_desc  monotonically_increasing_id  \n",
       "1935        Bus                   8589935205  "
      ]
     },
     "execution_count": 55,
     "metadata": {},
     "output_type": "execute_result"
    }
   ],
   "source": [
    "# Dallikon Industrie\n",
    "stop_times[stop_times['stop_id_general']==8576276].head(1)"
   ]
  },
  {
   "cell_type": "markdown",
   "metadata": {},
   "source": [
    "A google maps footpaths using GPS coordinates yields a walk of 14.1 km. Is there a footpath defined between those two stops in transfers ?"
   ]
  },
  {
   "cell_type": "code",
   "execution_count": 4,
   "metadata": {},
   "outputs": [],
   "source": [
    "transfers = pkload(\"../data/transfer_df_cyril.pkl\")"
   ]
  },
  {
   "cell_type": "code",
   "execution_count": 58,
   "metadata": {},
   "outputs": [
    {
     "data": {
      "text/html": [
       "<div>\n",
       "<style scoped>\n",
       "    .dataframe tbody tr th:only-of-type {\n",
       "        vertical-align: middle;\n",
       "    }\n",
       "\n",
       "    .dataframe tbody tr th {\n",
       "        vertical-align: top;\n",
       "    }\n",
       "\n",
       "    .dataframe thead th {\n",
       "        text-align: right;\n",
       "    }\n",
       "</style>\n",
       "<table border=\"1\" class=\"dataframe\">\n",
       "  <thead>\n",
       "    <tr style=\"text-align: right;\">\n",
       "      <th></th>\n",
       "      <th>index</th>\n",
       "      <th>stop_id_general</th>\n",
       "      <th>stop_int</th>\n",
       "      <th>stop_lat_first</th>\n",
       "      <th>stop_lon_first</th>\n",
       "      <th>stop_name_first</th>\n",
       "      <th>stop_id_general_2</th>\n",
       "      <th>stop_int_2</th>\n",
       "      <th>stop_lat_first_2</th>\n",
       "      <th>stop_lon_first_2</th>\n",
       "      <th>stop_name_first_2</th>\n",
       "      <th>distance</th>\n",
       "      <th>walking_time</th>\n",
       "      <th>monotonically_increasing_id</th>\n",
       "    </tr>\n",
       "  </thead>\n",
       "  <tbody>\n",
       "    <tr>\n",
       "      <th>1300</th>\n",
       "      <td>3887</td>\n",
       "      <td>8502221</td>\n",
       "      <td>276</td>\n",
       "      <td>47.357557</td>\n",
       "      <td>8.437543</td>\n",
       "      <td>Birmensdorf ZH</td>\n",
       "      <td>8573718</td>\n",
       "      <td>473</td>\n",
       "      <td>47.357125</td>\n",
       "      <td>8.438801</td>\n",
       "      <td>Birmensdorf ZH, Bahnhof</td>\n",
       "      <td>0.106219</td>\n",
       "      <td>127</td>\n",
       "      <td>352187318287</td>\n",
       "    </tr>\n",
       "    <tr>\n",
       "      <th>1301</th>\n",
       "      <td>3888</td>\n",
       "      <td>8502221</td>\n",
       "      <td>276</td>\n",
       "      <td>47.357557</td>\n",
       "      <td>8.437543</td>\n",
       "      <td>Birmensdorf ZH</td>\n",
       "      <td>8502950</td>\n",
       "      <td>877</td>\n",
       "      <td>47.353936</td>\n",
       "      <td>8.437175</td>\n",
       "      <td>Birmensdorf ZH, Zentrum</td>\n",
       "      <td>0.403584</td>\n",
       "      <td>484</td>\n",
       "      <td>352187318288</td>\n",
       "    </tr>\n",
       "    <tr>\n",
       "      <th>1302</th>\n",
       "      <td>3889</td>\n",
       "      <td>8502221</td>\n",
       "      <td>276</td>\n",
       "      <td>47.357557</td>\n",
       "      <td>8.437543</td>\n",
       "      <td>Birmensdorf ZH</td>\n",
       "      <td>8583870</td>\n",
       "      <td>1154</td>\n",
       "      <td>47.357234</td>\n",
       "      <td>8.437013</td>\n",
       "      <td>Birmensdorf ZH, Bahnhof Süd</td>\n",
       "      <td>0.053666</td>\n",
       "      <td>64</td>\n",
       "      <td>352187318289</td>\n",
       "    </tr>\n",
       "  </tbody>\n",
       "</table>\n",
       "</div>"
      ],
      "text/plain": [
       "      index  stop_id_general  stop_int  stop_lat_first  stop_lon_first  \\\n",
       "1300   3887          8502221       276       47.357557        8.437543   \n",
       "1301   3888          8502221       276       47.357557        8.437543   \n",
       "1302   3889          8502221       276       47.357557        8.437543   \n",
       "\n",
       "     stop_name_first  stop_id_general_2  stop_int_2  stop_lat_first_2  \\\n",
       "1300  Birmensdorf ZH            8573718         473         47.357125   \n",
       "1301  Birmensdorf ZH            8502950         877         47.353936   \n",
       "1302  Birmensdorf ZH            8583870        1154         47.357234   \n",
       "\n",
       "      stop_lon_first_2            stop_name_first_2  distance  walking_time  \\\n",
       "1300          8.438801      Birmensdorf ZH, Bahnhof  0.106219           127   \n",
       "1301          8.437175      Birmensdorf ZH, Zentrum  0.403584           484   \n",
       "1302          8.437013  Birmensdorf ZH, Bahnhof Süd  0.053666            64   \n",
       "\n",
       "      monotonically_increasing_id  \n",
       "1300                 352187318287  \n",
       "1301                 352187318288  \n",
       "1302                 352187318289  "
      ]
     },
     "execution_count": 58,
     "metadata": {},
     "output_type": "execute_result"
    }
   ],
   "source": [
    "# transfers from Birmensdorf ZH\n",
    "transfers[transfers['stop_id_general']==8502221]"
   ]
  },
  {
   "cell_type": "code",
   "execution_count": 60,
   "metadata": {},
   "outputs": [],
   "source": [
    "# Transfers from Dallikon Industrie"
   ]
  },
  {
   "cell_type": "code",
   "execution_count": 59,
   "metadata": {},
   "outputs": [
    {
     "data": {
      "text/html": [
       "<div>\n",
       "<style scoped>\n",
       "    .dataframe tbody tr th:only-of-type {\n",
       "        vertical-align: middle;\n",
       "    }\n",
       "\n",
       "    .dataframe tbody tr th {\n",
       "        vertical-align: top;\n",
       "    }\n",
       "\n",
       "    .dataframe thead th {\n",
       "        text-align: right;\n",
       "    }\n",
       "</style>\n",
       "<table border=\"1\" class=\"dataframe\">\n",
       "  <thead>\n",
       "    <tr style=\"text-align: right;\">\n",
       "      <th></th>\n",
       "      <th>index</th>\n",
       "      <th>stop_id_general</th>\n",
       "      <th>stop_int</th>\n",
       "      <th>stop_lat_first</th>\n",
       "      <th>stop_lon_first</th>\n",
       "      <th>stop_name_first</th>\n",
       "      <th>stop_id_general_2</th>\n",
       "      <th>stop_int_2</th>\n",
       "      <th>stop_lat_first_2</th>\n",
       "      <th>stop_lon_first_2</th>\n",
       "      <th>stop_name_first_2</th>\n",
       "      <th>distance</th>\n",
       "      <th>walking_time</th>\n",
       "      <th>monotonically_increasing_id</th>\n",
       "    </tr>\n",
       "  </thead>\n",
       "  <tbody>\n",
       "  </tbody>\n",
       "</table>\n",
       "</div>"
      ],
      "text/plain": [
       "Empty DataFrame\n",
       "Columns: [index, stop_id_general, stop_int, stop_lat_first, stop_lon_first, stop_name_first, stop_id_general_2, stop_int_2, stop_lat_first_2, stop_lon_first_2, stop_name_first_2, distance, walking_time, monotonically_increasing_id]\n",
       "Index: []"
      ]
     },
     "execution_count": 59,
     "metadata": {},
     "output_type": "execute_result"
    }
   ],
   "source": [
    "transfers[transfers['stop_id_general']==8576276]"
   ]
  },
  {
   "cell_type": "markdown",
   "metadata": {},
   "source": [
    "There are no footpaths between Birmensdorf ZH and Dallikon Industrie, and interestingly, Dallikon Industrie has no footpaths at all. That points to a bug with the gestion of 'None' pointers in the array stops for footpaths"
   ]
  },
  {
   "cell_type": "code",
   "execution_count": 5,
   "metadata": {},
   "outputs": [],
   "source": [
    "transfer_array = pkload(\"../data/transfer_array_cyril.pkl\")\n",
    "stops =  pkload(\"../data/stops_array_cyril.pkl\")"
   ]
  },
  {
   "cell_type": "code",
   "execution_count": 64,
   "metadata": {},
   "outputs": [
    {
     "data": {
      "text/plain": [
       "array([[3075, 1297.0],\n",
       "       [3119, 1300.0],\n",
       "       [3131, 1303.0]], dtype=object)"
      ]
     },
     "execution_count": 64,
     "metadata": {},
     "output_type": "execute_result"
    }
   ],
   "source": [
    "# transfers from Birmensdorf ZH\n",
    "stop_int = 276\n",
    "stops[stop_int-1:stop_int+2]"
   ]
  },
  {
   "cell_type": "code",
   "execution_count": 65,
   "metadata": {},
   "outputs": [
    {
     "data": {
      "text/plain": [
       "array([[ 473,  127],\n",
       "       [ 877,  484],\n",
       "       [1154,   64]])"
      ]
     },
     "execution_count": 65,
     "metadata": {},
     "output_type": "execute_result"
    }
   ],
   "source": [
    "transfer_array[int(stops[stop_int][1]):int(stops[stop_int+1][1])]"
   ]
  },
  {
   "cell_type": "markdown",
   "metadata": {},
   "source": [
    "**The first entry of transfer_array[276] corresponding to Birmensdorf ZH is 473, which is one less than 474, the stop_id of Dallikon Industrie**. That may be a clue to what's going wrong with the algorithm."
   ]
  },
  {
   "cell_type": "code",
   "execution_count": 66,
   "metadata": {},
   "outputs": [
    {
     "data": {
      "text/plain": [
       "array([[5408, 2157.0],\n",
       "       [5417, nan],\n",
       "       [5420, 2160.0]], dtype=object)"
      ]
     },
     "execution_count": 66,
     "metadata": {},
     "output_type": "execute_result"
    }
   ],
   "source": [
    "# transfers from Dallikon Industrie\n",
    "stop_int = 474\n",
    "stops[stop_int-1:stop_int+2]\n"
   ]
  },
  {
   "cell_type": "code",
   "execution_count": 69,
   "metadata": {},
   "outputs": [
    {
     "ename": "ValueError",
     "evalue": "cannot convert float NaN to integer",
     "output_type": "error",
     "traceback": [
      "\u001b[0;31m---------------------------------------------------------------------------\u001b[0m",
      "\u001b[0;31mValueError\u001b[0m                                Traceback (most recent call last)",
      "\u001b[0;32m<ipython-input-69-28a210e2fa85>\u001b[0m in \u001b[0;36m<module>\u001b[0;34m\u001b[0m\n\u001b[1;32m      1\u001b[0m \u001b[0;31m# Trying to access the transfer for the nan pointer (SHOULD FAIL)\u001b[0m\u001b[0;34m\u001b[0m\u001b[0;34m\u001b[0m\u001b[0;34m\u001b[0m\u001b[0m\n\u001b[0;32m----> 2\u001b[0;31m \u001b[0mtransfer_array\u001b[0m\u001b[0;34m[\u001b[0m\u001b[0mint\u001b[0m\u001b[0;34m(\u001b[0m\u001b[0mstops\u001b[0m\u001b[0;34m[\u001b[0m\u001b[0mstop_int\u001b[0m\u001b[0;34m]\u001b[0m\u001b[0;34m[\u001b[0m\u001b[0;36m1\u001b[0m\u001b[0;34m]\u001b[0m\u001b[0;34m)\u001b[0m\u001b[0;34m:\u001b[0m\u001b[0mint\u001b[0m\u001b[0;34m(\u001b[0m\u001b[0mstops\u001b[0m\u001b[0;34m[\u001b[0m\u001b[0mstop_int\u001b[0m\u001b[0;34m+\u001b[0m\u001b[0;36m1\u001b[0m\u001b[0;34m]\u001b[0m\u001b[0;34m[\u001b[0m\u001b[0;36m1\u001b[0m\u001b[0;34m]\u001b[0m\u001b[0;34m)\u001b[0m\u001b[0;34m]\u001b[0m\u001b[0;34m\u001b[0m\u001b[0;34m\u001b[0m\u001b[0m\n\u001b[0m",
      "\u001b[0;31mValueError\u001b[0m: cannot convert float NaN to integer"
     ]
    }
   ],
   "source": [
    "# Trying to access the transfer for the nan pointer (SHOULD FAIL)\n",
    "transfer_array[int(stops[stop_int][1]):int(stops[stop_int+1][1])]"
   ]
  },
  {
   "cell_type": "code",
   "execution_count": 70,
   "metadata": {},
   "outputs": [],
   "source": [
    "# checking out what's around the nan pointer:"
   ]
  },
  {
   "cell_type": "code",
   "execution_count": 71,
   "metadata": {},
   "outputs": [
    {
     "data": {
      "text/plain": [
       "array([[ 276,  127],\n",
       "       [ 877,  450],\n",
       "       [1154,  162]])"
      ]
     },
     "execution_count": 71,
     "metadata": {},
     "output_type": "execute_result"
    }
   ],
   "source": [
    "transfer_array[int(stops[stop_int-1][1]):int(stops[stop_int+1][1])]"
   ]
  },
  {
   "cell_type": "markdown",
   "metadata": {},
   "source": [
    "The first entry of transfer_array[stop_int-1] is 276, the stop_int of Birmensdorf ZH."
   ]
  },
  {
   "cell_type": "markdown",
   "metadata": {},
   "source": [
    "## recapitulating the bug with another journey\n",
    "\n",
    "Searching for journeys from Dübendorf, Branzenäsch (stop 8590551) to Kloten, Weinbergstrasse (stop 8579967) with arrival at 17:30 gives an impossible first walk from Dübendorf, Branzenäsch to Uetliberg (stop 8503057)."
   ]
  },
  {
   "cell_type": "code",
   "execution_count": 72,
   "metadata": {},
   "outputs": [
    {
     "data": {
      "text/html": [
       "<div>\n",
       "<style scoped>\n",
       "    .dataframe tbody tr th:only-of-type {\n",
       "        vertical-align: middle;\n",
       "    }\n",
       "\n",
       "    .dataframe tbody tr th {\n",
       "        vertical-align: top;\n",
       "    }\n",
       "\n",
       "    .dataframe thead th {\n",
       "        text-align: right;\n",
       "    }\n",
       "</style>\n",
       "<table border=\"1\" class=\"dataframe\">\n",
       "  <thead>\n",
       "    <tr style=\"text-align: right;\">\n",
       "      <th></th>\n",
       "      <th>index</th>\n",
       "      <th>route_id</th>\n",
       "      <th>stop_id_general</th>\n",
       "      <th>trip_id</th>\n",
       "      <th>stop_id</th>\n",
       "      <th>arrival_time</th>\n",
       "      <th>departure_time</th>\n",
       "      <th>stop_sequence</th>\n",
       "      <th>stop_name</th>\n",
       "      <th>stop_lat</th>\n",
       "      <th>stop_lon</th>\n",
       "      <th>trip_headsign</th>\n",
       "      <th>trip_short_name</th>\n",
       "      <th>direction_id</th>\n",
       "      <th>departure_first_stop</th>\n",
       "      <th>route_int</th>\n",
       "      <th>stop_count</th>\n",
       "      <th>stop_int</th>\n",
       "      <th>route_desc</th>\n",
       "      <th>monotonically_increasing_id</th>\n",
       "    </tr>\n",
       "  </thead>\n",
       "  <tbody>\n",
       "    <tr>\n",
       "      <th>95873</th>\n",
       "      <td>110350</td>\n",
       "      <td>26-752-j19-1</td>\n",
       "      <td>8590551</td>\n",
       "      <td>190.TA.26-752-j19-1.4.R</td>\n",
       "      <td>8590551</td>\n",
       "      <td>2020-05-24 07:16:00</td>\n",
       "      <td>2020-05-24 07:16:00</td>\n",
       "      <td>11</td>\n",
       "      <td>Dübendorf, Branzenäsch</td>\n",
       "      <td>47.394665</td>\n",
       "      <td>8.631157</td>\n",
       "      <td>Dübendorf, Kunsteisbahn</td>\n",
       "      <td>1420</td>\n",
       "      <td>1</td>\n",
       "      <td>07:06:00</td>\n",
       "      <td>563</td>\n",
       "      <td>15</td>\n",
       "      <td>503</td>\n",
       "      <td>Bus</td>\n",
       "      <td>627065226053</td>\n",
       "    </tr>\n",
       "  </tbody>\n",
       "</table>\n",
       "</div>"
      ],
      "text/plain": [
       "        index      route_id  stop_id_general                  trip_id  \\\n",
       "95873  110350  26-752-j19-1          8590551  190.TA.26-752-j19-1.4.R   \n",
       "\n",
       "       stop_id        arrival_time      departure_time  stop_sequence  \\\n",
       "95873  8590551 2020-05-24 07:16:00 2020-05-24 07:16:00             11   \n",
       "\n",
       "                    stop_name   stop_lat  stop_lon            trip_headsign  \\\n",
       "95873  Dübendorf, Branzenäsch  47.394665  8.631157  Dübendorf, Kunsteisbahn   \n",
       "\n",
       "       trip_short_name  direction_id departure_first_stop  route_int  \\\n",
       "95873             1420             1             07:06:00        563   \n",
       "\n",
       "       stop_count  stop_int route_desc  monotonically_increasing_id  \n",
       "95873          15       503        Bus                 627065226053  "
      ]
     },
     "execution_count": 72,
     "metadata": {},
     "output_type": "execute_result"
    }
   ],
   "source": [
    "# Dübendorf, Branzenäsch\n",
    "stop_times[stop_times['stop_id_general']== 8590551].head(1)"
   ]
  },
  {
   "cell_type": "code",
   "execution_count": 73,
   "metadata": {},
   "outputs": [
    {
     "data": {
      "text/html": [
       "<div>\n",
       "<style scoped>\n",
       "    .dataframe tbody tr th:only-of-type {\n",
       "        vertical-align: middle;\n",
       "    }\n",
       "\n",
       "    .dataframe tbody tr th {\n",
       "        vertical-align: top;\n",
       "    }\n",
       "\n",
       "    .dataframe thead th {\n",
       "        text-align: right;\n",
       "    }\n",
       "</style>\n",
       "<table border=\"1\" class=\"dataframe\">\n",
       "  <thead>\n",
       "    <tr style=\"text-align: right;\">\n",
       "      <th></th>\n",
       "      <th>index</th>\n",
       "      <th>route_id</th>\n",
       "      <th>stop_id_general</th>\n",
       "      <th>trip_id</th>\n",
       "      <th>stop_id</th>\n",
       "      <th>arrival_time</th>\n",
       "      <th>departure_time</th>\n",
       "      <th>stop_sequence</th>\n",
       "      <th>stop_name</th>\n",
       "      <th>stop_lat</th>\n",
       "      <th>stop_lon</th>\n",
       "      <th>trip_headsign</th>\n",
       "      <th>trip_short_name</th>\n",
       "      <th>direction_id</th>\n",
       "      <th>departure_first_stop</th>\n",
       "      <th>route_int</th>\n",
       "      <th>stop_count</th>\n",
       "      <th>stop_int</th>\n",
       "      <th>route_desc</th>\n",
       "      <th>monotonically_increasing_id</th>\n",
       "    </tr>\n",
       "  </thead>\n",
       "  <tbody>\n",
       "    <tr>\n",
       "      <th>5304</th>\n",
       "      <td>51749</td>\n",
       "      <td>26-10-B-j19-1</td>\n",
       "      <td>8503057</td>\n",
       "      <td>181.TA.26-10-B-j19-1.9.H</td>\n",
       "      <td>8503057</td>\n",
       "      <td>2020-05-24 07:14:00</td>\n",
       "      <td>NaT</td>\n",
       "      <td>8</td>\n",
       "      <td>Uetliberg</td>\n",
       "      <td>47.352366</td>\n",
       "      <td>8.487651</td>\n",
       "      <td>Uetliberg</td>\n",
       "      <td>23511</td>\n",
       "      <td>0</td>\n",
       "      <td>07:03:00</td>\n",
       "      <td>62</td>\n",
       "      <td>4</td>\n",
       "      <td>415</td>\n",
       "      <td>S-Bahn</td>\n",
       "      <td>25769805095</td>\n",
       "    </tr>\n",
       "  </tbody>\n",
       "</table>\n",
       "</div>"
      ],
      "text/plain": [
       "      index       route_id  stop_id_general                   trip_id  \\\n",
       "5304  51749  26-10-B-j19-1          8503057  181.TA.26-10-B-j19-1.9.H   \n",
       "\n",
       "      stop_id        arrival_time departure_time  stop_sequence  stop_name  \\\n",
       "5304  8503057 2020-05-24 07:14:00            NaT              8  Uetliberg   \n",
       "\n",
       "       stop_lat  stop_lon trip_headsign  trip_short_name  direction_id  \\\n",
       "5304  47.352366  8.487651     Uetliberg            23511             0   \n",
       "\n",
       "     departure_first_stop  route_int  stop_count  stop_int route_desc  \\\n",
       "5304             07:03:00         62           4       415     S-Bahn   \n",
       "\n",
       "      monotonically_increasing_id  \n",
       "5304                  25769805095  "
      ]
     },
     "execution_count": 73,
     "metadata": {},
     "output_type": "execute_result"
    }
   ],
   "source": [
    "#  Uetliberg (stop 8503057)\n",
    "stop_times[stop_times['stop_id_general']== 8503057].head(1)"
   ]
  },
  {
   "cell_type": "markdown",
   "metadata": {},
   "source": [
    "A google maps search for footpaths between the coordinates yields a 14.5 km walk."
   ]
  },
  {
   "cell_type": "code",
   "execution_count": 74,
   "metadata": {},
   "outputs": [
    {
     "data": {
      "text/html": [
       "<div>\n",
       "<style scoped>\n",
       "    .dataframe tbody tr th:only-of-type {\n",
       "        vertical-align: middle;\n",
       "    }\n",
       "\n",
       "    .dataframe tbody tr th {\n",
       "        vertical-align: top;\n",
       "    }\n",
       "\n",
       "    .dataframe thead th {\n",
       "        text-align: right;\n",
       "    }\n",
       "</style>\n",
       "<table border=\"1\" class=\"dataframe\">\n",
       "  <thead>\n",
       "    <tr style=\"text-align: right;\">\n",
       "      <th></th>\n",
       "      <th>index</th>\n",
       "      <th>stop_id_general</th>\n",
       "      <th>stop_int</th>\n",
       "      <th>stop_lat_first</th>\n",
       "      <th>stop_lon_first</th>\n",
       "      <th>stop_name_first</th>\n",
       "      <th>stop_id_general_2</th>\n",
       "      <th>stop_int_2</th>\n",
       "      <th>stop_lat_first_2</th>\n",
       "      <th>stop_lon_first_2</th>\n",
       "      <th>stop_name_first_2</th>\n",
       "      <th>distance</th>\n",
       "      <th>walking_time</th>\n",
       "      <th>monotonically_increasing_id</th>\n",
       "    </tr>\n",
       "  </thead>\n",
       "  <tbody>\n",
       "    <tr>\n",
       "      <th>2256</th>\n",
       "      <td>2938</td>\n",
       "      <td>8590551</td>\n",
       "      <td>503</td>\n",
       "      <td>47.394665</td>\n",
       "      <td>8.631157</td>\n",
       "      <td>Dübendorf, Branzenäsch</td>\n",
       "      <td>8590587</td>\n",
       "      <td>414</td>\n",
       "      <td>47.393053</td>\n",
       "      <td>8.633367</td>\n",
       "      <td>Dübendorf, Sonnenberg</td>\n",
       "      <td>0.244501</td>\n",
       "      <td>293</td>\n",
       "      <td>618475290624</td>\n",
       "    </tr>\n",
       "    <tr>\n",
       "      <th>2257</th>\n",
       "      <td>2939</td>\n",
       "      <td>8590551</td>\n",
       "      <td>503</td>\n",
       "      <td>47.394665</td>\n",
       "      <td>8.631157</td>\n",
       "      <td>Dübendorf, Branzenäsch</td>\n",
       "      <td>8590555</td>\n",
       "      <td>599</td>\n",
       "      <td>47.394877</td>\n",
       "      <td>8.628714</td>\n",
       "      <td>Dübendorf, Claridenstrasse</td>\n",
       "      <td>0.185439</td>\n",
       "      <td>222</td>\n",
       "      <td>618475290625</td>\n",
       "    </tr>\n",
       "    <tr>\n",
       "      <th>2258</th>\n",
       "      <td>2940</td>\n",
       "      <td>8590551</td>\n",
       "      <td>503</td>\n",
       "      <td>47.394665</td>\n",
       "      <td>8.631157</td>\n",
       "      <td>Dübendorf, Branzenäsch</td>\n",
       "      <td>8590581</td>\n",
       "      <td>886</td>\n",
       "      <td>47.391557</td>\n",
       "      <td>8.634876</td>\n",
       "      <td>Dübendorf, Raubbühl</td>\n",
       "      <td>0.444715</td>\n",
       "      <td>533</td>\n",
       "      <td>618475290626</td>\n",
       "    </tr>\n",
       "    <tr>\n",
       "      <th>2259</th>\n",
       "      <td>2941</td>\n",
       "      <td>8590551</td>\n",
       "      <td>503</td>\n",
       "      <td>47.394665</td>\n",
       "      <td>8.631157</td>\n",
       "      <td>Dübendorf, Branzenäsch</td>\n",
       "      <td>8590550</td>\n",
       "      <td>931</td>\n",
       "      <td>47.397048</td>\n",
       "      <td>8.625614</td>\n",
       "      <td>Dübendorf, Bettlistrasse</td>\n",
       "      <td>0.494279</td>\n",
       "      <td>593</td>\n",
       "      <td>618475290627</td>\n",
       "    </tr>\n",
       "    <tr>\n",
       "      <th>2260</th>\n",
       "      <td>2942</td>\n",
       "      <td>8590551</td>\n",
       "      <td>503</td>\n",
       "      <td>47.394665</td>\n",
       "      <td>8.631157</td>\n",
       "      <td>Dübendorf, Branzenäsch</td>\n",
       "      <td>8590590</td>\n",
       "      <td>1226</td>\n",
       "      <td>47.390535</td>\n",
       "      <td>8.632469</td>\n",
       "      <td>Dübendorf, Sunnhalde</td>\n",
       "      <td>0.469644</td>\n",
       "      <td>563</td>\n",
       "      <td>618475290628</td>\n",
       "    </tr>\n",
       "    <tr>\n",
       "      <th>2261</th>\n",
       "      <td>2943</td>\n",
       "      <td>8590551</td>\n",
       "      <td>503</td>\n",
       "      <td>47.394665</td>\n",
       "      <td>8.631157</td>\n",
       "      <td>Dübendorf, Branzenäsch</td>\n",
       "      <td>8590562</td>\n",
       "      <td>1244</td>\n",
       "      <td>47.396240</td>\n",
       "      <td>8.629935</td>\n",
       "      <td>Dübendorf, Glärnischstrasse</td>\n",
       "      <td>0.197806</td>\n",
       "      <td>237</td>\n",
       "      <td>618475290629</td>\n",
       "    </tr>\n",
       "    <tr>\n",
       "      <th>2262</th>\n",
       "      <td>2944</td>\n",
       "      <td>8590551</td>\n",
       "      <td>503</td>\n",
       "      <td>47.394665</td>\n",
       "      <td>8.631157</td>\n",
       "      <td>Dübendorf, Branzenäsch</td>\n",
       "      <td>8590549</td>\n",
       "      <td>1392</td>\n",
       "      <td>47.394817</td>\n",
       "      <td>8.634580</td>\n",
       "      <td>Dübendorf, Bauhof</td>\n",
       "      <td>0.258181</td>\n",
       "      <td>309</td>\n",
       "      <td>618475290630</td>\n",
       "    </tr>\n",
       "  </tbody>\n",
       "</table>\n",
       "</div>"
      ],
      "text/plain": [
       "      index  stop_id_general  stop_int  stop_lat_first  stop_lon_first  \\\n",
       "2256   2938          8590551       503       47.394665        8.631157   \n",
       "2257   2939          8590551       503       47.394665        8.631157   \n",
       "2258   2940          8590551       503       47.394665        8.631157   \n",
       "2259   2941          8590551       503       47.394665        8.631157   \n",
       "2260   2942          8590551       503       47.394665        8.631157   \n",
       "2261   2943          8590551       503       47.394665        8.631157   \n",
       "2262   2944          8590551       503       47.394665        8.631157   \n",
       "\n",
       "             stop_name_first  stop_id_general_2  stop_int_2  stop_lat_first_2  \\\n",
       "2256  Dübendorf, Branzenäsch            8590587         414         47.393053   \n",
       "2257  Dübendorf, Branzenäsch            8590555         599         47.394877   \n",
       "2258  Dübendorf, Branzenäsch            8590581         886         47.391557   \n",
       "2259  Dübendorf, Branzenäsch            8590550         931         47.397048   \n",
       "2260  Dübendorf, Branzenäsch            8590590        1226         47.390535   \n",
       "2261  Dübendorf, Branzenäsch            8590562        1244         47.396240   \n",
       "2262  Dübendorf, Branzenäsch            8590549        1392         47.394817   \n",
       "\n",
       "      stop_lon_first_2            stop_name_first_2  distance  walking_time  \\\n",
       "2256          8.633367        Dübendorf, Sonnenberg  0.244501           293   \n",
       "2257          8.628714   Dübendorf, Claridenstrasse  0.185439           222   \n",
       "2258          8.634876          Dübendorf, Raubbühl  0.444715           533   \n",
       "2259          8.625614     Dübendorf, Bettlistrasse  0.494279           593   \n",
       "2260          8.632469         Dübendorf, Sunnhalde  0.469644           563   \n",
       "2261          8.629935  Dübendorf, Glärnischstrasse  0.197806           237   \n",
       "2262          8.634580            Dübendorf, Bauhof  0.258181           309   \n",
       "\n",
       "      monotonically_increasing_id  \n",
       "2256                 618475290624  \n",
       "2257                 618475290625  \n",
       "2258                 618475290626  \n",
       "2259                 618475290627  \n",
       "2260                 618475290628  \n",
       "2261                 618475290629  \n",
       "2262                 618475290630  "
      ]
     },
     "execution_count": 74,
     "metadata": {},
     "output_type": "execute_result"
    }
   ],
   "source": [
    "# footpaths from Dübendorf, Branzenäsch\n",
    "transfers[transfers['stop_id_general']== 8590551]"
   ]
  },
  {
   "cell_type": "markdown",
   "metadata": {},
   "source": [
    "No sign of Uetliberg here."
   ]
  },
  {
   "cell_type": "code",
   "execution_count": 75,
   "metadata": {},
   "outputs": [
    {
     "data": {
      "text/html": [
       "<div>\n",
       "<style scoped>\n",
       "    .dataframe tbody tr th:only-of-type {\n",
       "        vertical-align: middle;\n",
       "    }\n",
       "\n",
       "    .dataframe tbody tr th {\n",
       "        vertical-align: top;\n",
       "    }\n",
       "\n",
       "    .dataframe thead th {\n",
       "        text-align: right;\n",
       "    }\n",
       "</style>\n",
       "<table border=\"1\" class=\"dataframe\">\n",
       "  <thead>\n",
       "    <tr style=\"text-align: right;\">\n",
       "      <th></th>\n",
       "      <th>index</th>\n",
       "      <th>stop_id_general</th>\n",
       "      <th>stop_int</th>\n",
       "      <th>stop_lat_first</th>\n",
       "      <th>stop_lon_first</th>\n",
       "      <th>stop_name_first</th>\n",
       "      <th>stop_id_general_2</th>\n",
       "      <th>stop_int_2</th>\n",
       "      <th>stop_lat_first_2</th>\n",
       "      <th>stop_lon_first_2</th>\n",
       "      <th>stop_name_first_2</th>\n",
       "      <th>distance</th>\n",
       "      <th>walking_time</th>\n",
       "      <th>monotonically_increasing_id</th>\n",
       "    </tr>\n",
       "  </thead>\n",
       "  <tbody>\n",
       "  </tbody>\n",
       "</table>\n",
       "</div>"
      ],
      "text/plain": [
       "Empty DataFrame\n",
       "Columns: [index, stop_id_general, stop_int, stop_lat_first, stop_lon_first, stop_name_first, stop_id_general_2, stop_int_2, stop_lat_first_2, stop_lon_first_2, stop_name_first_2, distance, walking_time, monotonically_increasing_id]\n",
       "Index: []"
      ]
     },
     "execution_count": 75,
     "metadata": {},
     "output_type": "execute_result"
    }
   ],
   "source": [
    "# transfers from Uetliberg (stop 8503057)\n",
    "transfers[transfers['stop_id_general']== 8503057]"
   ]
  },
  {
   "cell_type": "markdown",
   "metadata": {},
   "source": [
    "Again, utliberg has no footpaths, like Dallikon Industrie in the previous bug."
   ]
  },
  {
   "cell_type": "code",
   "execution_count": 79,
   "metadata": {},
   "outputs": [
    {
     "data": {
      "text/plain": [
       "array([[5599, 2253.0],\n",
       "       [5603, 2256.0],\n",
       "       [5606, 2263.0]], dtype=object)"
      ]
     },
     "execution_count": 79,
     "metadata": {},
     "output_type": "execute_result"
    }
   ],
   "source": [
    "# footpaths from Dübendorf, Branzenäsch\n",
    "stop_int = 503\n",
    "stops[stop_int-1:stop_int+2]"
   ]
  },
  {
   "cell_type": "code",
   "execution_count": 80,
   "metadata": {},
   "outputs": [
    {
     "data": {
      "text/plain": [
       "array([[ 414,  293],\n",
       "       [ 599,  222],\n",
       "       [ 886,  533],\n",
       "       [ 931,  593],\n",
       "       [1226,  563],\n",
       "       [1244,  237],\n",
       "       [1392,  309]])"
      ]
     },
     "execution_count": 80,
     "metadata": {},
     "output_type": "execute_result"
    }
   ],
   "source": [
    "transfer_array[int(stops[stop_int][1]):int(stops[stop_int+1][1])]"
   ]
  },
  {
   "cell_type": "markdown",
   "metadata": {},
   "source": [
    "Notice here again that the first transfer from Dübendorf, Branzenäsch goes to stop_int= 414, which is one less than the stop_int of Utliberg (415)"
   ]
  },
  {
   "cell_type": "code",
   "execution_count": 81,
   "metadata": {},
   "outputs": [
    {
     "data": {
      "text/plain": [
       "array([[4850, 1901.0],\n",
       "       [4853, nan],\n",
       "       [4860, 1907.0]], dtype=object)"
      ]
     },
     "execution_count": 81,
     "metadata": {},
     "output_type": "execute_result"
    }
   ],
   "source": [
    "# footpahts from Utliberg:\n",
    "stop_int = 415\n",
    "stops[stop_int-1:stop_int+2]"
   ]
  },
  {
   "cell_type": "code",
   "execution_count": 83,
   "metadata": {},
   "outputs": [
    {
     "ename": "ValueError",
     "evalue": "cannot convert float NaN to integer",
     "output_type": "error",
     "traceback": [
      "\u001b[0;31m---------------------------------------------------------------------------\u001b[0m",
      "\u001b[0;31mValueError\u001b[0m                                Traceback (most recent call last)",
      "\u001b[0;32m<ipython-input-83-84fe17e7a4a7>\u001b[0m in \u001b[0;36m<module>\u001b[0;34m\u001b[0m\n\u001b[1;32m      1\u001b[0m \u001b[0;31m# expected to fail: accessing a none pointer\u001b[0m\u001b[0;34m\u001b[0m\u001b[0;34m\u001b[0m\u001b[0;34m\u001b[0m\u001b[0m\n\u001b[0;32m----> 2\u001b[0;31m \u001b[0mtransfer_array\u001b[0m\u001b[0;34m[\u001b[0m\u001b[0mint\u001b[0m\u001b[0;34m(\u001b[0m\u001b[0mstops\u001b[0m\u001b[0;34m[\u001b[0m\u001b[0mstop_int\u001b[0m\u001b[0;34m]\u001b[0m\u001b[0;34m[\u001b[0m\u001b[0;36m1\u001b[0m\u001b[0;34m]\u001b[0m\u001b[0;34m)\u001b[0m\u001b[0;34m:\u001b[0m\u001b[0mint\u001b[0m\u001b[0;34m(\u001b[0m\u001b[0mstops\u001b[0m\u001b[0;34m[\u001b[0m\u001b[0mstop_int\u001b[0m\u001b[0;34m+\u001b[0m\u001b[0;36m1\u001b[0m\u001b[0;34m]\u001b[0m\u001b[0;34m[\u001b[0m\u001b[0;36m1\u001b[0m\u001b[0;34m]\u001b[0m\u001b[0;34m)\u001b[0m\u001b[0;34m]\u001b[0m\u001b[0;34m\u001b[0m\u001b[0;34m\u001b[0m\u001b[0m\n\u001b[0m",
      "\u001b[0;31mValueError\u001b[0m: cannot convert float NaN to integer"
     ]
    }
   ],
   "source": [
    "# expected to fail: accessing a none pointer\n",
    "transfer_array[int(stops[stop_int][1]):int(stops[stop_int+1][1])]"
   ]
  },
  {
   "cell_type": "code",
   "execution_count": 84,
   "metadata": {},
   "outputs": [
    {
     "ename": "ValueError",
     "evalue": "cannot convert float NaN to integer",
     "output_type": "error",
     "traceback": [
      "\u001b[0;31m---------------------------------------------------------------------------\u001b[0m",
      "\u001b[0;31mValueError\u001b[0m                                Traceback (most recent call last)",
      "\u001b[0;32m<ipython-input-84-e489285f87ed>\u001b[0m in \u001b[0;36m<module>\u001b[0;34m\u001b[0m\n\u001b[0;32m----> 1\u001b[0;31m \u001b[0mtransfer_array\u001b[0m\u001b[0;34m[\u001b[0m\u001b[0mint\u001b[0m\u001b[0;34m(\u001b[0m\u001b[0mstops\u001b[0m\u001b[0;34m[\u001b[0m\u001b[0mstop_int\u001b[0m\u001b[0;34m]\u001b[0m\u001b[0;34m[\u001b[0m\u001b[0;36m1\u001b[0m\u001b[0;34m]\u001b[0m\u001b[0;34m)\u001b[0m\u001b[0;34m-\u001b[0m\u001b[0;36m1\u001b[0m\u001b[0;34m:\u001b[0m\u001b[0mint\u001b[0m\u001b[0;34m(\u001b[0m\u001b[0mstops\u001b[0m\u001b[0;34m[\u001b[0m\u001b[0mstop_int\u001b[0m\u001b[0;34m+\u001b[0m\u001b[0;36m1\u001b[0m\u001b[0;34m]\u001b[0m\u001b[0;34m[\u001b[0m\u001b[0;36m1\u001b[0m\u001b[0;34m]\u001b[0m\u001b[0;34m)\u001b[0m\u001b[0;34m+\u001b[0m\u001b[0;36m1\u001b[0m\u001b[0;34m]\u001b[0m\u001b[0;34m\u001b[0m\u001b[0;34m\u001b[0m\u001b[0m\n\u001b[0m",
      "\u001b[0;31mValueError\u001b[0m: cannot convert float NaN to integer"
     ]
    }
   ],
   "source": [
    "transfer_array[int(stops[stop_int][1]):int(stops[stop_int+1][1])]"
   ]
  },
  {
   "cell_type": "code",
   "execution_count": 85,
   "metadata": {},
   "outputs": [
    {
     "data": {
      "text/plain": [
       "array([[ 503,  293],\n",
       "       [ 599,  485],\n",
       "       [ 886,  241],\n",
       "       [1226,  345],\n",
       "       [1244,  526],\n",
       "       [1392,  259]])"
      ]
     },
     "execution_count": 85,
     "metadata": {},
     "output_type": "execute_result"
    }
   ],
   "source": [
    "transfer_array[int(stops[stop_int-1][1]):int(stops[stop_int+1][1])]"
   ]
  },
  {
   "cell_type": "markdown",
   "metadata": {},
   "source": [
    "Again, the first entry of transfer_array[stop_int-1] is 503, the stop_int of Dübendorf, Branzenäsch !"
   ]
  },
  {
   "cell_type": "markdown",
   "metadata": {},
   "source": [
    "## Testing Felix's stop conversion:"
   ]
  },
  {
   "cell_type": "code",
   "execution_count": 6,
   "metadata": {},
   "outputs": [
    {
     "data": {
      "text/plain": [
       "array([False])"
      ]
     },
     "execution_count": 6,
     "metadata": {},
     "output_type": "execute_result"
    }
   ],
   "source": [
    "np.isnan(np.arange(1))"
   ]
  },
  {
   "cell_type": "code",
   "execution_count": 7,
   "metadata": {},
   "outputs": [
    {
     "name": "stdout",
     "output_type": "stream",
     "text": [
      "[ 0 75]\n",
      "[0 0]\n",
      "(1407, 2)\n",
      "[ 0  0  0 75]\n"
     ]
    },
    {
     "data": {
      "text/plain": [
       "array([[    0,    11,     0,     2],\n",
       "       [   11,    20,     2,     7],\n",
       "       [   20,    38,     7,    22],\n",
       "       ...,\n",
       "       [15303, 15334,  6242,  6250],\n",
       "       [15334, 15339,  6250,  6257],\n",
       "       [15339, 15344,  6257,  6264]], dtype=uint32)"
      ]
     },
     "execution_count": 7,
     "metadata": {},
     "output_type": "execute_result"
    }
   ],
   "source": [
    "stops = pkload(\"../data/stops_array_cyril.pkl\")\n",
    "stopRoutes = pkload(\"../data/stop_routes_array_cyril.pkl\")\n",
    "print(np.isnan(stops.astype(np.float64)).sum(axis=0))\n",
    "print(np.equal(stops, None).sum(axis=0))\n",
    "print(stops.shape)\n",
    "stops = stops[:,[0,0,1,1]]\n",
    "# Make column 1 contain the start_index of the next stop in stopRoutes\n",
    "stops[:-1,1] = stops[1:,0]\n",
    "stops[-1, 1] = stopRoutes.shape[0]\n",
    "# Make column 3 contain the start_index of the next stop in stopRoutes\n",
    "if np.isnan(stops[-1,2]).item():\n",
    "    stops[-1,2] = transfers.shape[0]\n",
    "for i in np.isnan(stops[:-1,2].astype(np.float64)).nonzero()[0][::-1]:\n",
    "    stops[i,2] = stops[i+1,2]\n",
    "print(np.isnan(stops.astype(np.float64)).sum(axis=0))\n",
    "stops[:-1,3] = stops[1:,2]\n",
    "stops[-1, 3] = transfers.shape[0]\n",
    "# Convert to int\n",
    "stops = stops.astype(np.uint32)\n",
    "stops"
   ]
  },
  {
   "cell_type": "code",
   "execution_count": 8,
   "metadata": {},
   "outputs": [
    {
     "data": {
      "text/plain": [
       "array([[5599, 5603, 2253, 2256],\n",
       "       [5603, 5606, 2256, 2263],\n",
       "       [5606, 5615, 2263, 2266]], dtype=uint32)"
      ]
     },
     "execution_count": 8,
     "metadata": {},
     "output_type": "execute_result"
    }
   ],
   "source": [
    "# footpaths from Dübendorf, Branzenäsch\n",
    "stop_int = 503\n",
    "stops[stop_int-1:stop_int+2]"
   ]
  },
  {
   "cell_type": "code",
   "execution_count": 9,
   "metadata": {},
   "outputs": [
    {
     "data": {
      "text/plain": [
       "array([[ 414,  293],\n",
       "       [ 599,  222],\n",
       "       [ 886,  533],\n",
       "       [ 931,  593],\n",
       "       [1226,  563],\n",
       "       [1244,  237],\n",
       "       [1392,  309]])"
      ]
     },
     "execution_count": 9,
     "metadata": {},
     "output_type": "execute_result"
    }
   ],
   "source": [
    "transfer_array[stops[stop_int][2]:stops[stop_int][3]]"
   ]
  },
  {
   "cell_type": "code",
   "execution_count": 10,
   "metadata": {},
   "outputs": [
    {
     "data": {
      "text/plain": [
       "array([[4850, 4853, 1901, 1907],\n",
       "       [4853, 4860, 1907, 1907],\n",
       "       [4860, 4885, 1907, 1914]], dtype=uint32)"
      ]
     },
     "execution_count": 10,
     "metadata": {},
     "output_type": "execute_result"
    }
   ],
   "source": [
    "# footpaths from utliberg\n",
    "# footpahts from Utliberg:\n",
    "stop_int = 415\n",
    "stops[stop_int-1:stop_int+2]\n"
   ]
  },
  {
   "cell_type": "markdown",
   "metadata": {},
   "source": [
    "There's the bug ! The pointers for transfer_array in the first entry shows 1901, 1901 when it should in fact be the second entry that shows 1901, 1901. The first entry should show (1901, 1907) (see cell nr 81)."
   ]
  }
 ],
 "metadata": {
  "kernelspec": {
   "display_name": "Python 3",
   "language": "python",
   "name": "python3"
  },
  "language_info": {
   "codemirror_mode": {
    "name": "ipython",
    "version": 3
   },
   "file_extension": ".py",
   "mimetype": "text/x-python",
   "name": "python",
   "nbconvert_exporter": "python",
   "pygments_lexer": "ipython3",
   "version": "3.7.6"
  }
 },
 "nbformat": 4,
 "nbformat_minor": 4
}
